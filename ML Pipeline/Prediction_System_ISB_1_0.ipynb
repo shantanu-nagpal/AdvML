{
  "cells": [
    {
      "cell_type": "markdown",
      "metadata": {
        "id": "NPCIatso56pY"
      },
      "source": [
        "## Prediction/Inference System\n",
        "\n",
        "## Loading the saved model"
      ]
    },
    {
      "cell_type": "code",
      "execution_count": null,
      "metadata": {
        "colab": {
          "base_uri": "https://localhost:8080/"
        },
        "id": "RpB-QQcE56pc",
        "outputId": "e554923d-cb02-432b-9733-fbf6cfd1f573"
      },
      "outputs": [
        {
          "name": "stdout",
          "output_type": "stream",
          "text": [
            "1.0.2\n"
          ]
        }
      ],
      "source": [
        "import pandas as pd\n",
        "from joblib import load\n",
        "import warnings \n",
        "warnings.filterwarnings(\"ignore\")\n",
        "#from sklearn.externals import joblib for older apis\n",
        "#from sklearn.externals import joblib\n",
        "import sklearn\n",
        "print(sklearn.__version__)"
      ]
    },
    {
      "cell_type": "code",
      "execution_count": null,
      "metadata": {
        "id": "2zl3ioiJ56pe"
      },
      "outputs": [],
      "source": [
        "class CarPredictionModel():\n",
        "    \n",
        "    def __init__(self, model, features, rmse):\n",
        "        self.model = model\n",
        "        self.features = features\n",
        "        self.rmse = rmse"
      ]
    },
    {
      "cell_type": "code",
      "execution_count": null,
      "metadata": {
        "id": "y7SxeoPD56pf"
      },
      "outputs": [],
      "source": [
        "model_v1 = load(\"cars_v1.pkl\")\n",
        "# For older APIs\n",
        "#model_v1 = joblib.load('./cars.pkl')"
      ]
    },
    {
      "cell_type": "code",
      "execution_count": null,
      "metadata": {
        "colab": {
          "base_uri": "https://localhost:8080/"
        },
        "id": "KKfxOuiy56pf",
        "outputId": "c715bb0d-a83b-44d3-fb6e-bb3304a8153a"
      },
      "outputs": [
        {
          "data": {
            "text/plain": [
              "__main__.CarPredictionModel"
            ]
          },
          "execution_count": 4,
          "metadata": {},
          "output_type": "execute_result"
        }
      ],
      "source": [
        "type(model_v1)"
      ]
    },
    {
      "cell_type": "code",
      "execution_count": null,
      "metadata": {
        "colab": {
          "base_uri": "https://localhost:8080/"
        },
        "id": "jMB0ET0D56pg",
        "outputId": "16bba8c0-1ce6-4897-eb3f-7cc4f869680e"
      },
      "outputs": [
        {
          "data": {
            "text/plain": [
              "Pipeline(steps=[('preprocessor',\n",
              "                 ColumnTransformer(transformers=[('num_imputed',\n",
              "                                                  Pipeline(steps=[('imputation',\n",
              "                                                                   SimpleImputer()),\n",
              "                                                                  ('scaler',\n",
              "                                                                   StandardScaler())]),\n",
              "                                                  ['Seats']),\n",
              "                                                 ('num_not_imputed',\n",
              "                                                  Pipeline(steps=[('scaler',\n",
              "                                                                   StandardScaler())]),\n",
              "                                                  ['age', 'engine_new',\n",
              "                                                   'mileage_new', 'power_new',\n",
              "                                                   'KM_Driven']),\n",
              "                                                 ('catvars',\n",
              "                                                  Pipeline(steps=[('ohencoder',\n",
              "                                                                   OneHotEncoder(handle_unknown='ignore'))]),\n",
              "                                                  ['Fuel_Type', 'Transmission',\n",
              "                                                   'Owner_Type', 'make',\n",
              "                                                   'Location'])])),\n",
              "                ('knn', KNeighborsRegressor(weights='distance'))])"
            ]
          },
          "execution_count": 5,
          "metadata": {},
          "output_type": "execute_result"
        }
      ],
      "source": [
        "model_v1.model"
      ]
    },
    {
      "cell_type": "code",
      "execution_count": null,
      "metadata": {
        "colab": {
          "base_uri": "https://localhost:8080/"
        },
        "id": "Ty6fVhKL56pg",
        "outputId": "39063472-d249-4035-f26e-254c37b12394"
      },
      "outputs": [
        {
          "data": {
            "text/plain": [
              "0.9598310841411447"
            ]
          },
          "execution_count": 6,
          "metadata": {},
          "output_type": "execute_result"
        }
      ],
      "source": [
        "model_v1.rmse"
      ]
    },
    {
      "cell_type": "code",
      "execution_count": null,
      "metadata": {
        "colab": {
          "base_uri": "https://localhost:8080/"
        },
        "id": "mDcfZNCL56ph",
        "outputId": "faa4408b-d335-48a0-8bf6-b8dbbdda0fa6"
      },
      "outputs": [
        {
          "data": {
            "text/plain": [
              "['KM_Driven',\n",
              " 'Fuel_Type',\n",
              " 'age',\n",
              " 'Transmission',\n",
              " 'Owner_Type',\n",
              " 'Seats',\n",
              " 'make',\n",
              " 'mileage_new',\n",
              " 'engine_new',\n",
              " 'power_new',\n",
              " 'Location']"
            ]
          },
          "execution_count": 7,
          "metadata": {},
          "output_type": "execute_result"
        }
      ],
      "source": [
        "model_v1.features"
      ]
    },
    {
      "cell_type": "markdown",
      "metadata": {
        "id": "or2vDsgM56ph"
      },
      "source": [
        "### Preparing the record for prediction"
      ]
    },
    {
      "cell_type": "code",
      "execution_count": null,
      "metadata": {
        "id": "zKIxTBlf56pi"
      },
      "outputs": [],
      "source": [
        "car_dict = {\n",
        "            'age': 2,\n",
        "            'KM_Driven' : 5.5, \n",
        "            'Fuel_Type' : 'Petrol',\n",
        "            'Transmission': 'Manual', \n",
        "            'Owner_Type': 'First', \n",
        "            'Seats' : 5,\n",
        "            'make': 'maruti',\n",
        "            'mileage_new' : 16, \n",
        "            'engine_new': 1000,\n",
        "            'power_new': 90,\n",
        "            'Location': 'Bangalore'\n",
        "            }"
      ]
    },
    {
      "cell_type": "code",
      "execution_count": null,
      "metadata": {
        "id": "1uDrP_Bq56pj"
      },
      "outputs": [],
      "source": [
        "my_car = {}\n",
        "for key in model_v1.features:\n",
        "    my_car[key] = 0"
      ]
    },
    {
      "cell_type": "code",
      "execution_count": null,
      "metadata": {
        "id": "IjAHT97o56pj"
      },
      "outputs": [],
      "source": [
        "for key in car_dict:\n",
        "    my_car[key] = car_dict[key]"
      ]
    },
    {
      "cell_type": "code",
      "execution_count": null,
      "metadata": {
        "colab": {
          "base_uri": "https://localhost:8080/"
        },
        "id": "QEO6U1G556pj",
        "outputId": "0e53eba2-a11e-490c-e221-48048eef821b"
      },
      "outputs": [
        {
          "data": {
            "text/plain": [
              "{'KM_Driven': 5.5,\n",
              " 'Fuel_Type': 'Petrol',\n",
              " 'age': 2,\n",
              " 'Transmission': 'Manual',\n",
              " 'Owner_Type': 'First',\n",
              " 'Seats': 5,\n",
              " 'make': 'maruti',\n",
              " 'mileage_new': 16,\n",
              " 'engine_new': 1000,\n",
              " 'power_new': 90,\n",
              " 'Location': 'Bangalore'}"
            ]
          },
          "execution_count": 11,
          "metadata": {},
          "output_type": "execute_result"
        }
      ],
      "source": [
        "my_car"
      ]
    },
    {
      "cell_type": "markdown",
      "metadata": {
        "id": "ibUsiafKynx5"
      },
      "source": [
        "### Creating the dataframe for prediction"
      ]
    },
    {
      "cell_type": "code",
      "execution_count": null,
      "metadata": {
        "id": "oe5qoaWM56pk"
      },
      "outputs": [],
      "source": [
        "df = pd.DataFrame(my_car, index = [0])"
      ]
    },
    {
      "cell_type": "code",
      "execution_count": null,
      "metadata": {
        "colab": {
          "base_uri": "https://localhost:8080/",
          "height": 81
        },
        "id": "4RjOZvpn56pk",
        "outputId": "a443a777-b84b-48eb-87e1-b9f611c3659e"
      },
      "outputs": [
        {
          "data": {
            "text/html": [
              "<div>\n",
              "<style scoped>\n",
              "    .dataframe tbody tr th:only-of-type {\n",
              "        vertical-align: middle;\n",
              "    }\n",
              "\n",
              "    .dataframe tbody tr th {\n",
              "        vertical-align: top;\n",
              "    }\n",
              "\n",
              "    .dataframe thead th {\n",
              "        text-align: right;\n",
              "    }\n",
              "</style>\n",
              "<table border=\"1\" class=\"dataframe\">\n",
              "  <thead>\n",
              "    <tr style=\"text-align: right;\">\n",
              "      <th></th>\n",
              "      <th>KM_Driven</th>\n",
              "      <th>Fuel_Type</th>\n",
              "      <th>age</th>\n",
              "      <th>Transmission</th>\n",
              "      <th>Owner_Type</th>\n",
              "      <th>Seats</th>\n",
              "      <th>make</th>\n",
              "      <th>mileage_new</th>\n",
              "      <th>engine_new</th>\n",
              "      <th>power_new</th>\n",
              "      <th>Location</th>\n",
              "    </tr>\n",
              "  </thead>\n",
              "  <tbody>\n",
              "    <tr>\n",
              "      <th>0</th>\n",
              "      <td>5.5</td>\n",
              "      <td>Petrol</td>\n",
              "      <td>2</td>\n",
              "      <td>Manual</td>\n",
              "      <td>First</td>\n",
              "      <td>5</td>\n",
              "      <td>maruti</td>\n",
              "      <td>16</td>\n",
              "      <td>1000</td>\n",
              "      <td>90</td>\n",
              "      <td>Bangalore</td>\n",
              "    </tr>\n",
              "  </tbody>\n",
              "</table>\n",
              "</div>"
            ],
            "text/plain": [
              "   KM_Driven Fuel_Type  age Transmission Owner_Type  Seats    make  \\\n",
              "0        5.5    Petrol    2       Manual      First      5  maruti   \n",
              "\n",
              "   mileage_new  engine_new  power_new   Location  \n",
              "0           16        1000         90  Bangalore  "
            ]
          },
          "execution_count": 13,
          "metadata": {},
          "output_type": "execute_result"
        }
      ],
      "source": [
        "df"
      ]
    },
    {
      "cell_type": "code",
      "execution_count": null,
      "metadata": {
        "colab": {
          "base_uri": "https://localhost:8080/"
        },
        "id": "uJ7t11_J56pk",
        "outputId": "f494be62-5b00-4a2d-b37f-b5b10906ea36"
      },
      "outputs": [
        {
          "data": {
            "text/plain": [
              "(1, 11)"
            ]
          },
          "execution_count": 14,
          "metadata": {},
          "output_type": "execute_result"
        }
      ],
      "source": [
        "df.shape"
      ]
    },
    {
      "cell_type": "markdown",
      "metadata": {
        "id": "fA0TKWgD56pl"
      },
      "source": [
        "## Predicting the price of the used car"
      ]
    },
    {
      "cell_type": "code",
      "execution_count": null,
      "metadata": {
        "colab": {
          "base_uri": "https://localhost:8080/"
        },
        "id": "jbkUK7k056pl",
        "outputId": "ce032384-e9f1-4139-e77f-fe16be681e97"
      },
      "outputs": [
        {
          "data": {
            "text/plain": [
              "array([4.65464364])"
            ]
          },
          "execution_count": 15,
          "metadata": {},
          "output_type": "execute_result"
        }
      ],
      "source": [
        "model_v1.model.predict(df)"
      ]
    }
  ],
  "metadata": {
    "colab": {
      "name": "Prediction System ISB 1.0.ipynb",
      "provenance": []
    },
    "kernelspec": {
      "display_name": "Python 3",
      "language": "python",
      "name": "python3"
    },
    "language_info": {
      "codemirror_mode": {
        "name": "ipython",
        "version": 3
      },
      "file_extension": ".py",
      "mimetype": "text/x-python",
      "name": "python",
      "nbconvert_exporter": "python",
      "pygments_lexer": "ipython3",
      "version": "3.8.3"
    }
  },
  "nbformat": 4,
  "nbformat_minor": 0
}