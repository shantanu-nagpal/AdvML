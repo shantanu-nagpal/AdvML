{
  "cells": [
    {
      "cell_type": "markdown",
      "metadata": {
        "id": "-HoZzUgtw217"
      },
      "source": [
        "# Model Pipeline\n",
        "\n",
        "## Description of the problem.\n",
        "\n",
        "An used car listing website plans to provide a value added feature to their customers. Once the customer uploads details of the car they want to sale, the features should estimate the expected price at which the car can be sold. Currently, the customers list the car at resale price based on their own experience or judgement. But this results in either revenue loss for customers, if they list the car at lower price or no or delayed sale, if they list at very high price. This value-add feature will help customer to find customers early and right price. \n",
        "\n",
        "The website has collected the past car resales data and plan to leverage that to build a ML model to estimate the resale price.\n",
        "\n",
        "## Dataset\n",
        "\n",
        "The dataset has 12 features of each car and the price at which they were sold. These are cars that were sold in 2019.\n",
        "\n",
        "1. Id - Car's id. This is a sequence number.\n",
        "2. Name - The brand and model of the car.\n",
        "3. Location - The location in which the car is being sold or is available for purchase.\n",
        "4. Year - The year or edition of the model.\n",
        "5. Kilometers_Driven - The total kilometers are driven in the car by the previous owner(s) in KM.\n",
        "6. Fuel_Type - The type of fuel used by the car. (Petrol, Diesel, Electric, CNG, LPG)\n",
        "7. Transmission - The type of transmission used by the car. (Automatic / Manual)\n",
        "8. Owner_Type - First, Second, Third, or Fourth & Above\n",
        "9. Mileage - The standard mileage offered by the car company in kmpl or km/kg\n",
        "10. Engine - The displacement volume of the engine in CC.\n",
        "11. Power - The maximum power of the engine in bhp.\n",
        "12. Seats - The number of seats in the car.\n",
        "13. New_Price - The price of a new car of the same model.\n",
        "14. Price - The price of the car (target)."
      ]
    },
    {
      "cell_type": "markdown",
      "metadata": {
        "id": "BJ84YzgTw21_"
      },
      "source": [
        "### Load Dataset"
      ]
    },
    {
      "cell_type": "code",
      "execution_count": null,
      "metadata": {
        "id": "G5L_CTj3w21_"
      },
      "outputs": [],
      "source": [
        "import pandas as pd\n",
        "import numpy as np\n",
        "import matplotlib.pyplot as plt\n",
        "import seaborn as sn"
      ]
    },
    {
      "cell_type": "code",
      "execution_count": null,
      "metadata": {
        "id": "Eq48r_ddw22C"
      },
      "outputs": [],
      "source": [
        "cars_df = pd.read_csv( \"https://drive.google.com/uc?export=download&id=10-R6GyVWjt_gjWEFD86mKHDvSWD9lp1z\" )"
      ]
    },
    {
      "cell_type": "code",
      "execution_count": null,
      "metadata": {
        "colab": {
          "base_uri": "https://localhost:8080/",
          "height": 435
        },
        "id": "2w3n5IPYw22C",
        "outputId": "85f65b35-2d7e-4dbb-98ba-2e097d4848a6"
      },
      "outputs": [
        {
          "data": {
            "text/html": [
              "<div>\n",
              "<style scoped>\n",
              "    .dataframe tbody tr th:only-of-type {\n",
              "        vertical-align: middle;\n",
              "    }\n",
              "\n",
              "    .dataframe tbody tr th {\n",
              "        vertical-align: top;\n",
              "    }\n",
              "\n",
              "    .dataframe thead th {\n",
              "        text-align: right;\n",
              "    }\n",
              "</style>\n",
              "<table border=\"1\" class=\"dataframe\">\n",
              "  <thead>\n",
              "    <tr style=\"text-align: right;\">\n",
              "      <th></th>\n",
              "      <th>index</th>\n",
              "      <th>Name</th>\n",
              "      <th>Location</th>\n",
              "      <th>Year</th>\n",
              "      <th>Kilometers_Driven</th>\n",
              "      <th>Fuel_Type</th>\n",
              "      <th>Transmission</th>\n",
              "      <th>Owner_Type</th>\n",
              "      <th>Mileage</th>\n",
              "      <th>Engine</th>\n",
              "      <th>Power</th>\n",
              "      <th>Seats</th>\n",
              "      <th>New_Price</th>\n",
              "      <th>Price</th>\n",
              "      <th>age</th>\n",
              "      <th>KM_Driven</th>\n",
              "      <th>make</th>\n",
              "      <th>mileage_new</th>\n",
              "      <th>engine_new</th>\n",
              "      <th>power_new</th>\n",
              "    </tr>\n",
              "  </thead>\n",
              "  <tbody>\n",
              "    <tr>\n",
              "      <th>1310</th>\n",
              "      <td>2613</td>\n",
              "      <td>Maruti Swift Dzire LDI</td>\n",
              "      <td>Pune</td>\n",
              "      <td>2016</td>\n",
              "      <td>39000</td>\n",
              "      <td>Diesel</td>\n",
              "      <td>Manual</td>\n",
              "      <td>First</td>\n",
              "      <td>26.59 kmpl</td>\n",
              "      <td>1248 CC</td>\n",
              "      <td>74 bhp</td>\n",
              "      <td>5.0</td>\n",
              "      <td>NaN</td>\n",
              "      <td>5.80</td>\n",
              "      <td>3</td>\n",
              "      <td>39</td>\n",
              "      <td>maruti</td>\n",
              "      <td>26.59</td>\n",
              "      <td>1248.0</td>\n",
              "      <td>74.0</td>\n",
              "    </tr>\n",
              "    <tr>\n",
              "      <th>60</th>\n",
              "      <td>130</td>\n",
              "      <td>Maruti Ciaz VXi Plus</td>\n",
              "      <td>Kochi</td>\n",
              "      <td>2017</td>\n",
              "      <td>44285</td>\n",
              "      <td>Petrol</td>\n",
              "      <td>Manual</td>\n",
              "      <td>First</td>\n",
              "      <td>20.73 kmpl</td>\n",
              "      <td>1373 CC</td>\n",
              "      <td>91.1 bhp</td>\n",
              "      <td>5.0</td>\n",
              "      <td>NaN</td>\n",
              "      <td>7.47</td>\n",
              "      <td>2</td>\n",
              "      <td>44</td>\n",
              "      <td>maruti</td>\n",
              "      <td>20.73</td>\n",
              "      <td>1373.0</td>\n",
              "      <td>91.1</td>\n",
              "    </tr>\n",
              "    <tr>\n",
              "      <th>2849</th>\n",
              "      <td>5541</td>\n",
              "      <td>Chevrolet Beat Diesel LT</td>\n",
              "      <td>Chennai</td>\n",
              "      <td>2012</td>\n",
              "      <td>81000</td>\n",
              "      <td>Diesel</td>\n",
              "      <td>Manual</td>\n",
              "      <td>First</td>\n",
              "      <td>25.44 kmpl</td>\n",
              "      <td>936 CC</td>\n",
              "      <td>56.3 bhp</td>\n",
              "      <td>5.0</td>\n",
              "      <td>NaN</td>\n",
              "      <td>2.50</td>\n",
              "      <td>7</td>\n",
              "      <td>81</td>\n",
              "      <td>chevrolet</td>\n",
              "      <td>25.44</td>\n",
              "      <td>936.0</td>\n",
              "      <td>56.3</td>\n",
              "    </tr>\n",
              "    <tr>\n",
              "      <th>978</th>\n",
              "      <td>1917</td>\n",
              "      <td>Honda City 1.5 EXI</td>\n",
              "      <td>Jaipur</td>\n",
              "      <td>2005</td>\n",
              "      <td>88000</td>\n",
              "      <td>Petrol</td>\n",
              "      <td>Manual</td>\n",
              "      <td>Second</td>\n",
              "      <td>13.0 kmpl</td>\n",
              "      <td>1493 CC</td>\n",
              "      <td>100 bhp</td>\n",
              "      <td>NaN</td>\n",
              "      <td>NaN</td>\n",
              "      <td>1.70</td>\n",
              "      <td>14</td>\n",
              "      <td>88</td>\n",
              "      <td>honda</td>\n",
              "      <td>13.00</td>\n",
              "      <td>1493.0</td>\n",
              "      <td>100.0</td>\n",
              "    </tr>\n",
              "    <tr>\n",
              "      <th>656</th>\n",
              "      <td>1321</td>\n",
              "      <td>Ford Fiesta 1.4 Duratec EXI</td>\n",
              "      <td>Chennai</td>\n",
              "      <td>2007</td>\n",
              "      <td>100000</td>\n",
              "      <td>Petrol</td>\n",
              "      <td>Manual</td>\n",
              "      <td>First</td>\n",
              "      <td>16.6 kmpl</td>\n",
              "      <td>1388 CC</td>\n",
              "      <td>68 bhp</td>\n",
              "      <td>5.0</td>\n",
              "      <td>NaN</td>\n",
              "      <td>1.60</td>\n",
              "      <td>12</td>\n",
              "      <td>100</td>\n",
              "      <td>ford</td>\n",
              "      <td>16.60</td>\n",
              "      <td>1388.0</td>\n",
              "      <td>68.0</td>\n",
              "    </tr>\n",
              "  </tbody>\n",
              "</table>\n",
              "</div>"
            ],
            "text/plain": [
              "      index                         Name Location  Year  Kilometers_Driven  \\\n",
              "1310   2613       Maruti Swift Dzire LDI     Pune  2016              39000   \n",
              "60      130         Maruti Ciaz VXi Plus    Kochi  2017              44285   \n",
              "2849   5541     Chevrolet Beat Diesel LT  Chennai  2012              81000   \n",
              "978    1917           Honda City 1.5 EXI   Jaipur  2005              88000   \n",
              "656    1321  Ford Fiesta 1.4 Duratec EXI  Chennai  2007             100000   \n",
              "\n",
              "     Fuel_Type Transmission Owner_Type     Mileage   Engine     Power  Seats  \\\n",
              "1310    Diesel       Manual      First  26.59 kmpl  1248 CC    74 bhp    5.0   \n",
              "60      Petrol       Manual      First  20.73 kmpl  1373 CC  91.1 bhp    5.0   \n",
              "2849    Diesel       Manual      First  25.44 kmpl   936 CC  56.3 bhp    5.0   \n",
              "978     Petrol       Manual     Second   13.0 kmpl  1493 CC   100 bhp    NaN   \n",
              "656     Petrol       Manual      First   16.6 kmpl  1388 CC    68 bhp    5.0   \n",
              "\n",
              "     New_Price  Price  age  KM_Driven       make  mileage_new  engine_new  \\\n",
              "1310       NaN   5.80    3         39     maruti        26.59      1248.0   \n",
              "60         NaN   7.47    2         44     maruti        20.73      1373.0   \n",
              "2849       NaN   2.50    7         81  chevrolet        25.44       936.0   \n",
              "978        NaN   1.70   14         88      honda        13.00      1493.0   \n",
              "656        NaN   1.60   12        100       ford        16.60      1388.0   \n",
              "\n",
              "      power_new  \n",
              "1310       74.0  \n",
              "60         91.1  \n",
              "2849       56.3  \n",
              "978       100.0  \n",
              "656        68.0  "
            ]
          },
          "execution_count": 3,
          "metadata": {},
          "output_type": "execute_result"
        }
      ],
      "source": [
        "cars_df.sample(5)"
      ]
    },
    {
      "cell_type": "code",
      "execution_count": null,
      "metadata": {
        "colab": {
          "base_uri": "https://localhost:8080/"
        },
        "id": "6mX167jxw22C",
        "outputId": "0c5d24c6-35a6-4f3b-8ab4-9de3f0abdad8"
      },
      "outputs": [
        {
          "name": "stdout",
          "output_type": "stream",
          "text": [
            "<class 'pandas.core.frame.DataFrame'>\n",
            "RangeIndex: 3092 entries, 0 to 3091\n",
            "Data columns (total 20 columns):\n",
            " #   Column             Non-Null Count  Dtype  \n",
            "---  ------             --------------  -----  \n",
            " 0   index              3092 non-null   int64  \n",
            " 1   Name               3092 non-null   object \n",
            " 2   Location           3092 non-null   object \n",
            " 3   Year               3092 non-null   int64  \n",
            " 4   Kilometers_Driven  3092 non-null   int64  \n",
            " 5   Fuel_Type          3092 non-null   object \n",
            " 6   Transmission       3092 non-null   object \n",
            " 7   Owner_Type         3092 non-null   object \n",
            " 8   Mileage            3092 non-null   object \n",
            " 9   Engine             3092 non-null   object \n",
            " 10  Power              3092 non-null   object \n",
            " 11  Seats              3091 non-null   float64\n",
            " 12  New_Price          411 non-null    object \n",
            " 13  Price              3092 non-null   float64\n",
            " 14  age                3092 non-null   int64  \n",
            " 15  KM_Driven          3092 non-null   int64  \n",
            " 16  make               3092 non-null   object \n",
            " 17  mileage_new        3092 non-null   float64\n",
            " 18  engine_new         3092 non-null   float64\n",
            " 19  power_new          3092 non-null   float64\n",
            "dtypes: float64(5), int64(5), object(10)\n",
            "memory usage: 483.2+ KB\n"
          ]
        }
      ],
      "source": [
        "cars_df.info()"
      ]
    },
    {
      "cell_type": "markdown",
      "metadata": {
        "id": "1z6m4MOmw22D"
      },
      "source": [
        "### Feature Set Selection"
      ]
    },
    {
      "cell_type": "code",
      "execution_count": null,
      "metadata": {
        "colab": {
          "base_uri": "https://localhost:8080/"
        },
        "id": "QdC67nm9w22D",
        "outputId": "eea4cacb-db2f-4e7d-8040-10b90fd7bd5f"
      },
      "outputs": [
        {
          "data": {
            "text/plain": [
              "Index(['index', 'Name', 'Location', 'Year', 'Kilometers_Driven', 'Fuel_Type',\n",
              "       'Transmission', 'Owner_Type', 'Mileage', 'Engine', 'Power', 'Seats',\n",
              "       'New_Price', 'Price', 'age', 'KM_Driven', 'make', 'mileage_new',\n",
              "       'engine_new', 'power_new'],\n",
              "      dtype='object')"
            ]
          },
          "execution_count": 5,
          "metadata": {},
          "output_type": "execute_result"
        }
      ],
      "source": [
        "cars_df.columns"
      ]
    },
    {
      "cell_type": "code",
      "execution_count": null,
      "metadata": {
        "id": "pedL0bwww22E"
      },
      "outputs": [],
      "source": [
        "x_features = ['KM_Driven', 'Fuel_Type', 'age',\n",
        "              'Transmission', 'Owner_Type', 'Seats', \n",
        "              'make', 'mileage_new', 'engine_new', \n",
        "              'power_new', 'Location']"
      ]
    },
    {
      "cell_type": "code",
      "execution_count": null,
      "metadata": {
        "id": "bgywybWAw22F"
      },
      "outputs": [],
      "source": [
        "cat_vars = ['Fuel_Type', \n",
        "                'Transmission', 'Owner_Type',\n",
        "                'make', 'Location']"
      ]
    },
    {
      "cell_type": "code",
      "execution_count": null,
      "metadata": {
        "id": "2DnPA-jzw22F"
      },
      "outputs": [],
      "source": [
        "num_vars = list(set(x_features) - set(cat_vars))"
      ]
    },
    {
      "cell_type": "code",
      "execution_count": null,
      "metadata": {
        "colab": {
          "base_uri": "https://localhost:8080/"
        },
        "id": "jjXxkrb7w22F",
        "outputId": "d8d7c126-9341-4111-dde8-6b5443d355a1"
      },
      "outputs": [
        {
          "data": {
            "text/plain": [
              "['Seats', 'power_new', 'age', 'KM_Driven', 'engine_new', 'mileage_new']"
            ]
          },
          "execution_count": 9,
          "metadata": {},
          "output_type": "execute_result"
        }
      ],
      "source": [
        "num_vars"
      ]
    },
    {
      "cell_type": "code",
      "execution_count": null,
      "metadata": {
        "colab": {
          "base_uri": "https://localhost:8080/"
        },
        "id": "0fd6gq5gw22G",
        "outputId": "773308cf-b877-4b7e-f52b-e5221a57a6af"
      },
      "outputs": [
        {
          "name": "stdout",
          "output_type": "stream",
          "text": [
            "<class 'pandas.core.frame.DataFrame'>\n",
            "RangeIndex: 3092 entries, 0 to 3091\n",
            "Data columns (total 11 columns):\n",
            " #   Column        Non-Null Count  Dtype  \n",
            "---  ------        --------------  -----  \n",
            " 0   KM_Driven     3092 non-null   int64  \n",
            " 1   Fuel_Type     3092 non-null   object \n",
            " 2   age           3092 non-null   int64  \n",
            " 3   Transmission  3092 non-null   object \n",
            " 4   Owner_Type    3092 non-null   object \n",
            " 5   Seats         3091 non-null   float64\n",
            " 6   make          3092 non-null   object \n",
            " 7   mileage_new   3092 non-null   float64\n",
            " 8   engine_new    3092 non-null   float64\n",
            " 9   power_new     3092 non-null   float64\n",
            " 10  Location      3092 non-null   object \n",
            "dtypes: float64(4), int64(2), object(5)\n",
            "memory usage: 265.8+ KB\n"
          ]
        }
      ],
      "source": [
        "cars_df[x_features].info()"
      ]
    },
    {
      "cell_type": "markdown",
      "metadata": {
        "id": "eK3WNm4Tw22I"
      },
      "source": [
        "### Setting X and y variables"
      ]
    },
    {
      "cell_type": "code",
      "execution_count": null,
      "metadata": {
        "id": "kNJGjz5dw22I"
      },
      "outputs": [],
      "source": [
        "X = cars_df[x_features]\n",
        "y = cars_df['Price']"
      ]
    },
    {
      "cell_type": "markdown",
      "metadata": {
        "id": "4Dn5xMfJw22I"
      },
      "source": [
        "### Data Splitting"
      ]
    },
    {
      "cell_type": "code",
      "execution_count": null,
      "metadata": {
        "id": "SZJO1MTKw22I"
      },
      "outputs": [],
      "source": [
        "from sklearn.model_selection import train_test_split"
      ]
    },
    {
      "cell_type": "code",
      "execution_count": null,
      "metadata": {
        "id": "_w4QYKouw22J"
      },
      "outputs": [],
      "source": [
        "X_train, X_test, y_train, y_test = train_test_split(X,\n",
        "                                                    y,\n",
        "                                                    train_size = 0.8,\n",
        "                                                    random_state = 80)"
      ]
    },
    {
      "cell_type": "code",
      "execution_count": null,
      "metadata": {
        "colab": {
          "base_uri": "https://localhost:8080/"
        },
        "id": "MJvUKKtEw22J",
        "outputId": "dd01f850-67a0-411a-d960-5c72edfa9df4"
      },
      "outputs": [
        {
          "data": {
            "text/plain": [
              "(2473, 11)"
            ]
          },
          "execution_count": 14,
          "metadata": {},
          "output_type": "execute_result"
        }
      ],
      "source": [
        "X_train.shape"
      ]
    },
    {
      "cell_type": "code",
      "execution_count": null,
      "metadata": {
        "colab": {
          "base_uri": "https://localhost:8080/"
        },
        "id": "guj1I1pTw22K",
        "outputId": "f2104c45-a4b4-49bf-fec9-d0e2eeab3044"
      },
      "outputs": [
        {
          "data": {
            "text/plain": [
              "(619, 11)"
            ]
          },
          "execution_count": 15,
          "metadata": {},
          "output_type": "execute_result"
        }
      ],
      "source": [
        "X_test.shape"
      ]
    },
    {
      "cell_type": "markdown",
      "metadata": {
        "id": "fbS48ARvysXf"
      },
      "source": [
        "## Defining Transformation"
      ]
    },
    {
      "cell_type": "markdown",
      "metadata": {
        "id": "f7QomNP2ysXf"
      },
      "source": [
        "1. Data imputation for Seats Column\n",
        "    - Mean imputation \n",
        "2. Categorical Encoding for categorical columns\n",
        "    - OHE Encoding\n",
        "3. Data scaling\n",
        "    - Standard scaling"
      ]
    },
    {
      "cell_type": "code",
      "execution_count": null,
      "metadata": {
        "id": "JgCONJRPysXf"
      },
      "outputs": [],
      "source": [
        "from sklearn.impute import SimpleImputer"
      ]
    },
    {
      "cell_type": "code",
      "execution_count": null,
      "metadata": {
        "id": "InBNvdmHysXf"
      },
      "outputs": [],
      "source": [
        "imputed_num_vars = ['Seats']"
      ]
    },
    {
      "cell_type": "code",
      "execution_count": null,
      "metadata": {
        "id": "XB9Hv8OrysXf",
        "outputId": "391cc5af-b105-4a9f-cbb5-ee9b5a5bbadd"
      },
      "outputs": [
        {
          "data": {
            "text/plain": [
              "['Seats']"
            ]
          },
          "execution_count": 18,
          "metadata": {},
          "output_type": "execute_result"
        }
      ],
      "source": [
        "imputed_num_vars"
      ]
    },
    {
      "cell_type": "code",
      "execution_count": null,
      "metadata": {
        "id": "d34FbPDJysXf"
      },
      "outputs": [],
      "source": [
        "non_imputed_num_vars = list(set(num_vars) - set(imputed_num_vars))"
      ]
    },
    {
      "cell_type": "code",
      "execution_count": null,
      "metadata": {
        "id": "hk5IhTmXysXf",
        "outputId": "1d669d5a-c42c-4542-ce66-4b0420d21e43"
      },
      "outputs": [
        {
          "data": {
            "text/plain": [
              "['power_new', 'age', 'KM_Driven', 'engine_new', 'mileage_new']"
            ]
          },
          "execution_count": 20,
          "metadata": {},
          "output_type": "execute_result"
        }
      ],
      "source": [
        "non_imputed_num_vars"
      ]
    },
    {
      "cell_type": "code",
      "execution_count": null,
      "metadata": {
        "id": "kAF89SHWysXg"
      },
      "outputs": [],
      "source": [
        "mean_imputer = SimpleImputer(strategy='mean')"
      ]
    },
    {
      "cell_type": "markdown",
      "metadata": {
        "id": "__tEV1ylw22K"
      },
      "source": [
        "### Encode Categorical Variables"
      ]
    },
    {
      "cell_type": "code",
      "execution_count": null,
      "metadata": {
        "id": "k6KIfWa6w22K"
      },
      "outputs": [],
      "source": [
        "from sklearn.preprocessing import OneHotEncoder"
      ]
    },
    {
      "cell_type": "code",
      "execution_count": null,
      "metadata": {
        "id": "085_YnWLw22K"
      },
      "outputs": [],
      "source": [
        "ohe_encoder = OneHotEncoder(handle_unknown='ignore')"
      ]
    },
    {
      "cell_type": "markdown",
      "metadata": {
        "id": "JQ9QOR6FysXg"
      },
      "source": [
        "### Scaling Numerical Vars"
      ]
    },
    {
      "cell_type": "code",
      "execution_count": null,
      "metadata": {
        "id": "VpLfhqvXysXg"
      },
      "outputs": [],
      "source": [
        "from sklearn.preprocessing import StandardScaler\n",
        "\n",
        "scaler = StandardScaler()"
      ]
    },
    {
      "cell_type": "markdown",
      "metadata": {
        "id": "ynZq5kCIysXg"
      },
      "source": [
        "## Creating Pipelines"
      ]
    },
    {
      "cell_type": "code",
      "execution_count": null,
      "metadata": {
        "id": "0h20qY_gw22L"
      },
      "outputs": [],
      "source": [
        "from sklearn.compose import ColumnTransformer\n",
        "from sklearn.pipeline import Pipeline"
      ]
    },
    {
      "cell_type": "code",
      "execution_count": null,
      "metadata": {
        "id": "bMIIRwMBysXg"
      },
      "outputs": [],
      "source": [
        "imputed_num_transformer = Pipeline( steps = [  \n",
        "        ('imputation', mean_imputer),\n",
        "        ('scaler', scaler)])"
      ]
    },
    {
      "cell_type": "code",
      "execution_count": null,
      "metadata": {
        "id": "xYFVMn3ZysXg"
      },
      "outputs": [],
      "source": [
        "non_imputed_num_transformer = Pipeline( steps = [('scaler', scaler)])"
      ]
    },
    {
      "cell_type": "code",
      "execution_count": null,
      "metadata": {
        "id": "rBV4ubTTysXg"
      },
      "outputs": [],
      "source": [
        "cat_transformer = Pipeline( steps = [('ohencoder', ohe_encoder)])"
      ]
    },
    {
      "cell_type": "code",
      "execution_count": null,
      "metadata": {
        "id": "FI4vPaDdysXg"
      },
      "outputs": [],
      "source": [
        "preprocessor = ColumnTransformer(\n",
        "    transformers=[  \n",
        "        ('num_imputed', imputed_num_transformer, imputed_num_vars),\n",
        "        ('num_not_imputed', non_imputed_num_transformer, non_imputed_num_vars),\n",
        "        ('catvars', cat_transformer, cat_vars)])"
      ]
    },
    {
      "cell_type": "markdown",
      "metadata": {
        "id": "ENbz3exkw22L"
      },
      "source": [
        "### KNN (K-Nearest Neighbor)\n"
      ]
    },
    {
      "cell_type": "code",
      "execution_count": null,
      "metadata": {
        "id": "tpFS1kACw22M"
      },
      "outputs": [],
      "source": [
        "from sklearn.neighbors import KNeighborsRegressor"
      ]
    },
    {
      "cell_type": "code",
      "execution_count": null,
      "metadata": {
        "id": "2KkOKhVBw22M"
      },
      "outputs": [],
      "source": [
        "#knn = KNeighborsRegressor(n_neighbors=20)\n",
        "knn = KNeighborsRegressor(n_neighbors=20, weights='distance')"
      ]
    },
    {
      "cell_type": "code",
      "execution_count": null,
      "metadata": {
        "id": "i17dhEN1w22M"
      },
      "outputs": [],
      "source": [
        "knn_v1 = Pipeline(steps=[('preprocessor', preprocessor),\n",
        "                          ('knn', knn)])"
      ]
    },
    {
      "cell_type": "code",
      "execution_count": null,
      "metadata": {
        "colab": {
          "base_uri": "https://localhost:8080/"
        },
        "id": "lLAFK4BFw22N",
        "outputId": "f316b8e0-96fd-49b0-c635-a7d604468ee0"
      },
      "outputs": [
        {
          "data": {
            "text/plain": [
              "Pipeline(steps=[('preprocessor',\n",
              "                 ColumnTransformer(transformers=[('num_imputed',\n",
              "                                                  Pipeline(steps=[('imputation',\n",
              "                                                                   SimpleImputer()),\n",
              "                                                                  ('scaler',\n",
              "                                                                   StandardScaler())]),\n",
              "                                                  ['Seats']),\n",
              "                                                 ('num_not_imputed',\n",
              "                                                  Pipeline(steps=[('scaler',\n",
              "                                                                   StandardScaler())]),\n",
              "                                                  ['power_new', 'age',\n",
              "                                                   'KM_Driven', 'engine_new',\n",
              "                                                   'mileage_new']),\n",
              "                                                 ('catvars',\n",
              "                                                  Pipeline(steps=[('ohencoder',\n",
              "                                                                   OneHotEncoder(handle_unknown='ignore'))]),\n",
              "                                                  ['Fuel_Type', 'Transmission',\n",
              "                                                   'Owner_Type', 'make',\n",
              "                                                   'Location'])])),\n",
              "                ('knn',\n",
              "                 KNeighborsRegressor(n_neighbors=20, weights='distance'))])"
            ]
          },
          "execution_count": 33,
          "metadata": {},
          "output_type": "execute_result"
        }
      ],
      "source": [
        "knn_v1.fit(X_train, y_train)"
      ]
    },
    {
      "cell_type": "code",
      "execution_count": null,
      "metadata": {
        "id": "c5tJ2u4qysXh"
      },
      "outputs": [],
      "source": [
        "from sklearn import set_config\n",
        "set_config(display='diagram') "
      ]
    },
    {
      "cell_type": "code",
      "execution_count": null,
      "metadata": {
        "id": "MfT6KMDLysXh",
        "outputId": "6c660934-2df1-42a3-c3b0-5b36592425a7"
      },
      "outputs": [
        {
          "data": {
            "text/html": [
              "<style>#sk-703f7dda-54d0-4946-8817-a638b70561f4 {color: black;background-color: white;}#sk-703f7dda-54d0-4946-8817-a638b70561f4 pre{padding: 0;}#sk-703f7dda-54d0-4946-8817-a638b70561f4 div.sk-toggleable {background-color: white;}#sk-703f7dda-54d0-4946-8817-a638b70561f4 label.sk-toggleable__label {cursor: pointer;display: block;width: 100%;margin-bottom: 0;padding: 0.3em;box-sizing: border-box;text-align: center;}#sk-703f7dda-54d0-4946-8817-a638b70561f4 label.sk-toggleable__label-arrow:before {content: \"▸\";float: left;margin-right: 0.25em;color: #696969;}#sk-703f7dda-54d0-4946-8817-a638b70561f4 label.sk-toggleable__label-arrow:hover:before {color: black;}#sk-703f7dda-54d0-4946-8817-a638b70561f4 div.sk-estimator:hover label.sk-toggleable__label-arrow:before {color: black;}#sk-703f7dda-54d0-4946-8817-a638b70561f4 div.sk-toggleable__content {max-height: 0;max-width: 0;overflow: hidden;text-align: left;background-color: #f0f8ff;}#sk-703f7dda-54d0-4946-8817-a638b70561f4 div.sk-toggleable__content pre {margin: 0.2em;color: black;border-radius: 0.25em;background-color: #f0f8ff;}#sk-703f7dda-54d0-4946-8817-a638b70561f4 input.sk-toggleable__control:checked~div.sk-toggleable__content {max-height: 200px;max-width: 100%;overflow: auto;}#sk-703f7dda-54d0-4946-8817-a638b70561f4 input.sk-toggleable__control:checked~label.sk-toggleable__label-arrow:before {content: \"▾\";}#sk-703f7dda-54d0-4946-8817-a638b70561f4 div.sk-estimator input.sk-toggleable__control:checked~label.sk-toggleable__label {background-color: #d4ebff;}#sk-703f7dda-54d0-4946-8817-a638b70561f4 div.sk-label input.sk-toggleable__control:checked~label.sk-toggleable__label {background-color: #d4ebff;}#sk-703f7dda-54d0-4946-8817-a638b70561f4 input.sk-hidden--visually {border: 0;clip: rect(1px 1px 1px 1px);clip: rect(1px, 1px, 1px, 1px);height: 1px;margin: -1px;overflow: hidden;padding: 0;position: absolute;width: 1px;}#sk-703f7dda-54d0-4946-8817-a638b70561f4 div.sk-estimator {font-family: monospace;background-color: #f0f8ff;border: 1px dotted black;border-radius: 0.25em;box-sizing: border-box;margin-bottom: 0.5em;}#sk-703f7dda-54d0-4946-8817-a638b70561f4 div.sk-estimator:hover {background-color: #d4ebff;}#sk-703f7dda-54d0-4946-8817-a638b70561f4 div.sk-parallel-item::after {content: \"\";width: 100%;border-bottom: 1px solid gray;flex-grow: 1;}#sk-703f7dda-54d0-4946-8817-a638b70561f4 div.sk-label:hover label.sk-toggleable__label {background-color: #d4ebff;}#sk-703f7dda-54d0-4946-8817-a638b70561f4 div.sk-serial::before {content: \"\";position: absolute;border-left: 1px solid gray;box-sizing: border-box;top: 2em;bottom: 0;left: 50%;}#sk-703f7dda-54d0-4946-8817-a638b70561f4 div.sk-serial {display: flex;flex-direction: column;align-items: center;background-color: white;padding-right: 0.2em;padding-left: 0.2em;}#sk-703f7dda-54d0-4946-8817-a638b70561f4 div.sk-item {z-index: 1;}#sk-703f7dda-54d0-4946-8817-a638b70561f4 div.sk-parallel {display: flex;align-items: stretch;justify-content: center;background-color: white;}#sk-703f7dda-54d0-4946-8817-a638b70561f4 div.sk-parallel::before {content: \"\";position: absolute;border-left: 1px solid gray;box-sizing: border-box;top: 2em;bottom: 0;left: 50%;}#sk-703f7dda-54d0-4946-8817-a638b70561f4 div.sk-parallel-item {display: flex;flex-direction: column;position: relative;background-color: white;}#sk-703f7dda-54d0-4946-8817-a638b70561f4 div.sk-parallel-item:first-child::after {align-self: flex-end;width: 50%;}#sk-703f7dda-54d0-4946-8817-a638b70561f4 div.sk-parallel-item:last-child::after {align-self: flex-start;width: 50%;}#sk-703f7dda-54d0-4946-8817-a638b70561f4 div.sk-parallel-item:only-child::after {width: 0;}#sk-703f7dda-54d0-4946-8817-a638b70561f4 div.sk-dashed-wrapped {border: 1px dashed gray;margin: 0 0.4em 0.5em 0.4em;box-sizing: border-box;padding-bottom: 0.4em;background-color: white;position: relative;}#sk-703f7dda-54d0-4946-8817-a638b70561f4 div.sk-label label {font-family: monospace;font-weight: bold;background-color: white;display: inline-block;line-height: 1.2em;}#sk-703f7dda-54d0-4946-8817-a638b70561f4 div.sk-label-container {position: relative;z-index: 2;text-align: center;}#sk-703f7dda-54d0-4946-8817-a638b70561f4 div.sk-container {/* jupyter's `normalize.less` sets `[hidden] { display: none; }` but bootstrap.min.css set `[hidden] { display: none !important; }` so we also need the `!important` here to be able to override the default hidden behavior on the sphinx rendered scikit-learn.org. See: https://github.com/scikit-learn/scikit-learn/issues/21755 */display: inline-block !important;position: relative;}#sk-703f7dda-54d0-4946-8817-a638b70561f4 div.sk-text-repr-fallback {display: none;}</style><div id=\"sk-703f7dda-54d0-4946-8817-a638b70561f4\" class=\"sk-top-container\"><div class=\"sk-text-repr-fallback\"><pre>Pipeline(steps=[(&#x27;preprocessor&#x27;,\n",
              "                 ColumnTransformer(transformers=[(&#x27;num_imputed&#x27;,\n",
              "                                                  Pipeline(steps=[(&#x27;imputation&#x27;,\n",
              "                                                                   SimpleImputer()),\n",
              "                                                                  (&#x27;scaler&#x27;,\n",
              "                                                                   StandardScaler())]),\n",
              "                                                  [&#x27;Seats&#x27;]),\n",
              "                                                 (&#x27;num_not_imputed&#x27;,\n",
              "                                                  Pipeline(steps=[(&#x27;scaler&#x27;,\n",
              "                                                                   StandardScaler())]),\n",
              "                                                  [&#x27;power_new&#x27;, &#x27;age&#x27;,\n",
              "                                                   &#x27;KM_Driven&#x27;, &#x27;engine_new&#x27;,\n",
              "                                                   &#x27;mileage_new&#x27;]),\n",
              "                                                 (&#x27;catvars&#x27;,\n",
              "                                                  Pipeline(steps=[(&#x27;ohencoder&#x27;,\n",
              "                                                                   OneHotEncoder(handle_unknown=&#x27;ignore&#x27;))]),\n",
              "                                                  [&#x27;Fuel_Type&#x27;, &#x27;Transmission&#x27;,\n",
              "                                                   &#x27;Owner_Type&#x27;, &#x27;make&#x27;,\n",
              "                                                   &#x27;Location&#x27;])])),\n",
              "                (&#x27;knn&#x27;,\n",
              "                 KNeighborsRegressor(n_neighbors=20, weights=&#x27;distance&#x27;))])</pre><b>Please rerun this cell to show the HTML repr or trust the notebook.</b></div><div class=\"sk-container\" hidden><div class=\"sk-item sk-dashed-wrapped\"><div class=\"sk-label-container\"><div class=\"sk-label sk-toggleable\"><input class=\"sk-toggleable__control sk-hidden--visually\" id=\"1f9be0bc-4e08-440e-886d-8958a84b31bc\" type=\"checkbox\" ><label for=\"1f9be0bc-4e08-440e-886d-8958a84b31bc\" class=\"sk-toggleable__label sk-toggleable__label-arrow\">Pipeline</label><div class=\"sk-toggleable__content\"><pre>Pipeline(steps=[(&#x27;preprocessor&#x27;,\n",
              "                 ColumnTransformer(transformers=[(&#x27;num_imputed&#x27;,\n",
              "                                                  Pipeline(steps=[(&#x27;imputation&#x27;,\n",
              "                                                                   SimpleImputer()),\n",
              "                                                                  (&#x27;scaler&#x27;,\n",
              "                                                                   StandardScaler())]),\n",
              "                                                  [&#x27;Seats&#x27;]),\n",
              "                                                 (&#x27;num_not_imputed&#x27;,\n",
              "                                                  Pipeline(steps=[(&#x27;scaler&#x27;,\n",
              "                                                                   StandardScaler())]),\n",
              "                                                  [&#x27;power_new&#x27;, &#x27;age&#x27;,\n",
              "                                                   &#x27;KM_Driven&#x27;, &#x27;engine_new&#x27;,\n",
              "                                                   &#x27;mileage_new&#x27;]),\n",
              "                                                 (&#x27;catvars&#x27;,\n",
              "                                                  Pipeline(steps=[(&#x27;ohencoder&#x27;,\n",
              "                                                                   OneHotEncoder(handle_unknown=&#x27;ignore&#x27;))]),\n",
              "                                                  [&#x27;Fuel_Type&#x27;, &#x27;Transmission&#x27;,\n",
              "                                                   &#x27;Owner_Type&#x27;, &#x27;make&#x27;,\n",
              "                                                   &#x27;Location&#x27;])])),\n",
              "                (&#x27;knn&#x27;,\n",
              "                 KNeighborsRegressor(n_neighbors=20, weights=&#x27;distance&#x27;))])</pre></div></div></div><div class=\"sk-serial\"><div class=\"sk-item sk-dashed-wrapped\"><div class=\"sk-label-container\"><div class=\"sk-label sk-toggleable\"><input class=\"sk-toggleable__control sk-hidden--visually\" id=\"83a38001-732c-456c-99c9-aa51d309ad17\" type=\"checkbox\" ><label for=\"83a38001-732c-456c-99c9-aa51d309ad17\" class=\"sk-toggleable__label sk-toggleable__label-arrow\">preprocessor: ColumnTransformer</label><div class=\"sk-toggleable__content\"><pre>ColumnTransformer(transformers=[(&#x27;num_imputed&#x27;,\n",
              "                                 Pipeline(steps=[(&#x27;imputation&#x27;,\n",
              "                                                  SimpleImputer()),\n",
              "                                                 (&#x27;scaler&#x27;, StandardScaler())]),\n",
              "                                 [&#x27;Seats&#x27;]),\n",
              "                                (&#x27;num_not_imputed&#x27;,\n",
              "                                 Pipeline(steps=[(&#x27;scaler&#x27;, StandardScaler())]),\n",
              "                                 [&#x27;power_new&#x27;, &#x27;age&#x27;, &#x27;KM_Driven&#x27;, &#x27;engine_new&#x27;,\n",
              "                                  &#x27;mileage_new&#x27;]),\n",
              "                                (&#x27;catvars&#x27;,\n",
              "                                 Pipeline(steps=[(&#x27;ohencoder&#x27;,\n",
              "                                                  OneHotEncoder(handle_unknown=&#x27;ignore&#x27;))]),\n",
              "                                 [&#x27;Fuel_Type&#x27;, &#x27;Transmission&#x27;, &#x27;Owner_Type&#x27;,\n",
              "                                  &#x27;make&#x27;, &#x27;Location&#x27;])])</pre></div></div></div><div class=\"sk-parallel\"><div class=\"sk-parallel-item\"><div class=\"sk-item\"><div class=\"sk-label-container\"><div class=\"sk-label sk-toggleable\"><input class=\"sk-toggleable__control sk-hidden--visually\" id=\"ba67127b-b9ad-4a1b-b801-a9e3e1473000\" type=\"checkbox\" ><label for=\"ba67127b-b9ad-4a1b-b801-a9e3e1473000\" class=\"sk-toggleable__label sk-toggleable__label-arrow\">num_imputed</label><div class=\"sk-toggleable__content\"><pre>[&#x27;Seats&#x27;]</pre></div></div></div><div class=\"sk-serial\"><div class=\"sk-item\"><div class=\"sk-serial\"><div class=\"sk-item\"><div class=\"sk-estimator sk-toggleable\"><input class=\"sk-toggleable__control sk-hidden--visually\" id=\"81932a20-5e36-4cbb-a429-bcfe31004ebd\" type=\"checkbox\" ><label for=\"81932a20-5e36-4cbb-a429-bcfe31004ebd\" class=\"sk-toggleable__label sk-toggleable__label-arrow\">SimpleImputer</label><div class=\"sk-toggleable__content\"><pre>SimpleImputer()</pre></div></div></div><div class=\"sk-item\"><div class=\"sk-estimator sk-toggleable\"><input class=\"sk-toggleable__control sk-hidden--visually\" id=\"7167e955-9b9f-4008-8178-81723f0edf71\" type=\"checkbox\" ><label for=\"7167e955-9b9f-4008-8178-81723f0edf71\" class=\"sk-toggleable__label sk-toggleable__label-arrow\">StandardScaler</label><div class=\"sk-toggleable__content\"><pre>StandardScaler()</pre></div></div></div></div></div></div></div></div><div class=\"sk-parallel-item\"><div class=\"sk-item\"><div class=\"sk-label-container\"><div class=\"sk-label sk-toggleable\"><input class=\"sk-toggleable__control sk-hidden--visually\" id=\"f51a0cf5-9451-416a-830d-186c5a41e2f9\" type=\"checkbox\" ><label for=\"f51a0cf5-9451-416a-830d-186c5a41e2f9\" class=\"sk-toggleable__label sk-toggleable__label-arrow\">num_not_imputed</label><div class=\"sk-toggleable__content\"><pre>[&#x27;power_new&#x27;, &#x27;age&#x27;, &#x27;KM_Driven&#x27;, &#x27;engine_new&#x27;, &#x27;mileage_new&#x27;]</pre></div></div></div><div class=\"sk-serial\"><div class=\"sk-item\"><div class=\"sk-serial\"><div class=\"sk-item\"><div class=\"sk-estimator sk-toggleable\"><input class=\"sk-toggleable__control sk-hidden--visually\" id=\"4d8dcb8c-e086-430f-bd14-6f700d96caae\" type=\"checkbox\" ><label for=\"4d8dcb8c-e086-430f-bd14-6f700d96caae\" class=\"sk-toggleable__label sk-toggleable__label-arrow\">StandardScaler</label><div class=\"sk-toggleable__content\"><pre>StandardScaler()</pre></div></div></div></div></div></div></div></div><div class=\"sk-parallel-item\"><div class=\"sk-item\"><div class=\"sk-label-container\"><div class=\"sk-label sk-toggleable\"><input class=\"sk-toggleable__control sk-hidden--visually\" id=\"df1bbddd-38f6-45fd-9b30-23f1815399e5\" type=\"checkbox\" ><label for=\"df1bbddd-38f6-45fd-9b30-23f1815399e5\" class=\"sk-toggleable__label sk-toggleable__label-arrow\">catvars</label><div class=\"sk-toggleable__content\"><pre>[&#x27;Fuel_Type&#x27;, &#x27;Transmission&#x27;, &#x27;Owner_Type&#x27;, &#x27;make&#x27;, &#x27;Location&#x27;]</pre></div></div></div><div class=\"sk-serial\"><div class=\"sk-item\"><div class=\"sk-serial\"><div class=\"sk-item\"><div class=\"sk-estimator sk-toggleable\"><input class=\"sk-toggleable__control sk-hidden--visually\" id=\"22a9daa4-d385-4418-acc1-ff0da60b5e69\" type=\"checkbox\" ><label for=\"22a9daa4-d385-4418-acc1-ff0da60b5e69\" class=\"sk-toggleable__label sk-toggleable__label-arrow\">OneHotEncoder</label><div class=\"sk-toggleable__content\"><pre>OneHotEncoder(handle_unknown=&#x27;ignore&#x27;)</pre></div></div></div></div></div></div></div></div></div></div><div class=\"sk-item\"><div class=\"sk-estimator sk-toggleable\"><input class=\"sk-toggleable__control sk-hidden--visually\" id=\"86e7baea-d6bb-4f7f-a649-7f555a29076c\" type=\"checkbox\" ><label for=\"86e7baea-d6bb-4f7f-a649-7f555a29076c\" class=\"sk-toggleable__label sk-toggleable__label-arrow\">KNeighborsRegressor</label><div class=\"sk-toggleable__content\"><pre>KNeighborsRegressor(n_neighbors=20, weights=&#x27;distance&#x27;)</pre></div></div></div></div></div></div></div>"
            ],
            "text/plain": [
              "Pipeline(steps=[('preprocessor',\n",
              "                 ColumnTransformer(transformers=[('num_imputed',\n",
              "                                                  Pipeline(steps=[('imputation',\n",
              "                                                                   SimpleImputer()),\n",
              "                                                                  ('scaler',\n",
              "                                                                   StandardScaler())]),\n",
              "                                                  ['Seats']),\n",
              "                                                 ('num_not_imputed',\n",
              "                                                  Pipeline(steps=[('scaler',\n",
              "                                                                   StandardScaler())]),\n",
              "                                                  ['power_new', 'age',\n",
              "                                                   'KM_Driven', 'engine_new',\n",
              "                                                   'mileage_new']),\n",
              "                                                 ('catvars',\n",
              "                                                  Pipeline(steps=[('ohencoder',\n",
              "                                                                   OneHotEncoder(handle_unknown='ignore'))]),\n",
              "                                                  ['Fuel_Type', 'Transmission',\n",
              "                                                   'Owner_Type', 'make',\n",
              "                                                   'Location'])])),\n",
              "                ('knn',\n",
              "                 KNeighborsRegressor(n_neighbors=20, weights='distance'))])"
            ]
          },
          "execution_count": 35,
          "metadata": {},
          "output_type": "execute_result"
        }
      ],
      "source": [
        "knn_v1"
      ]
    },
    {
      "cell_type": "markdown",
      "metadata": {
        "id": "Bx3KXBGew22P"
      },
      "source": [
        "## K Fold Cross Validation"
      ]
    },
    {
      "cell_type": "code",
      "execution_count": null,
      "metadata": {
        "id": "Nyu5t5njw22P"
      },
      "outputs": [],
      "source": [
        "from sklearn.model_selection import cross_val_score"
      ]
    },
    {
      "cell_type": "code",
      "execution_count": null,
      "metadata": {
        "id": "701xL-nXw22P"
      },
      "outputs": [],
      "source": [
        "scores = cross_val_score( knn_v1,\n",
        "                          X_train,\n",
        "                          y_train,\n",
        "                          cv = 10,\n",
        "                          scoring = 'r2')"
      ]
    },
    {
      "cell_type": "code",
      "execution_count": null,
      "metadata": {
        "colab": {
          "base_uri": "https://localhost:8080/"
        },
        "id": "_r_beNeyw22P",
        "outputId": "0cb5e238-dca9-42d8-c668-bf561985c735"
      },
      "outputs": [
        {
          "data": {
            "text/plain": [
              "array([0.8099739 , 0.74165817, 0.81740538, 0.81873944, 0.77995802,\n",
              "       0.81580862, 0.80065021, 0.77859505, 0.80501332, 0.81669483])"
            ]
          },
          "execution_count": 38,
          "metadata": {},
          "output_type": "execute_result"
        }
      ],
      "source": [
        "scores"
      ]
    },
    {
      "cell_type": "code",
      "execution_count": null,
      "metadata": {
        "colab": {
          "base_uri": "https://localhost:8080/"
        },
        "id": "rEzsQb8Ew22P",
        "outputId": "df0a790d-3d94-4d86-8435-c8c9229b5465"
      },
      "outputs": [
        {
          "data": {
            "text/plain": [
              "0.7984496941261805"
            ]
          },
          "execution_count": 39,
          "metadata": {},
          "output_type": "execute_result"
        }
      ],
      "source": [
        "scores.mean()"
      ]
    },
    {
      "cell_type": "code",
      "execution_count": null,
      "metadata": {
        "colab": {
          "base_uri": "https://localhost:8080/"
        },
        "id": "aUrmsOF4w22Q",
        "outputId": "af766237-f033-4d9c-8c0d-acdedb650966"
      },
      "outputs": [
        {
          "data": {
            "text/plain": [
              "0.023552848559143465"
            ]
          },
          "execution_count": 40,
          "metadata": {},
          "output_type": "execute_result"
        }
      ],
      "source": [
        "scores.std()"
      ]
    },
    {
      "cell_type": "markdown",
      "metadata": {
        "id": "0imBn21Cw22Q"
      },
      "source": [
        "## Grid Search"
      ]
    },
    {
      "cell_type": "code",
      "execution_count": null,
      "metadata": {
        "id": "NnKBX3xRw22Q"
      },
      "outputs": [],
      "source": [
        "from sklearn.model_selection import GridSearchCV"
      ]
    },
    {
      "cell_type": "code",
      "execution_count": null,
      "metadata": {
        "id": "1Im0B0TojT2g"
      },
      "outputs": [],
      "source": [
        "knn_params = { \"knn__n_neighbors\": [5, 10, 15, 20, 25],\n",
        "               \"knn__weights\": ['uniform', 'distance'],\n",
        "               \"knn__metric\": ['minkowski', 'euclidean']}"
      ]
    },
    {
      "cell_type": "code",
      "execution_count": null,
      "metadata": {
        "id": "r-LLnCWww22Q"
      },
      "outputs": [],
      "source": [
        "knn_grid_v1 = GridSearchCV(knn_v1,\n",
        "                           param_grid=knn_params,\n",
        "                           cv = 10,\n",
        "                           scoring = 'r2')\n",
        "\n"
      ]
    },
    {
      "cell_type": "code",
      "execution_count": null,
      "metadata": {
        "colab": {
          "base_uri": "https://localhost:8080/"
        },
        "id": "iqeib9Oww22R",
        "outputId": "1ac4ce3f-545a-4287-cbf9-1c6698079bb8"
      },
      "outputs": [
        {
          "data": {
            "text/html": [
              "<style>#sk-59991830-1b1f-4fff-aaa0-0391c0cf9dba {color: black;background-color: white;}#sk-59991830-1b1f-4fff-aaa0-0391c0cf9dba pre{padding: 0;}#sk-59991830-1b1f-4fff-aaa0-0391c0cf9dba div.sk-toggleable {background-color: white;}#sk-59991830-1b1f-4fff-aaa0-0391c0cf9dba label.sk-toggleable__label {cursor: pointer;display: block;width: 100%;margin-bottom: 0;padding: 0.3em;box-sizing: border-box;text-align: center;}#sk-59991830-1b1f-4fff-aaa0-0391c0cf9dba label.sk-toggleable__label-arrow:before {content: \"▸\";float: left;margin-right: 0.25em;color: #696969;}#sk-59991830-1b1f-4fff-aaa0-0391c0cf9dba label.sk-toggleable__label-arrow:hover:before {color: black;}#sk-59991830-1b1f-4fff-aaa0-0391c0cf9dba div.sk-estimator:hover label.sk-toggleable__label-arrow:before {color: black;}#sk-59991830-1b1f-4fff-aaa0-0391c0cf9dba div.sk-toggleable__content {max-height: 0;max-width: 0;overflow: hidden;text-align: left;background-color: #f0f8ff;}#sk-59991830-1b1f-4fff-aaa0-0391c0cf9dba div.sk-toggleable__content pre {margin: 0.2em;color: black;border-radius: 0.25em;background-color: #f0f8ff;}#sk-59991830-1b1f-4fff-aaa0-0391c0cf9dba input.sk-toggleable__control:checked~div.sk-toggleable__content {max-height: 200px;max-width: 100%;overflow: auto;}#sk-59991830-1b1f-4fff-aaa0-0391c0cf9dba input.sk-toggleable__control:checked~label.sk-toggleable__label-arrow:before {content: \"▾\";}#sk-59991830-1b1f-4fff-aaa0-0391c0cf9dba div.sk-estimator input.sk-toggleable__control:checked~label.sk-toggleable__label {background-color: #d4ebff;}#sk-59991830-1b1f-4fff-aaa0-0391c0cf9dba div.sk-label input.sk-toggleable__control:checked~label.sk-toggleable__label {background-color: #d4ebff;}#sk-59991830-1b1f-4fff-aaa0-0391c0cf9dba input.sk-hidden--visually {border: 0;clip: rect(1px 1px 1px 1px);clip: rect(1px, 1px, 1px, 1px);height: 1px;margin: -1px;overflow: hidden;padding: 0;position: absolute;width: 1px;}#sk-59991830-1b1f-4fff-aaa0-0391c0cf9dba div.sk-estimator {font-family: monospace;background-color: #f0f8ff;border: 1px dotted black;border-radius: 0.25em;box-sizing: border-box;margin-bottom: 0.5em;}#sk-59991830-1b1f-4fff-aaa0-0391c0cf9dba div.sk-estimator:hover {background-color: #d4ebff;}#sk-59991830-1b1f-4fff-aaa0-0391c0cf9dba div.sk-parallel-item::after {content: \"\";width: 100%;border-bottom: 1px solid gray;flex-grow: 1;}#sk-59991830-1b1f-4fff-aaa0-0391c0cf9dba div.sk-label:hover label.sk-toggleable__label {background-color: #d4ebff;}#sk-59991830-1b1f-4fff-aaa0-0391c0cf9dba div.sk-serial::before {content: \"\";position: absolute;border-left: 1px solid gray;box-sizing: border-box;top: 2em;bottom: 0;left: 50%;}#sk-59991830-1b1f-4fff-aaa0-0391c0cf9dba div.sk-serial {display: flex;flex-direction: column;align-items: center;background-color: white;padding-right: 0.2em;padding-left: 0.2em;}#sk-59991830-1b1f-4fff-aaa0-0391c0cf9dba div.sk-item {z-index: 1;}#sk-59991830-1b1f-4fff-aaa0-0391c0cf9dba div.sk-parallel {display: flex;align-items: stretch;justify-content: center;background-color: white;}#sk-59991830-1b1f-4fff-aaa0-0391c0cf9dba div.sk-parallel::before {content: \"\";position: absolute;border-left: 1px solid gray;box-sizing: border-box;top: 2em;bottom: 0;left: 50%;}#sk-59991830-1b1f-4fff-aaa0-0391c0cf9dba div.sk-parallel-item {display: flex;flex-direction: column;position: relative;background-color: white;}#sk-59991830-1b1f-4fff-aaa0-0391c0cf9dba div.sk-parallel-item:first-child::after {align-self: flex-end;width: 50%;}#sk-59991830-1b1f-4fff-aaa0-0391c0cf9dba div.sk-parallel-item:last-child::after {align-self: flex-start;width: 50%;}#sk-59991830-1b1f-4fff-aaa0-0391c0cf9dba div.sk-parallel-item:only-child::after {width: 0;}#sk-59991830-1b1f-4fff-aaa0-0391c0cf9dba div.sk-dashed-wrapped {border: 1px dashed gray;margin: 0 0.4em 0.5em 0.4em;box-sizing: border-box;padding-bottom: 0.4em;background-color: white;position: relative;}#sk-59991830-1b1f-4fff-aaa0-0391c0cf9dba div.sk-label label {font-family: monospace;font-weight: bold;background-color: white;display: inline-block;line-height: 1.2em;}#sk-59991830-1b1f-4fff-aaa0-0391c0cf9dba div.sk-label-container {position: relative;z-index: 2;text-align: center;}#sk-59991830-1b1f-4fff-aaa0-0391c0cf9dba div.sk-container {/* jupyter's `normalize.less` sets `[hidden] { display: none; }` but bootstrap.min.css set `[hidden] { display: none !important; }` so we also need the `!important` here to be able to override the default hidden behavior on the sphinx rendered scikit-learn.org. See: https://github.com/scikit-learn/scikit-learn/issues/21755 */display: inline-block !important;position: relative;}#sk-59991830-1b1f-4fff-aaa0-0391c0cf9dba div.sk-text-repr-fallback {display: none;}</style><div id=\"sk-59991830-1b1f-4fff-aaa0-0391c0cf9dba\" class=\"sk-top-container\"><div class=\"sk-text-repr-fallback\"><pre>GridSearchCV(cv=10,\n",
              "             estimator=Pipeline(steps=[(&#x27;preprocessor&#x27;,\n",
              "                                        ColumnTransformer(transformers=[(&#x27;num_imputed&#x27;,\n",
              "                                                                         Pipeline(steps=[(&#x27;imputation&#x27;,\n",
              "                                                                                          SimpleImputer()),\n",
              "                                                                                         (&#x27;scaler&#x27;,\n",
              "                                                                                          StandardScaler())]),\n",
              "                                                                         [&#x27;Seats&#x27;]),\n",
              "                                                                        (&#x27;num_not_imputed&#x27;,\n",
              "                                                                         Pipeline(steps=[(&#x27;scaler&#x27;,\n",
              "                                                                                          StandardScaler())]),\n",
              "                                                                         [&#x27;power_new&#x27;,\n",
              "                                                                          &#x27;age&#x27;,\n",
              "                                                                          &#x27;KM_Driven&#x27;,\n",
              "                                                                          &#x27;engine_new&#x27;,\n",
              "                                                                          &#x27;mileage_new&#x27;]),\n",
              "                                                                        (&#x27;catvars&#x27;,\n",
              "                                                                         Pipeline(steps=[(&#x27;ohencoder&#x27;,\n",
              "                                                                                          OneHotEncoder(handle_unknown=&#x27;ignore&#x27;))]),\n",
              "                                                                         [&#x27;Fuel_Type&#x27;,\n",
              "                                                                          &#x27;Transmission&#x27;,\n",
              "                                                                          &#x27;Owner_Type&#x27;,\n",
              "                                                                          &#x27;make&#x27;,\n",
              "                                                                          &#x27;Location&#x27;])])),\n",
              "                                       (&#x27;knn&#x27;,\n",
              "                                        KNeighborsRegressor(n_neighbors=20,\n",
              "                                                            weights=&#x27;distance&#x27;))]),\n",
              "             param_grid={&#x27;knn__metric&#x27;: [&#x27;minkowski&#x27;, &#x27;euclidean&#x27;],\n",
              "                         &#x27;knn__n_neighbors&#x27;: [5, 10, 15, 20, 25],\n",
              "                         &#x27;knn__weights&#x27;: [&#x27;uniform&#x27;, &#x27;distance&#x27;]},\n",
              "             scoring=&#x27;r2&#x27;)</pre><b>Please rerun this cell to show the HTML repr or trust the notebook.</b></div><div class=\"sk-container\" hidden><div class=\"sk-item sk-dashed-wrapped\"><div class=\"sk-label-container\"><div class=\"sk-label sk-toggleable\"><input class=\"sk-toggleable__control sk-hidden--visually\" id=\"09b7fe64-1b9e-4be4-8c01-ca847acb9cb0\" type=\"checkbox\" ><label for=\"09b7fe64-1b9e-4be4-8c01-ca847acb9cb0\" class=\"sk-toggleable__label sk-toggleable__label-arrow\">GridSearchCV</label><div class=\"sk-toggleable__content\"><pre>GridSearchCV(cv=10,\n",
              "             estimator=Pipeline(steps=[(&#x27;preprocessor&#x27;,\n",
              "                                        ColumnTransformer(transformers=[(&#x27;num_imputed&#x27;,\n",
              "                                                                         Pipeline(steps=[(&#x27;imputation&#x27;,\n",
              "                                                                                          SimpleImputer()),\n",
              "                                                                                         (&#x27;scaler&#x27;,\n",
              "                                                                                          StandardScaler())]),\n",
              "                                                                         [&#x27;Seats&#x27;]),\n",
              "                                                                        (&#x27;num_not_imputed&#x27;,\n",
              "                                                                         Pipeline(steps=[(&#x27;scaler&#x27;,\n",
              "                                                                                          StandardScaler())]),\n",
              "                                                                         [&#x27;power_new&#x27;,\n",
              "                                                                          &#x27;age&#x27;,\n",
              "                                                                          &#x27;KM_Driven&#x27;,\n",
              "                                                                          &#x27;engine_new&#x27;,\n",
              "                                                                          &#x27;mileage_new&#x27;]),\n",
              "                                                                        (&#x27;catvars&#x27;,\n",
              "                                                                         Pipeline(steps=[(&#x27;ohencoder&#x27;,\n",
              "                                                                                          OneHotEncoder(handle_unknown=&#x27;ignore&#x27;))]),\n",
              "                                                                         [&#x27;Fuel_Type&#x27;,\n",
              "                                                                          &#x27;Transmission&#x27;,\n",
              "                                                                          &#x27;Owner_Type&#x27;,\n",
              "                                                                          &#x27;make&#x27;,\n",
              "                                                                          &#x27;Location&#x27;])])),\n",
              "                                       (&#x27;knn&#x27;,\n",
              "                                        KNeighborsRegressor(n_neighbors=20,\n",
              "                                                            weights=&#x27;distance&#x27;))]),\n",
              "             param_grid={&#x27;knn__metric&#x27;: [&#x27;minkowski&#x27;, &#x27;euclidean&#x27;],\n",
              "                         &#x27;knn__n_neighbors&#x27;: [5, 10, 15, 20, 25],\n",
              "                         &#x27;knn__weights&#x27;: [&#x27;uniform&#x27;, &#x27;distance&#x27;]},\n",
              "             scoring=&#x27;r2&#x27;)</pre></div></div></div><div class=\"sk-parallel\"><div class=\"sk-parallel-item\"><div class=\"sk-item\"><div class=\"sk-serial\"><div class=\"sk-item\"><div class=\"sk-serial\"><div class=\"sk-item sk-dashed-wrapped\"><div class=\"sk-label-container\"><div class=\"sk-label sk-toggleable\"><input class=\"sk-toggleable__control sk-hidden--visually\" id=\"de20ed4d-3222-4ceb-8a52-39db41f07d9f\" type=\"checkbox\" ><label for=\"de20ed4d-3222-4ceb-8a52-39db41f07d9f\" class=\"sk-toggleable__label sk-toggleable__label-arrow\">preprocessor: ColumnTransformer</label><div class=\"sk-toggleable__content\"><pre>ColumnTransformer(transformers=[(&#x27;num_imputed&#x27;,\n",
              "                                 Pipeline(steps=[(&#x27;imputation&#x27;,\n",
              "                                                  SimpleImputer()),\n",
              "                                                 (&#x27;scaler&#x27;, StandardScaler())]),\n",
              "                                 [&#x27;Seats&#x27;]),\n",
              "                                (&#x27;num_not_imputed&#x27;,\n",
              "                                 Pipeline(steps=[(&#x27;scaler&#x27;, StandardScaler())]),\n",
              "                                 [&#x27;power_new&#x27;, &#x27;age&#x27;, &#x27;KM_Driven&#x27;, &#x27;engine_new&#x27;,\n",
              "                                  &#x27;mileage_new&#x27;]),\n",
              "                                (&#x27;catvars&#x27;,\n",
              "                                 Pipeline(steps=[(&#x27;ohencoder&#x27;,\n",
              "                                                  OneHotEncoder(handle_unknown=&#x27;ignore&#x27;))]),\n",
              "                                 [&#x27;Fuel_Type&#x27;, &#x27;Transmission&#x27;, &#x27;Owner_Type&#x27;,\n",
              "                                  &#x27;make&#x27;, &#x27;Location&#x27;])])</pre></div></div></div><div class=\"sk-parallel\"><div class=\"sk-parallel-item\"><div class=\"sk-item\"><div class=\"sk-label-container\"><div class=\"sk-label sk-toggleable\"><input class=\"sk-toggleable__control sk-hidden--visually\" id=\"00777b1e-2d0c-4d37-9047-3959bdbddcf8\" type=\"checkbox\" ><label for=\"00777b1e-2d0c-4d37-9047-3959bdbddcf8\" class=\"sk-toggleable__label sk-toggleable__label-arrow\">num_imputed</label><div class=\"sk-toggleable__content\"><pre>[&#x27;Seats&#x27;]</pre></div></div></div><div class=\"sk-serial\"><div class=\"sk-item\"><div class=\"sk-serial\"><div class=\"sk-item\"><div class=\"sk-estimator sk-toggleable\"><input class=\"sk-toggleable__control sk-hidden--visually\" id=\"3c65cc26-f538-4445-a83e-f1593056e53e\" type=\"checkbox\" ><label for=\"3c65cc26-f538-4445-a83e-f1593056e53e\" class=\"sk-toggleable__label sk-toggleable__label-arrow\">SimpleImputer</label><div class=\"sk-toggleable__content\"><pre>SimpleImputer()</pre></div></div></div><div class=\"sk-item\"><div class=\"sk-estimator sk-toggleable\"><input class=\"sk-toggleable__control sk-hidden--visually\" id=\"81e72527-d870-4e85-ad24-43cd80fc1db9\" type=\"checkbox\" ><label for=\"81e72527-d870-4e85-ad24-43cd80fc1db9\" class=\"sk-toggleable__label sk-toggleable__label-arrow\">StandardScaler</label><div class=\"sk-toggleable__content\"><pre>StandardScaler()</pre></div></div></div></div></div></div></div></div><div class=\"sk-parallel-item\"><div class=\"sk-item\"><div class=\"sk-label-container\"><div class=\"sk-label sk-toggleable\"><input class=\"sk-toggleable__control sk-hidden--visually\" id=\"93685354-43f9-4d9f-8252-1d3046221ec5\" type=\"checkbox\" ><label for=\"93685354-43f9-4d9f-8252-1d3046221ec5\" class=\"sk-toggleable__label sk-toggleable__label-arrow\">num_not_imputed</label><div class=\"sk-toggleable__content\"><pre>[&#x27;power_new&#x27;, &#x27;age&#x27;, &#x27;KM_Driven&#x27;, &#x27;engine_new&#x27;, &#x27;mileage_new&#x27;]</pre></div></div></div><div class=\"sk-serial\"><div class=\"sk-item\"><div class=\"sk-serial\"><div class=\"sk-item\"><div class=\"sk-estimator sk-toggleable\"><input class=\"sk-toggleable__control sk-hidden--visually\" id=\"039b0d5d-a79a-4a95-bae4-2e9ebba3e2ee\" type=\"checkbox\" ><label for=\"039b0d5d-a79a-4a95-bae4-2e9ebba3e2ee\" class=\"sk-toggleable__label sk-toggleable__label-arrow\">StandardScaler</label><div class=\"sk-toggleable__content\"><pre>StandardScaler()</pre></div></div></div></div></div></div></div></div><div class=\"sk-parallel-item\"><div class=\"sk-item\"><div class=\"sk-label-container\"><div class=\"sk-label sk-toggleable\"><input class=\"sk-toggleable__control sk-hidden--visually\" id=\"2c15def9-d3b3-443b-985c-a84668843b5a\" type=\"checkbox\" ><label for=\"2c15def9-d3b3-443b-985c-a84668843b5a\" class=\"sk-toggleable__label sk-toggleable__label-arrow\">catvars</label><div class=\"sk-toggleable__content\"><pre>[&#x27;Fuel_Type&#x27;, &#x27;Transmission&#x27;, &#x27;Owner_Type&#x27;, &#x27;make&#x27;, &#x27;Location&#x27;]</pre></div></div></div><div class=\"sk-serial\"><div class=\"sk-item\"><div class=\"sk-serial\"><div class=\"sk-item\"><div class=\"sk-estimator sk-toggleable\"><input class=\"sk-toggleable__control sk-hidden--visually\" id=\"789cd277-faba-4eb2-abf2-96f6ea6622e5\" type=\"checkbox\" ><label for=\"789cd277-faba-4eb2-abf2-96f6ea6622e5\" class=\"sk-toggleable__label sk-toggleable__label-arrow\">OneHotEncoder</label><div class=\"sk-toggleable__content\"><pre>OneHotEncoder(handle_unknown=&#x27;ignore&#x27;)</pre></div></div></div></div></div></div></div></div></div></div><div class=\"sk-item\"><div class=\"sk-estimator sk-toggleable\"><input class=\"sk-toggleable__control sk-hidden--visually\" id=\"7323ad3a-d816-45a0-b632-078f3e89914c\" type=\"checkbox\" ><label for=\"7323ad3a-d816-45a0-b632-078f3e89914c\" class=\"sk-toggleable__label sk-toggleable__label-arrow\">KNeighborsRegressor</label><div class=\"sk-toggleable__content\"><pre>KNeighborsRegressor(n_neighbors=20, weights=&#x27;distance&#x27;)</pre></div></div></div></div></div></div></div></div></div></div></div></div>"
            ],
            "text/plain": [
              "GridSearchCV(cv=10,\n",
              "             estimator=Pipeline(steps=[('preprocessor',\n",
              "                                        ColumnTransformer(transformers=[('num_imputed',\n",
              "                                                                         Pipeline(steps=[('imputation',\n",
              "                                                                                          SimpleImputer()),\n",
              "                                                                                         ('scaler',\n",
              "                                                                                          StandardScaler())]),\n",
              "                                                                         ['Seats']),\n",
              "                                                                        ('num_not_imputed',\n",
              "                                                                         Pipeline(steps=[('scaler',\n",
              "                                                                                          StandardScaler())]),\n",
              "                                                                         ['power_new',\n",
              "                                                                          'age',\n",
              "                                                                          'KM_Driven',\n",
              "                                                                          'engine_new',\n",
              "                                                                          'mileage_new']),\n",
              "                                                                        ('catvars',\n",
              "                                                                         Pipeline(steps=[('ohencoder',\n",
              "                                                                                          OneHotEncoder(handle_unknown='ignore'))]),\n",
              "                                                                         ['Fuel_Type',\n",
              "                                                                          'Transmission',\n",
              "                                                                          'Owner_Type',\n",
              "                                                                          'make',\n",
              "                                                                          'Location'])])),\n",
              "                                       ('knn',\n",
              "                                        KNeighborsRegressor(n_neighbors=20,\n",
              "                                                            weights='distance'))]),\n",
              "             param_grid={'knn__metric': ['minkowski', 'euclidean'],\n",
              "                         'knn__n_neighbors': [5, 10, 15, 20, 25],\n",
              "                         'knn__weights': ['uniform', 'distance']},\n",
              "             scoring='r2')"
            ]
          },
          "execution_count": 44,
          "metadata": {},
          "output_type": "execute_result"
        }
      ],
      "source": [
        "knn_grid_v1.fit(X_train, y_train)"
      ]
    },
    {
      "cell_type": "code",
      "execution_count": null,
      "metadata": {
        "colab": {
          "base_uri": "https://localhost:8080/"
        },
        "id": "s1XEdYrIw22R",
        "outputId": "07898580-d2e0-43c1-db9c-6e369c1e0bcf"
      },
      "outputs": [
        {
          "data": {
            "text/plain": [
              "{'knn__metric': 'minkowski',\n",
              " 'knn__n_neighbors': 10,\n",
              " 'knn__weights': 'distance'}"
            ]
          },
          "execution_count": 45,
          "metadata": {},
          "output_type": "execute_result"
        }
      ],
      "source": [
        "knn_grid_v1.best_params_"
      ]
    },
    {
      "cell_type": "code",
      "execution_count": null,
      "metadata": {
        "colab": {
          "base_uri": "https://localhost:8080/"
        },
        "id": "--9cpdJTw22R",
        "outputId": "e1098526-c229-46c0-9e93-d33dc182192c"
      },
      "outputs": [
        {
          "data": {
            "text/plain": [
              "0.815226329927499"
            ]
          },
          "execution_count": 46,
          "metadata": {},
          "output_type": "execute_result"
        }
      ],
      "source": [
        "knn_grid_v1.best_score_"
      ]
    },
    {
      "cell_type": "code",
      "execution_count": null,
      "metadata": {
        "colab": {
          "base_uri": "https://localhost:8080/",
          "height": 676
        },
        "id": "2FHNcJwRw22R",
        "outputId": "9ed2f2c5-49e4-4d62-bbe3-12168a97bc21"
      },
      "outputs": [
        {
          "data": {
            "text/html": [
              "<div>\n",
              "<style scoped>\n",
              "    .dataframe tbody tr th:only-of-type {\n",
              "        vertical-align: middle;\n",
              "    }\n",
              "\n",
              "    .dataframe tbody tr th {\n",
              "        vertical-align: top;\n",
              "    }\n",
              "\n",
              "    .dataframe thead th {\n",
              "        text-align: right;\n",
              "    }\n",
              "</style>\n",
              "<table border=\"1\" class=\"dataframe\">\n",
              "  <thead>\n",
              "    <tr style=\"text-align: right;\">\n",
              "      <th></th>\n",
              "      <th>param_knn__n_neighbors</th>\n",
              "      <th>param_knn__weights</th>\n",
              "      <th>mean_test_score</th>\n",
              "      <th>std_test_score</th>\n",
              "    </tr>\n",
              "  </thead>\n",
              "  <tbody>\n",
              "    <tr>\n",
              "      <th>0</th>\n",
              "      <td>5</td>\n",
              "      <td>uniform</td>\n",
              "      <td>0.795765</td>\n",
              "      <td>0.029362</td>\n",
              "    </tr>\n",
              "    <tr>\n",
              "      <th>1</th>\n",
              "      <td>5</td>\n",
              "      <td>distance</td>\n",
              "      <td>0.808335</td>\n",
              "      <td>0.026944</td>\n",
              "    </tr>\n",
              "    <tr>\n",
              "      <th>2</th>\n",
              "      <td>10</td>\n",
              "      <td>uniform</td>\n",
              "      <td>0.799702</td>\n",
              "      <td>0.024248</td>\n",
              "    </tr>\n",
              "    <tr>\n",
              "      <th>3</th>\n",
              "      <td>10</td>\n",
              "      <td>distance</td>\n",
              "      <td>0.815226</td>\n",
              "      <td>0.024555</td>\n",
              "    </tr>\n",
              "    <tr>\n",
              "      <th>4</th>\n",
              "      <td>15</td>\n",
              "      <td>uniform</td>\n",
              "      <td>0.787126</td>\n",
              "      <td>0.024108</td>\n",
              "    </tr>\n",
              "    <tr>\n",
              "      <th>5</th>\n",
              "      <td>15</td>\n",
              "      <td>distance</td>\n",
              "      <td>0.808177</td>\n",
              "      <td>0.023972</td>\n",
              "    </tr>\n",
              "    <tr>\n",
              "      <th>6</th>\n",
              "      <td>20</td>\n",
              "      <td>uniform</td>\n",
              "      <td>0.773486</td>\n",
              "      <td>0.023395</td>\n",
              "    </tr>\n",
              "    <tr>\n",
              "      <th>7</th>\n",
              "      <td>20</td>\n",
              "      <td>distance</td>\n",
              "      <td>0.798450</td>\n",
              "      <td>0.023553</td>\n",
              "    </tr>\n",
              "    <tr>\n",
              "      <th>8</th>\n",
              "      <td>25</td>\n",
              "      <td>uniform</td>\n",
              "      <td>0.767428</td>\n",
              "      <td>0.023019</td>\n",
              "    </tr>\n",
              "    <tr>\n",
              "      <th>9</th>\n",
              "      <td>25</td>\n",
              "      <td>distance</td>\n",
              "      <td>0.794198</td>\n",
              "      <td>0.022889</td>\n",
              "    </tr>\n",
              "    <tr>\n",
              "      <th>10</th>\n",
              "      <td>5</td>\n",
              "      <td>uniform</td>\n",
              "      <td>0.795765</td>\n",
              "      <td>0.029362</td>\n",
              "    </tr>\n",
              "    <tr>\n",
              "      <th>11</th>\n",
              "      <td>5</td>\n",
              "      <td>distance</td>\n",
              "      <td>0.808335</td>\n",
              "      <td>0.026944</td>\n",
              "    </tr>\n",
              "    <tr>\n",
              "      <th>12</th>\n",
              "      <td>10</td>\n",
              "      <td>uniform</td>\n",
              "      <td>0.799702</td>\n",
              "      <td>0.024248</td>\n",
              "    </tr>\n",
              "    <tr>\n",
              "      <th>13</th>\n",
              "      <td>10</td>\n",
              "      <td>distance</td>\n",
              "      <td>0.815226</td>\n",
              "      <td>0.024555</td>\n",
              "    </tr>\n",
              "    <tr>\n",
              "      <th>14</th>\n",
              "      <td>15</td>\n",
              "      <td>uniform</td>\n",
              "      <td>0.787126</td>\n",
              "      <td>0.024108</td>\n",
              "    </tr>\n",
              "    <tr>\n",
              "      <th>15</th>\n",
              "      <td>15</td>\n",
              "      <td>distance</td>\n",
              "      <td>0.808177</td>\n",
              "      <td>0.023972</td>\n",
              "    </tr>\n",
              "    <tr>\n",
              "      <th>16</th>\n",
              "      <td>20</td>\n",
              "      <td>uniform</td>\n",
              "      <td>0.773486</td>\n",
              "      <td>0.023395</td>\n",
              "    </tr>\n",
              "    <tr>\n",
              "      <th>17</th>\n",
              "      <td>20</td>\n",
              "      <td>distance</td>\n",
              "      <td>0.798450</td>\n",
              "      <td>0.023553</td>\n",
              "    </tr>\n",
              "    <tr>\n",
              "      <th>18</th>\n",
              "      <td>25</td>\n",
              "      <td>uniform</td>\n",
              "      <td>0.767428</td>\n",
              "      <td>0.023019</td>\n",
              "    </tr>\n",
              "    <tr>\n",
              "      <th>19</th>\n",
              "      <td>25</td>\n",
              "      <td>distance</td>\n",
              "      <td>0.794198</td>\n",
              "      <td>0.022889</td>\n",
              "    </tr>\n",
              "  </tbody>\n",
              "</table>\n",
              "</div>"
            ],
            "text/plain": [
              "   param_knn__n_neighbors param_knn__weights  mean_test_score  std_test_score\n",
              "0                       5            uniform         0.795765        0.029362\n",
              "1                       5           distance         0.808335        0.026944\n",
              "2                      10            uniform         0.799702        0.024248\n",
              "3                      10           distance         0.815226        0.024555\n",
              "4                      15            uniform         0.787126        0.024108\n",
              "5                      15           distance         0.808177        0.023972\n",
              "6                      20            uniform         0.773486        0.023395\n",
              "7                      20           distance         0.798450        0.023553\n",
              "8                      25            uniform         0.767428        0.023019\n",
              "9                      25           distance         0.794198        0.022889\n",
              "10                      5            uniform         0.795765        0.029362\n",
              "11                      5           distance         0.808335        0.026944\n",
              "12                     10            uniform         0.799702        0.024248\n",
              "13                     10           distance         0.815226        0.024555\n",
              "14                     15            uniform         0.787126        0.024108\n",
              "15                     15           distance         0.808177        0.023972\n",
              "16                     20            uniform         0.773486        0.023395\n",
              "17                     20           distance         0.798450        0.023553\n",
              "18                     25            uniform         0.767428        0.023019\n",
              "19                     25           distance         0.794198        0.022889"
            ]
          },
          "execution_count": 47,
          "metadata": {},
          "output_type": "execute_result"
        }
      ],
      "source": [
        "knn_grid_results = pd.DataFrame( knn_grid_v1.cv_results_ )\n",
        "knn_grid_results[['param_knn__n_neighbors', 'param_knn__weights', 'mean_test_score', 'std_test_score']]"
      ]
    },
    {
      "cell_type": "markdown",
      "metadata": {
        "id": "eM06sfQLx8zq"
      },
      "source": [
        "## Building the final model"
      ]
    },
    {
      "cell_type": "code",
      "execution_count": null,
      "metadata": {
        "id": "Z8sKzD6dx_Ui"
      },
      "outputs": [],
      "source": [
        "final_model = KNeighborsRegressor(n_neighbors = knn_grid_v1.best_params_['knn__n_neighbors'], \n",
        "                                  weights = knn_grid_v1.best_params_['knn__weights'], \n",
        "                                  metric = knn_grid_v1.best_params_['knn__metric'])\n",
        "knn_final = Pipeline(steps=[('preprocessor', preprocessor),\n",
        "                          ('knn', final_model)])"
      ]
    },
    {
      "cell_type": "code",
      "execution_count": null,
      "metadata": {
        "colab": {
          "base_uri": "https://localhost:8080/"
        },
        "id": "D3i-CWT81jSM",
        "outputId": "b3f3d764-babb-4c3d-fa58-183258e59cae"
      },
      "outputs": [
        {
          "data": {
            "text/html": [
              "<style>#sk-cd07f7f2-a9c4-411f-8c60-84f0144f2a93 {color: black;background-color: white;}#sk-cd07f7f2-a9c4-411f-8c60-84f0144f2a93 pre{padding: 0;}#sk-cd07f7f2-a9c4-411f-8c60-84f0144f2a93 div.sk-toggleable {background-color: white;}#sk-cd07f7f2-a9c4-411f-8c60-84f0144f2a93 label.sk-toggleable__label {cursor: pointer;display: block;width: 100%;margin-bottom: 0;padding: 0.3em;box-sizing: border-box;text-align: center;}#sk-cd07f7f2-a9c4-411f-8c60-84f0144f2a93 label.sk-toggleable__label-arrow:before {content: \"▸\";float: left;margin-right: 0.25em;color: #696969;}#sk-cd07f7f2-a9c4-411f-8c60-84f0144f2a93 label.sk-toggleable__label-arrow:hover:before {color: black;}#sk-cd07f7f2-a9c4-411f-8c60-84f0144f2a93 div.sk-estimator:hover label.sk-toggleable__label-arrow:before {color: black;}#sk-cd07f7f2-a9c4-411f-8c60-84f0144f2a93 div.sk-toggleable__content {max-height: 0;max-width: 0;overflow: hidden;text-align: left;background-color: #f0f8ff;}#sk-cd07f7f2-a9c4-411f-8c60-84f0144f2a93 div.sk-toggleable__content pre {margin: 0.2em;color: black;border-radius: 0.25em;background-color: #f0f8ff;}#sk-cd07f7f2-a9c4-411f-8c60-84f0144f2a93 input.sk-toggleable__control:checked~div.sk-toggleable__content {max-height: 200px;max-width: 100%;overflow: auto;}#sk-cd07f7f2-a9c4-411f-8c60-84f0144f2a93 input.sk-toggleable__control:checked~label.sk-toggleable__label-arrow:before {content: \"▾\";}#sk-cd07f7f2-a9c4-411f-8c60-84f0144f2a93 div.sk-estimator input.sk-toggleable__control:checked~label.sk-toggleable__label {background-color: #d4ebff;}#sk-cd07f7f2-a9c4-411f-8c60-84f0144f2a93 div.sk-label input.sk-toggleable__control:checked~label.sk-toggleable__label {background-color: #d4ebff;}#sk-cd07f7f2-a9c4-411f-8c60-84f0144f2a93 input.sk-hidden--visually {border: 0;clip: rect(1px 1px 1px 1px);clip: rect(1px, 1px, 1px, 1px);height: 1px;margin: -1px;overflow: hidden;padding: 0;position: absolute;width: 1px;}#sk-cd07f7f2-a9c4-411f-8c60-84f0144f2a93 div.sk-estimator {font-family: monospace;background-color: #f0f8ff;border: 1px dotted black;border-radius: 0.25em;box-sizing: border-box;margin-bottom: 0.5em;}#sk-cd07f7f2-a9c4-411f-8c60-84f0144f2a93 div.sk-estimator:hover {background-color: #d4ebff;}#sk-cd07f7f2-a9c4-411f-8c60-84f0144f2a93 div.sk-parallel-item::after {content: \"\";width: 100%;border-bottom: 1px solid gray;flex-grow: 1;}#sk-cd07f7f2-a9c4-411f-8c60-84f0144f2a93 div.sk-label:hover label.sk-toggleable__label {background-color: #d4ebff;}#sk-cd07f7f2-a9c4-411f-8c60-84f0144f2a93 div.sk-serial::before {content: \"\";position: absolute;border-left: 1px solid gray;box-sizing: border-box;top: 2em;bottom: 0;left: 50%;}#sk-cd07f7f2-a9c4-411f-8c60-84f0144f2a93 div.sk-serial {display: flex;flex-direction: column;align-items: center;background-color: white;padding-right: 0.2em;padding-left: 0.2em;}#sk-cd07f7f2-a9c4-411f-8c60-84f0144f2a93 div.sk-item {z-index: 1;}#sk-cd07f7f2-a9c4-411f-8c60-84f0144f2a93 div.sk-parallel {display: flex;align-items: stretch;justify-content: center;background-color: white;}#sk-cd07f7f2-a9c4-411f-8c60-84f0144f2a93 div.sk-parallel::before {content: \"\";position: absolute;border-left: 1px solid gray;box-sizing: border-box;top: 2em;bottom: 0;left: 50%;}#sk-cd07f7f2-a9c4-411f-8c60-84f0144f2a93 div.sk-parallel-item {display: flex;flex-direction: column;position: relative;background-color: white;}#sk-cd07f7f2-a9c4-411f-8c60-84f0144f2a93 div.sk-parallel-item:first-child::after {align-self: flex-end;width: 50%;}#sk-cd07f7f2-a9c4-411f-8c60-84f0144f2a93 div.sk-parallel-item:last-child::after {align-self: flex-start;width: 50%;}#sk-cd07f7f2-a9c4-411f-8c60-84f0144f2a93 div.sk-parallel-item:only-child::after {width: 0;}#sk-cd07f7f2-a9c4-411f-8c60-84f0144f2a93 div.sk-dashed-wrapped {border: 1px dashed gray;margin: 0 0.4em 0.5em 0.4em;box-sizing: border-box;padding-bottom: 0.4em;background-color: white;position: relative;}#sk-cd07f7f2-a9c4-411f-8c60-84f0144f2a93 div.sk-label label {font-family: monospace;font-weight: bold;background-color: white;display: inline-block;line-height: 1.2em;}#sk-cd07f7f2-a9c4-411f-8c60-84f0144f2a93 div.sk-label-container {position: relative;z-index: 2;text-align: center;}#sk-cd07f7f2-a9c4-411f-8c60-84f0144f2a93 div.sk-container {/* jupyter's `normalize.less` sets `[hidden] { display: none; }` but bootstrap.min.css set `[hidden] { display: none !important; }` so we also need the `!important` here to be able to override the default hidden behavior on the sphinx rendered scikit-learn.org. See: https://github.com/scikit-learn/scikit-learn/issues/21755 */display: inline-block !important;position: relative;}#sk-cd07f7f2-a9c4-411f-8c60-84f0144f2a93 div.sk-text-repr-fallback {display: none;}</style><div id=\"sk-cd07f7f2-a9c4-411f-8c60-84f0144f2a93\" class=\"sk-top-container\"><div class=\"sk-text-repr-fallback\"><pre>Pipeline(steps=[(&#x27;preprocessor&#x27;,\n",
              "                 ColumnTransformer(transformers=[(&#x27;num_imputed&#x27;,\n",
              "                                                  Pipeline(steps=[(&#x27;imputation&#x27;,\n",
              "                                                                   SimpleImputer()),\n",
              "                                                                  (&#x27;scaler&#x27;,\n",
              "                                                                   StandardScaler())]),\n",
              "                                                  [&#x27;Seats&#x27;]),\n",
              "                                                 (&#x27;num_not_imputed&#x27;,\n",
              "                                                  Pipeline(steps=[(&#x27;scaler&#x27;,\n",
              "                                                                   StandardScaler())]),\n",
              "                                                  [&#x27;power_new&#x27;, &#x27;age&#x27;,\n",
              "                                                   &#x27;KM_Driven&#x27;, &#x27;engine_new&#x27;,\n",
              "                                                   &#x27;mileage_new&#x27;]),\n",
              "                                                 (&#x27;catvars&#x27;,\n",
              "                                                  Pipeline(steps=[(&#x27;ohencoder&#x27;,\n",
              "                                                                   OneHotEncoder(handle_unknown=&#x27;ignore&#x27;))]),\n",
              "                                                  [&#x27;Fuel_Type&#x27;, &#x27;Transmission&#x27;,\n",
              "                                                   &#x27;Owner_Type&#x27;, &#x27;make&#x27;,\n",
              "                                                   &#x27;Location&#x27;])])),\n",
              "                (&#x27;knn&#x27;,\n",
              "                 KNeighborsRegressor(n_neighbors=10, weights=&#x27;distance&#x27;))])</pre><b>Please rerun this cell to show the HTML repr or trust the notebook.</b></div><div class=\"sk-container\" hidden><div class=\"sk-item sk-dashed-wrapped\"><div class=\"sk-label-container\"><div class=\"sk-label sk-toggleable\"><input class=\"sk-toggleable__control sk-hidden--visually\" id=\"2cc09a0d-644b-460c-b4df-c38b5047e62b\" type=\"checkbox\" ><label for=\"2cc09a0d-644b-460c-b4df-c38b5047e62b\" class=\"sk-toggleable__label sk-toggleable__label-arrow\">Pipeline</label><div class=\"sk-toggleable__content\"><pre>Pipeline(steps=[(&#x27;preprocessor&#x27;,\n",
              "                 ColumnTransformer(transformers=[(&#x27;num_imputed&#x27;,\n",
              "                                                  Pipeline(steps=[(&#x27;imputation&#x27;,\n",
              "                                                                   SimpleImputer()),\n",
              "                                                                  (&#x27;scaler&#x27;,\n",
              "                                                                   StandardScaler())]),\n",
              "                                                  [&#x27;Seats&#x27;]),\n",
              "                                                 (&#x27;num_not_imputed&#x27;,\n",
              "                                                  Pipeline(steps=[(&#x27;scaler&#x27;,\n",
              "                                                                   StandardScaler())]),\n",
              "                                                  [&#x27;power_new&#x27;, &#x27;age&#x27;,\n",
              "                                                   &#x27;KM_Driven&#x27;, &#x27;engine_new&#x27;,\n",
              "                                                   &#x27;mileage_new&#x27;]),\n",
              "                                                 (&#x27;catvars&#x27;,\n",
              "                                                  Pipeline(steps=[(&#x27;ohencoder&#x27;,\n",
              "                                                                   OneHotEncoder(handle_unknown=&#x27;ignore&#x27;))]),\n",
              "                                                  [&#x27;Fuel_Type&#x27;, &#x27;Transmission&#x27;,\n",
              "                                                   &#x27;Owner_Type&#x27;, &#x27;make&#x27;,\n",
              "                                                   &#x27;Location&#x27;])])),\n",
              "                (&#x27;knn&#x27;,\n",
              "                 KNeighborsRegressor(n_neighbors=10, weights=&#x27;distance&#x27;))])</pre></div></div></div><div class=\"sk-serial\"><div class=\"sk-item sk-dashed-wrapped\"><div class=\"sk-label-container\"><div class=\"sk-label sk-toggleable\"><input class=\"sk-toggleable__control sk-hidden--visually\" id=\"90177d61-01b0-4831-92b1-39fc5c31b14f\" type=\"checkbox\" ><label for=\"90177d61-01b0-4831-92b1-39fc5c31b14f\" class=\"sk-toggleable__label sk-toggleable__label-arrow\">preprocessor: ColumnTransformer</label><div class=\"sk-toggleable__content\"><pre>ColumnTransformer(transformers=[(&#x27;num_imputed&#x27;,\n",
              "                                 Pipeline(steps=[(&#x27;imputation&#x27;,\n",
              "                                                  SimpleImputer()),\n",
              "                                                 (&#x27;scaler&#x27;, StandardScaler())]),\n",
              "                                 [&#x27;Seats&#x27;]),\n",
              "                                (&#x27;num_not_imputed&#x27;,\n",
              "                                 Pipeline(steps=[(&#x27;scaler&#x27;, StandardScaler())]),\n",
              "                                 [&#x27;power_new&#x27;, &#x27;age&#x27;, &#x27;KM_Driven&#x27;, &#x27;engine_new&#x27;,\n",
              "                                  &#x27;mileage_new&#x27;]),\n",
              "                                (&#x27;catvars&#x27;,\n",
              "                                 Pipeline(steps=[(&#x27;ohencoder&#x27;,\n",
              "                                                  OneHotEncoder(handle_unknown=&#x27;ignore&#x27;))]),\n",
              "                                 [&#x27;Fuel_Type&#x27;, &#x27;Transmission&#x27;, &#x27;Owner_Type&#x27;,\n",
              "                                  &#x27;make&#x27;, &#x27;Location&#x27;])])</pre></div></div></div><div class=\"sk-parallel\"><div class=\"sk-parallel-item\"><div class=\"sk-item\"><div class=\"sk-label-container\"><div class=\"sk-label sk-toggleable\"><input class=\"sk-toggleable__control sk-hidden--visually\" id=\"c11762a4-a343-45c6-b843-e1d95b21b223\" type=\"checkbox\" ><label for=\"c11762a4-a343-45c6-b843-e1d95b21b223\" class=\"sk-toggleable__label sk-toggleable__label-arrow\">num_imputed</label><div class=\"sk-toggleable__content\"><pre>[&#x27;Seats&#x27;]</pre></div></div></div><div class=\"sk-serial\"><div class=\"sk-item\"><div class=\"sk-serial\"><div class=\"sk-item\"><div class=\"sk-estimator sk-toggleable\"><input class=\"sk-toggleable__control sk-hidden--visually\" id=\"615a0eba-9f60-4d6b-bc9b-4fcb48b3f749\" type=\"checkbox\" ><label for=\"615a0eba-9f60-4d6b-bc9b-4fcb48b3f749\" class=\"sk-toggleable__label sk-toggleable__label-arrow\">SimpleImputer</label><div class=\"sk-toggleable__content\"><pre>SimpleImputer()</pre></div></div></div><div class=\"sk-item\"><div class=\"sk-estimator sk-toggleable\"><input class=\"sk-toggleable__control sk-hidden--visually\" id=\"c2a271cf-b27f-434d-8f49-3377531ef91b\" type=\"checkbox\" ><label for=\"c2a271cf-b27f-434d-8f49-3377531ef91b\" class=\"sk-toggleable__label sk-toggleable__label-arrow\">StandardScaler</label><div class=\"sk-toggleable__content\"><pre>StandardScaler()</pre></div></div></div></div></div></div></div></div><div class=\"sk-parallel-item\"><div class=\"sk-item\"><div class=\"sk-label-container\"><div class=\"sk-label sk-toggleable\"><input class=\"sk-toggleable__control sk-hidden--visually\" id=\"5131fdb3-748e-491b-a716-638e79d6172a\" type=\"checkbox\" ><label for=\"5131fdb3-748e-491b-a716-638e79d6172a\" class=\"sk-toggleable__label sk-toggleable__label-arrow\">num_not_imputed</label><div class=\"sk-toggleable__content\"><pre>[&#x27;power_new&#x27;, &#x27;age&#x27;, &#x27;KM_Driven&#x27;, &#x27;engine_new&#x27;, &#x27;mileage_new&#x27;]</pre></div></div></div><div class=\"sk-serial\"><div class=\"sk-item\"><div class=\"sk-serial\"><div class=\"sk-item\"><div class=\"sk-estimator sk-toggleable\"><input class=\"sk-toggleable__control sk-hidden--visually\" id=\"6a17a86f-01db-4c1c-a500-1a68fb19b48f\" type=\"checkbox\" ><label for=\"6a17a86f-01db-4c1c-a500-1a68fb19b48f\" class=\"sk-toggleable__label sk-toggleable__label-arrow\">StandardScaler</label><div class=\"sk-toggleable__content\"><pre>StandardScaler()</pre></div></div></div></div></div></div></div></div><div class=\"sk-parallel-item\"><div class=\"sk-item\"><div class=\"sk-label-container\"><div class=\"sk-label sk-toggleable\"><input class=\"sk-toggleable__control sk-hidden--visually\" id=\"b7575ae5-227b-403c-957f-79eac7f06176\" type=\"checkbox\" ><label for=\"b7575ae5-227b-403c-957f-79eac7f06176\" class=\"sk-toggleable__label sk-toggleable__label-arrow\">catvars</label><div class=\"sk-toggleable__content\"><pre>[&#x27;Fuel_Type&#x27;, &#x27;Transmission&#x27;, &#x27;Owner_Type&#x27;, &#x27;make&#x27;, &#x27;Location&#x27;]</pre></div></div></div><div class=\"sk-serial\"><div class=\"sk-item\"><div class=\"sk-serial\"><div class=\"sk-item\"><div class=\"sk-estimator sk-toggleable\"><input class=\"sk-toggleable__control sk-hidden--visually\" id=\"7845ca97-9071-4e44-9b0c-f39d34972513\" type=\"checkbox\" ><label for=\"7845ca97-9071-4e44-9b0c-f39d34972513\" class=\"sk-toggleable__label sk-toggleable__label-arrow\">OneHotEncoder</label><div class=\"sk-toggleable__content\"><pre>OneHotEncoder(handle_unknown=&#x27;ignore&#x27;)</pre></div></div></div></div></div></div></div></div></div></div><div class=\"sk-item\"><div class=\"sk-estimator sk-toggleable\"><input class=\"sk-toggleable__control sk-hidden--visually\" id=\"26152a4d-ec71-4f09-b8db-a5e4bc8ad2ec\" type=\"checkbox\" ><label for=\"26152a4d-ec71-4f09-b8db-a5e4bc8ad2ec\" class=\"sk-toggleable__label sk-toggleable__label-arrow\">KNeighborsRegressor</label><div class=\"sk-toggleable__content\"><pre>KNeighborsRegressor(n_neighbors=10, weights=&#x27;distance&#x27;)</pre></div></div></div></div></div></div></div>"
            ],
            "text/plain": [
              "Pipeline(steps=[('preprocessor',\n",
              "                 ColumnTransformer(transformers=[('num_imputed',\n",
              "                                                  Pipeline(steps=[('imputation',\n",
              "                                                                   SimpleImputer()),\n",
              "                                                                  ('scaler',\n",
              "                                                                   StandardScaler())]),\n",
              "                                                  ['Seats']),\n",
              "                                                 ('num_not_imputed',\n",
              "                                                  Pipeline(steps=[('scaler',\n",
              "                                                                   StandardScaler())]),\n",
              "                                                  ['power_new', 'age',\n",
              "                                                   'KM_Driven', 'engine_new',\n",
              "                                                   'mileage_new']),\n",
              "                                                 ('catvars',\n",
              "                                                  Pipeline(steps=[('ohencoder',\n",
              "                                                                   OneHotEncoder(handle_unknown='ignore'))]),\n",
              "                                                  ['Fuel_Type', 'Transmission',\n",
              "                                                   'Owner_Type', 'make',\n",
              "                                                   'Location'])])),\n",
              "                ('knn',\n",
              "                 KNeighborsRegressor(n_neighbors=10, weights='distance'))])"
            ]
          },
          "execution_count": 64,
          "metadata": {},
          "output_type": "execute_result"
        }
      ],
      "source": [
        "knn_final.fit(X_train, y_train)"
      ]
    },
    {
      "cell_type": "code",
      "execution_count": null,
      "metadata": {
        "colab": {
          "base_uri": "https://localhost:8080/"
        },
        "id": "TSa00Fhsw22S",
        "outputId": "5b4f407d-67ac-41ef-e477-911d49b9581d"
      },
      "outputs": [
        {
          "data": {
            "text/plain": [
              "0.8098088897417473"
            ]
          },
          "execution_count": 65,
          "metadata": {},
          "output_type": "execute_result"
        }
      ],
      "source": [
        "knn_final.score(X_test, y_test)"
      ]
    },
    {
      "cell_type": "code",
      "execution_count": null,
      "metadata": {
        "id": "SyA7oWWhysXj"
      },
      "outputs": [],
      "source": [
        "from sklearn.metrics import mean_squared_error"
      ]
    },
    {
      "cell_type": "code",
      "execution_count": null,
      "metadata": {
        "colab": {
          "base_uri": "https://localhost:8080/"
        },
        "id": "MEJ5xlQl10tA",
        "outputId": "8c8afcaf-2a51-4862-c879-5ef0f43d89c3"
      },
      "outputs": [
        {
          "data": {
            "text/plain": [
              "0.9615420152525802"
            ]
          },
          "execution_count": 67,
          "metadata": {},
          "output_type": "execute_result"
        }
      ],
      "source": [
        "final_rmse = np.sqrt(mean_squared_error(y_test, knn_final.predict(X_test)))\n",
        "final_rmse"
      ]
    },
    {
      "cell_type": "markdown",
      "metadata": {
        "id": "brogmWgBx26C"
      },
      "source": [
        "## Model Persistence"
      ]
    },
    {
      "cell_type": "code",
      "execution_count": null,
      "metadata": {
        "id": "UlwoeINcx3_D"
      },
      "outputs": [],
      "source": [
        "class CarPredictionModel():\n",
        "    \n",
        "    def __init__(self, model, features, rmse):\n",
        "        self.model = model\n",
        "        self.features = features\n",
        "        self.rmse = rmse"
      ]
    },
    {
      "cell_type": "code",
      "execution_count": null,
      "metadata": {
        "id": "GZubfgLQ1zcB"
      },
      "outputs": [],
      "source": [
        "my_model = CarPredictionModel(knn_final, list(X_train.columns), final_rmse)"
      ]
    },
    {
      "cell_type": "code",
      "execution_count": null,
      "metadata": {
        "id": "pJhDIag52HNH"
      },
      "outputs": [],
      "source": [
        "from joblib import dump"
      ]
    },
    {
      "cell_type": "code",
      "execution_count": null,
      "metadata": {
        "colab": {
          "base_uri": "https://localhost:8080/"
        },
        "id": "BNqmKGTa2Ji1",
        "outputId": "a0670334-ffce-4b41-d389-3bf8dbe06373"
      },
      "outputs": [
        {
          "data": {
            "text/plain": [
              "['./cars_v1.pkl']"
            ]
          },
          "execution_count": 71,
          "metadata": {},
          "output_type": "execute_result"
        }
      ],
      "source": [
        "dump(my_model, './cars_v1.pkl')"
      ]
    }
  ],
  "metadata": {
    "colab": {
      "name": "Used Car Price Prediction KNN ISB 1.0.ipynb",
      "provenance": []
    },
    "kernelspec": {
      "display_name": "Python 3",
      "language": "python",
      "name": "python3"
    },
    "language_info": {
      "codemirror_mode": {
        "name": "ipython",
        "version": 3
      },
      "file_extension": ".py",
      "mimetype": "text/x-python",
      "name": "python",
      "nbconvert_exporter": "python",
      "pygments_lexer": "ipython3",
      "version": "3.8.3"
    }
  },
  "nbformat": 4,
  "nbformat_minor": 0
}