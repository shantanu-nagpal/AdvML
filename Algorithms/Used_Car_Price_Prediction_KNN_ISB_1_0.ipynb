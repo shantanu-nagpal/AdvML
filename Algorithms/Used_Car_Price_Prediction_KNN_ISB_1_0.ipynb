{
  "cells": [
    {
      "cell_type": "markdown",
      "metadata": {
        "id": "-HoZzUgtw217"
      },
      "source": [
        "# Applying Boosting Algorithm\n",
        "\n",
        "## Description of the problem.\n",
        "\n",
        "An used car listing website plans to provide a value added feature to their customers. Once the customer uploads details of the car they want to sale, the features should estimate the expected price at which the car can be sold. Currently, the customers list the car at resale price based on their own experience or judgement. But this results in either revenue loss for customers, if they list the car at lower price or no or delayed sale, if they list at very high price. This value-add feature will help customer to find customers early and right price. \n",
        "\n",
        "The website has collected the past car resales data and plan to leverage that to build a ML model to estimate the resale price.\n",
        "\n",
        "## Dataset\n",
        "\n",
        "The dataset has 12 features of each car and the price at which they were sold. These are cars that were sold in 2019.\n",
        "\n",
        "1. Id - Car's id. This is a sequence number.\n",
        "2. Name - The brand and model of the car.\n",
        "3. Location - The location in which the car is being sold or is available for purchase.\n",
        "4. Year - The year or edition of the model.\n",
        "5. Kilometers_Driven - The total kilometers are driven in the car by the previous owner(s) in KM.\n",
        "6. Fuel_Type - The type of fuel used by the car. (Petrol, Diesel, Electric, CNG, LPG)\n",
        "7. Transmission - The type of transmission used by the car. (Automatic / Manual)\n",
        "8. Owner_Type - First, Second, Third, or Fourth & Above\n",
        "9. Mileage - The standard mileage offered by the car company in kmpl or km/kg\n",
        "10. Engine - The displacement volume of the engine in CC.\n",
        "11. Power - The maximum power of the engine in bhp.\n",
        "12. Seats - The number of seats in the car.\n",
        "13. New_Price - The price of a new car of the same model.\n",
        "14. Price - The price of the car (target)."
      ]
    },
    {
      "cell_type": "markdown",
      "metadata": {
        "id": "BJ84YzgTw21_"
      },
      "source": [
        "### Load Dataset"
      ]
    },
    {
      "cell_type": "code",
      "execution_count": null,
      "metadata": {
        "id": "G5L_CTj3w21_"
      },
      "outputs": [],
      "source": [
        "import pandas as pd\n",
        "import numpy as np\n",
        "import matplotlib.pyplot as plt\n",
        "import seaborn as sn\n",
        "\n",
        "np.random.seed(100)"
      ]
    },
    {
      "cell_type": "code",
      "execution_count": null,
      "metadata": {
        "id": "Eq48r_ddw22C"
      },
      "outputs": [],
      "source": [
        "cars_df = pd.read_csv( \"https://drive.google.com/uc?export=download&id=10-R6GyVWjt_gjWEFD86mKHDvSWD9lp1z\" )"
      ]
    },
    {
      "cell_type": "code",
      "execution_count": null,
      "metadata": {
        "colab": {
          "base_uri": "https://localhost:8080/",
          "height": 435
        },
        "id": "2w3n5IPYw22C",
        "outputId": "85f65b35-2d7e-4dbb-98ba-2e097d4848a6"
      },
      "outputs": [
        {
          "data": {
            "text/html": [
              "<div>\n",
              "<style scoped>\n",
              "    .dataframe tbody tr th:only-of-type {\n",
              "        vertical-align: middle;\n",
              "    }\n",
              "\n",
              "    .dataframe tbody tr th {\n",
              "        vertical-align: top;\n",
              "    }\n",
              "\n",
              "    .dataframe thead th {\n",
              "        text-align: right;\n",
              "    }\n",
              "</style>\n",
              "<table border=\"1\" class=\"dataframe\">\n",
              "  <thead>\n",
              "    <tr style=\"text-align: right;\">\n",
              "      <th></th>\n",
              "      <th>index</th>\n",
              "      <th>Name</th>\n",
              "      <th>Location</th>\n",
              "      <th>Year</th>\n",
              "      <th>Kilometers_Driven</th>\n",
              "      <th>Fuel_Type</th>\n",
              "      <th>Transmission</th>\n",
              "      <th>Owner_Type</th>\n",
              "      <th>Mileage</th>\n",
              "      <th>Engine</th>\n",
              "      <th>Power</th>\n",
              "      <th>Seats</th>\n",
              "      <th>New_Price</th>\n",
              "      <th>Price</th>\n",
              "      <th>age</th>\n",
              "      <th>KM_Driven</th>\n",
              "      <th>make</th>\n",
              "      <th>mileage_new</th>\n",
              "      <th>engine_new</th>\n",
              "      <th>power_new</th>\n",
              "    </tr>\n",
              "  </thead>\n",
              "  <tbody>\n",
              "    <tr>\n",
              "      <th>1587</th>\n",
              "      <td>3117</td>\n",
              "      <td>Maruti Zen Estilo LXI BS IV</td>\n",
              "      <td>Mumbai</td>\n",
              "      <td>2009</td>\n",
              "      <td>47000</td>\n",
              "      <td>Petrol</td>\n",
              "      <td>Manual</td>\n",
              "      <td>First</td>\n",
              "      <td>19.0 kmpl</td>\n",
              "      <td>998 CC</td>\n",
              "      <td>67.1 bhp</td>\n",
              "      <td>5.0</td>\n",
              "      <td>NaN</td>\n",
              "      <td>1.46</td>\n",
              "      <td>10</td>\n",
              "      <td>47</td>\n",
              "      <td>maruti</td>\n",
              "      <td>19.00</td>\n",
              "      <td>998.0</td>\n",
              "      <td>67.10</td>\n",
              "    </tr>\n",
              "    <tr>\n",
              "      <th>1888</th>\n",
              "      <td>3693</td>\n",
              "      <td>Hyundai Xcent 1.1 CRDi S</td>\n",
              "      <td>Mumbai</td>\n",
              "      <td>2016</td>\n",
              "      <td>63141</td>\n",
              "      <td>Diesel</td>\n",
              "      <td>Manual</td>\n",
              "      <td>Second</td>\n",
              "      <td>24.4 kmpl</td>\n",
              "      <td>1120 CC</td>\n",
              "      <td>71 bhp</td>\n",
              "      <td>5.0</td>\n",
              "      <td>NaN</td>\n",
              "      <td>4.50</td>\n",
              "      <td>3</td>\n",
              "      <td>63</td>\n",
              "      <td>hyundai</td>\n",
              "      <td>24.40</td>\n",
              "      <td>1120.0</td>\n",
              "      <td>71.00</td>\n",
              "    </tr>\n",
              "    <tr>\n",
              "      <th>845</th>\n",
              "      <td>1694</td>\n",
              "      <td>Hyundai i10 Sportz AT</td>\n",
              "      <td>Chennai</td>\n",
              "      <td>2013</td>\n",
              "      <td>21000</td>\n",
              "      <td>Petrol</td>\n",
              "      <td>Automatic</td>\n",
              "      <td>First</td>\n",
              "      <td>16.95 kmpl</td>\n",
              "      <td>1197 CC</td>\n",
              "      <td>78.9 bhp</td>\n",
              "      <td>5.0</td>\n",
              "      <td>NaN</td>\n",
              "      <td>3.96</td>\n",
              "      <td>6</td>\n",
              "      <td>21</td>\n",
              "      <td>hyundai</td>\n",
              "      <td>16.95</td>\n",
              "      <td>1197.0</td>\n",
              "      <td>78.90</td>\n",
              "    </tr>\n",
              "    <tr>\n",
              "      <th>362</th>\n",
              "      <td>761</td>\n",
              "      <td>Tata Nano Lx BSIV</td>\n",
              "      <td>Chennai</td>\n",
              "      <td>2011</td>\n",
              "      <td>35000</td>\n",
              "      <td>Petrol</td>\n",
              "      <td>Manual</td>\n",
              "      <td>First</td>\n",
              "      <td>25.4 kmpl</td>\n",
              "      <td>624 CC</td>\n",
              "      <td>37.48 bhp</td>\n",
              "      <td>4.0</td>\n",
              "      <td>NaN</td>\n",
              "      <td>1.60</td>\n",
              "      <td>8</td>\n",
              "      <td>35</td>\n",
              "      <td>tata</td>\n",
              "      <td>25.40</td>\n",
              "      <td>624.0</td>\n",
              "      <td>37.48</td>\n",
              "    </tr>\n",
              "    <tr>\n",
              "      <th>2858</th>\n",
              "      <td>5562</td>\n",
              "      <td>Maruti Ciaz VDI SHVS</td>\n",
              "      <td>Kochi</td>\n",
              "      <td>2018</td>\n",
              "      <td>17804</td>\n",
              "      <td>Diesel</td>\n",
              "      <td>Manual</td>\n",
              "      <td>Second</td>\n",
              "      <td>28.09 kmpl</td>\n",
              "      <td>1248 CC</td>\n",
              "      <td>88.5 bhp</td>\n",
              "      <td>5.0</td>\n",
              "      <td>NaN</td>\n",
              "      <td>7.97</td>\n",
              "      <td>1</td>\n",
              "      <td>17</td>\n",
              "      <td>maruti</td>\n",
              "      <td>28.09</td>\n",
              "      <td>1248.0</td>\n",
              "      <td>88.50</td>\n",
              "    </tr>\n",
              "  </tbody>\n",
              "</table>\n",
              "</div>"
            ],
            "text/plain": [
              "      index                         Name Location  Year  Kilometers_Driven  \\\n",
              "1587   3117  Maruti Zen Estilo LXI BS IV   Mumbai  2009              47000   \n",
              "1888   3693     Hyundai Xcent 1.1 CRDi S   Mumbai  2016              63141   \n",
              "845    1694        Hyundai i10 Sportz AT  Chennai  2013              21000   \n",
              "362     761            Tata Nano Lx BSIV  Chennai  2011              35000   \n",
              "2858   5562         Maruti Ciaz VDI SHVS    Kochi  2018              17804   \n",
              "\n",
              "     Fuel_Type Transmission Owner_Type     Mileage   Engine      Power  Seats  \\\n",
              "1587    Petrol       Manual      First   19.0 kmpl   998 CC   67.1 bhp    5.0   \n",
              "1888    Diesel       Manual     Second   24.4 kmpl  1120 CC     71 bhp    5.0   \n",
              "845     Petrol    Automatic      First  16.95 kmpl  1197 CC   78.9 bhp    5.0   \n",
              "362     Petrol       Manual      First   25.4 kmpl   624 CC  37.48 bhp    4.0   \n",
              "2858    Diesel       Manual     Second  28.09 kmpl  1248 CC   88.5 bhp    5.0   \n",
              "\n",
              "     New_Price  Price  age  KM_Driven     make  mileage_new  engine_new  \\\n",
              "1587       NaN   1.46   10         47   maruti        19.00       998.0   \n",
              "1888       NaN   4.50    3         63  hyundai        24.40      1120.0   \n",
              "845        NaN   3.96    6         21  hyundai        16.95      1197.0   \n",
              "362        NaN   1.60    8         35     tata        25.40       624.0   \n",
              "2858       NaN   7.97    1         17   maruti        28.09      1248.0   \n",
              "\n",
              "      power_new  \n",
              "1587      67.10  \n",
              "1888      71.00  \n",
              "845       78.90  \n",
              "362       37.48  \n",
              "2858      88.50  "
            ]
          },
          "execution_count": 3,
          "metadata": {},
          "output_type": "execute_result"
        }
      ],
      "source": [
        "cars_df.sample(5)"
      ]
    },
    {
      "cell_type": "code",
      "execution_count": null,
      "metadata": {
        "colab": {
          "base_uri": "https://localhost:8080/"
        },
        "id": "6mX167jxw22C",
        "outputId": "0c5d24c6-35a6-4f3b-8ab4-9de3f0abdad8"
      },
      "outputs": [
        {
          "name": "stdout",
          "output_type": "stream",
          "text": [
            "<class 'pandas.core.frame.DataFrame'>\n",
            "RangeIndex: 3092 entries, 0 to 3091\n",
            "Data columns (total 20 columns):\n",
            " #   Column             Non-Null Count  Dtype  \n",
            "---  ------             --------------  -----  \n",
            " 0   index              3092 non-null   int64  \n",
            " 1   Name               3092 non-null   object \n",
            " 2   Location           3092 non-null   object \n",
            " 3   Year               3092 non-null   int64  \n",
            " 4   Kilometers_Driven  3092 non-null   int64  \n",
            " 5   Fuel_Type          3092 non-null   object \n",
            " 6   Transmission       3092 non-null   object \n",
            " 7   Owner_Type         3092 non-null   object \n",
            " 8   Mileage            3092 non-null   object \n",
            " 9   Engine             3092 non-null   object \n",
            " 10  Power              3092 non-null   object \n",
            " 11  Seats              3091 non-null   float64\n",
            " 12  New_Price          411 non-null    object \n",
            " 13  Price              3092 non-null   float64\n",
            " 14  age                3092 non-null   int64  \n",
            " 15  KM_Driven          3092 non-null   int64  \n",
            " 16  make               3092 non-null   object \n",
            " 17  mileage_new        3092 non-null   float64\n",
            " 18  engine_new         3092 non-null   float64\n",
            " 19  power_new          3092 non-null   float64\n",
            "dtypes: float64(5), int64(5), object(10)\n",
            "memory usage: 483.2+ KB\n"
          ]
        }
      ],
      "source": [
        "cars_df.info()"
      ]
    },
    {
      "cell_type": "markdown",
      "metadata": {
        "id": "1z6m4MOmw22D"
      },
      "source": [
        "### Feature Set Selection"
      ]
    },
    {
      "cell_type": "code",
      "execution_count": null,
      "metadata": {
        "colab": {
          "base_uri": "https://localhost:8080/"
        },
        "id": "QdC67nm9w22D",
        "outputId": "eea4cacb-db2f-4e7d-8040-10b90fd7bd5f"
      },
      "outputs": [
        {
          "data": {
            "text/plain": [
              "Index(['index', 'Name', 'Location', 'Year', 'Kilometers_Driven', 'Fuel_Type',\n",
              "       'Transmission', 'Owner_Type', 'Mileage', 'Engine', 'Power', 'Seats',\n",
              "       'New_Price', 'Price', 'age', 'KM_Driven', 'make', 'mileage_new',\n",
              "       'engine_new', 'power_new'],\n",
              "      dtype='object')"
            ]
          },
          "execution_count": 5,
          "metadata": {},
          "output_type": "execute_result"
        }
      ],
      "source": [
        "cars_df.columns"
      ]
    },
    {
      "cell_type": "code",
      "execution_count": null,
      "metadata": {
        "id": "pedL0bwww22E"
      },
      "outputs": [],
      "source": [
        "x_features = ['KM_Driven', 'Fuel_Type', 'age',\n",
        "              'Transmission', 'Owner_Type', 'Seats', \n",
        "              'make', 'mileage_new', 'engine_new', \n",
        "              'power_new', 'Location']"
      ]
    },
    {
      "cell_type": "code",
      "execution_count": null,
      "metadata": {
        "id": "bgywybWAw22F"
      },
      "outputs": [],
      "source": [
        "cat_vars = ['Fuel_Type', \n",
        "                'Transmission', 'Owner_Type',\n",
        "                'make', 'Location']"
      ]
    },
    {
      "cell_type": "code",
      "execution_count": null,
      "metadata": {
        "id": "2DnPA-jzw22F"
      },
      "outputs": [],
      "source": [
        "num_vars = list(set(x_features) - set(cat_vars))"
      ]
    },
    {
      "cell_type": "code",
      "execution_count": null,
      "metadata": {
        "colab": {
          "base_uri": "https://localhost:8080/"
        },
        "id": "jjXxkrb7w22F",
        "outputId": "d8d7c126-9341-4111-dde8-6b5443d355a1"
      },
      "outputs": [
        {
          "data": {
            "text/plain": [
              "['engine_new', 'KM_Driven', 'age', 'power_new', 'Seats', 'mileage_new']"
            ]
          },
          "execution_count": 9,
          "metadata": {},
          "output_type": "execute_result"
        }
      ],
      "source": [
        "num_vars"
      ]
    },
    {
      "cell_type": "code",
      "execution_count": null,
      "metadata": {
        "colab": {
          "base_uri": "https://localhost:8080/"
        },
        "id": "0fd6gq5gw22G",
        "outputId": "773308cf-b877-4b7e-f52b-e5221a57a6af"
      },
      "outputs": [
        {
          "name": "stdout",
          "output_type": "stream",
          "text": [
            "<class 'pandas.core.frame.DataFrame'>\n",
            "RangeIndex: 3092 entries, 0 to 3091\n",
            "Data columns (total 11 columns):\n",
            " #   Column        Non-Null Count  Dtype  \n",
            "---  ------        --------------  -----  \n",
            " 0   KM_Driven     3092 non-null   int64  \n",
            " 1   Fuel_Type     3092 non-null   object \n",
            " 2   age           3092 non-null   int64  \n",
            " 3   Transmission  3092 non-null   object \n",
            " 4   Owner_Type    3092 non-null   object \n",
            " 5   Seats         3091 non-null   float64\n",
            " 6   make          3092 non-null   object \n",
            " 7   mileage_new   3092 non-null   float64\n",
            " 8   engine_new    3092 non-null   float64\n",
            " 9   power_new     3092 non-null   float64\n",
            " 10  Location      3092 non-null   object \n",
            "dtypes: float64(4), int64(2), object(5)\n",
            "memory usage: 265.8+ KB\n"
          ]
        }
      ],
      "source": [
        "cars_df[x_features].info()"
      ]
    },
    {
      "cell_type": "markdown",
      "metadata": {
        "id": "eK3WNm4Tw22I"
      },
      "source": [
        "### Setting X and y variables"
      ]
    },
    {
      "cell_type": "code",
      "execution_count": null,
      "metadata": {
        "id": "kNJGjz5dw22I"
      },
      "outputs": [],
      "source": [
        "X = cars_df[x_features]\n",
        "y = cars_df['Price']"
      ]
    },
    {
      "cell_type": "markdown",
      "metadata": {
        "id": "4Dn5xMfJw22I"
      },
      "source": [
        "### Data Splitting"
      ]
    },
    {
      "cell_type": "code",
      "execution_count": null,
      "metadata": {
        "id": "SZJO1MTKw22I"
      },
      "outputs": [],
      "source": [
        "from sklearn.model_selection import train_test_split"
      ]
    },
    {
      "cell_type": "code",
      "execution_count": null,
      "metadata": {
        "id": "_w4QYKouw22J"
      },
      "outputs": [],
      "source": [
        "X_train, X_test, y_train, y_test = train_test_split(X,\n",
        "                                                    y,\n",
        "                                                    train_size = 0.8,\n",
        "                                                    random_state = 80)"
      ]
    },
    {
      "cell_type": "code",
      "execution_count": null,
      "metadata": {
        "colab": {
          "base_uri": "https://localhost:8080/"
        },
        "id": "MJvUKKtEw22J",
        "outputId": "dd01f850-67a0-411a-d960-5c72edfa9df4"
      },
      "outputs": [
        {
          "data": {
            "text/plain": [
              "(2473, 11)"
            ]
          },
          "execution_count": 14,
          "metadata": {},
          "output_type": "execute_result"
        }
      ],
      "source": [
        "X_train.shape"
      ]
    },
    {
      "cell_type": "code",
      "execution_count": null,
      "metadata": {
        "colab": {
          "base_uri": "https://localhost:8080/"
        },
        "id": "guj1I1pTw22K",
        "outputId": "f2104c45-a4b4-49bf-fec9-d0e2eeab3044"
      },
      "outputs": [
        {
          "data": {
            "text/plain": [
              "(619, 11)"
            ]
          },
          "execution_count": 15,
          "metadata": {},
          "output_type": "execute_result"
        }
      ],
      "source": [
        "X_test.shape"
      ]
    },
    {
      "cell_type": "markdown",
      "metadata": {
        "id": "ewAeqpXOl1Qp"
      },
      "source": [
        "## Defining Transformation"
      ]
    },
    {
      "cell_type": "markdown",
      "metadata": {
        "id": "gtNMUcZCl1Qp"
      },
      "source": [
        "1. Data imputation for Seats Column\n",
        "    - Mean imputation \n",
        "2. Categorical Encoding for categorical columns\n",
        "    - OHE Encoding\n",
        "3. Data scaling\n",
        "    - Standard scaling"
      ]
    },
    {
      "cell_type": "code",
      "execution_count": null,
      "metadata": {
        "id": "IvXsqpyTl1Qp"
      },
      "outputs": [],
      "source": [
        "from sklearn.impute import SimpleImputer"
      ]
    },
    {
      "cell_type": "code",
      "execution_count": null,
      "metadata": {
        "id": "c5lvkTw3l1Qp"
      },
      "outputs": [],
      "source": [
        "imputed_num_vars = ['Seats']"
      ]
    },
    {
      "cell_type": "code",
      "execution_count": null,
      "metadata": {
        "id": "T4kD5v_0l1Qq",
        "outputId": "fc422869-9bc2-4552-ac94-5a5875f08f2c"
      },
      "outputs": [
        {
          "data": {
            "text/plain": [
              "['Seats']"
            ]
          },
          "execution_count": 18,
          "metadata": {},
          "output_type": "execute_result"
        }
      ],
      "source": [
        "imputed_num_vars"
      ]
    },
    {
      "cell_type": "code",
      "execution_count": null,
      "metadata": {
        "id": "Cep0oxq8l1Qq"
      },
      "outputs": [],
      "source": [
        "non_imputed_num_vars = list(set(num_vars) - set(imputed_num_vars))"
      ]
    },
    {
      "cell_type": "code",
      "execution_count": null,
      "metadata": {
        "id": "jbCraRCUl1Qq",
        "outputId": "02c34bc4-9257-405e-a722-27cfbf78e207"
      },
      "outputs": [
        {
          "data": {
            "text/plain": [
              "['engine_new', 'KM_Driven', 'age', 'power_new', 'mileage_new']"
            ]
          },
          "execution_count": 20,
          "metadata": {},
          "output_type": "execute_result"
        }
      ],
      "source": [
        "non_imputed_num_vars"
      ]
    },
    {
      "cell_type": "code",
      "execution_count": null,
      "metadata": {
        "id": "09urkfkXl1Qq"
      },
      "outputs": [],
      "source": [
        "mean_imputer = SimpleImputer(strategy='mean')"
      ]
    },
    {
      "cell_type": "markdown",
      "metadata": {
        "id": "__tEV1ylw22K"
      },
      "source": [
        "### Encode Categorical Variables"
      ]
    },
    {
      "cell_type": "code",
      "execution_count": null,
      "metadata": {
        "id": "k6KIfWa6w22K"
      },
      "outputs": [],
      "source": [
        "from sklearn.preprocessing import OneHotEncoder"
      ]
    },
    {
      "cell_type": "code",
      "execution_count": null,
      "metadata": {
        "id": "085_YnWLw22K"
      },
      "outputs": [],
      "source": [
        "ohe_encoder = OneHotEncoder(handle_unknown='ignore')"
      ]
    },
    {
      "cell_type": "markdown",
      "metadata": {
        "id": "k56jVnrfl1Qr"
      },
      "source": [
        "### Scaling Numerical Vars"
      ]
    },
    {
      "cell_type": "code",
      "execution_count": null,
      "metadata": {
        "id": "pQdttAo9l1Qr"
      },
      "outputs": [],
      "source": [
        "from sklearn.preprocessing import StandardScaler\n",
        "\n",
        "scaler = StandardScaler()"
      ]
    },
    {
      "cell_type": "markdown",
      "metadata": {
        "id": "YEHv-virl1Qr"
      },
      "source": [
        "## Creating Pipelines"
      ]
    },
    {
      "cell_type": "code",
      "execution_count": null,
      "metadata": {
        "id": "0h20qY_gw22L"
      },
      "outputs": [],
      "source": [
        "from sklearn.compose import ColumnTransformer\n",
        "from sklearn.pipeline import Pipeline"
      ]
    },
    {
      "cell_type": "code",
      "execution_count": null,
      "metadata": {
        "id": "9FiwVkwcl1Q2"
      },
      "outputs": [],
      "source": [
        "imputed_num_transformer = Pipeline( steps = [  \n",
        "        ('imputation', mean_imputer),\n",
        "        ('scaler', scaler)])"
      ]
    },
    {
      "cell_type": "code",
      "execution_count": null,
      "metadata": {
        "id": "ggr86PrVl1Q3"
      },
      "outputs": [],
      "source": [
        "non_imputed_num_transformer = Pipeline( steps = [('scaler', scaler)])"
      ]
    },
    {
      "cell_type": "code",
      "execution_count": null,
      "metadata": {
        "id": "1qvJGgSjl1Q3"
      },
      "outputs": [],
      "source": [
        "cat_transformer = Pipeline( steps = [('ohencoder', ohe_encoder)])"
      ]
    },
    {
      "cell_type": "code",
      "execution_count": null,
      "metadata": {
        "id": "iPRmLEoYl1Q3"
      },
      "outputs": [],
      "source": [
        "preprocessor = ColumnTransformer(\n",
        "    transformers=[  \n",
        "        ('num_imputed', imputed_num_transformer, imputed_num_vars),\n",
        "        ('num_not_imputed', non_imputed_num_transformer, non_imputed_num_vars),\n",
        "        ('catvars', cat_transformer, cat_vars)])"
      ]
    },
    {
      "cell_type": "markdown",
      "metadata": {
        "id": "ENbz3exkw22L"
      },
      "source": [
        "### Decision Tree Regressor\n"
      ]
    },
    {
      "cell_type": "code",
      "execution_count": null,
      "metadata": {
        "id": "6gtfb7dQl1Q3"
      },
      "outputs": [],
      "source": [
        "from sklearn.tree import DecisionTreeRegressor"
      ]
    },
    {
      "cell_type": "code",
      "execution_count": null,
      "metadata": {
        "id": "4EK1tuyTl1Q3"
      },
      "outputs": [],
      "source": [
        "tree_regressor = DecisionTreeRegressor(max_depth=7)"
      ]
    },
    {
      "cell_type": "code",
      "execution_count": null,
      "metadata": {
        "id": "i17dhEN1w22M"
      },
      "outputs": [],
      "source": [
        "reg = Pipeline(steps=[('preprocessor', preprocessor),\n",
        "                      ('regressor', tree_regressor)])           "
      ]
    },
    {
      "cell_type": "code",
      "execution_count": null,
      "metadata": {
        "colab": {
          "base_uri": "https://localhost:8080/"
        },
        "id": "lLAFK4BFw22N",
        "outputId": "f316b8e0-96fd-49b0-c635-a7d604468ee0"
      },
      "outputs": [
        {
          "data": {
            "text/plain": [
              "Pipeline(steps=[('preprocessor',\n",
              "                 ColumnTransformer(transformers=[('num_imputed',\n",
              "                                                  Pipeline(steps=[('imputation',\n",
              "                                                                   SimpleImputer()),\n",
              "                                                                  ('scaler',\n",
              "                                                                   StandardScaler())]),\n",
              "                                                  ['Seats']),\n",
              "                                                 ('num_not_imputed',\n",
              "                                                  Pipeline(steps=[('scaler',\n",
              "                                                                   StandardScaler())]),\n",
              "                                                  ['engine_new', 'KM_Driven',\n",
              "                                                   'age', 'power_new',\n",
              "                                                   'mileage_new']),\n",
              "                                                 ('catvars',\n",
              "                                                  Pipeline(steps=[('ohencoder',\n",
              "                                                                   OneHotEncoder(handle_unknown='ignore'))]),\n",
              "                                                  ['Fuel_Type', 'Transmission',\n",
              "                                                   'Owner_Type', 'make',\n",
              "                                                   'Location'])])),\n",
              "                ('regressor', DecisionTreeRegressor(max_depth=7))])"
            ]
          },
          "execution_count": 65,
          "metadata": {},
          "output_type": "execute_result"
        }
      ],
      "source": [
        "reg.fit(X_train, y_train)"
      ]
    },
    {
      "cell_type": "code",
      "execution_count": null,
      "metadata": {
        "id": "Nyu5t5njw22P"
      },
      "outputs": [],
      "source": [
        "from sklearn.model_selection import cross_val_score"
      ]
    },
    {
      "cell_type": "code",
      "execution_count": null,
      "metadata": {
        "id": "701xL-nXw22P"
      },
      "outputs": [],
      "source": [
        "scores = cross_val_score( reg,\n",
        "                          X_train,\n",
        "                          y_train,\n",
        "                          cv = 10,\n",
        "                          scoring = 'r2')"
      ]
    },
    {
      "cell_type": "code",
      "execution_count": null,
      "metadata": {
        "colab": {
          "base_uri": "https://localhost:8080/"
        },
        "id": "_r_beNeyw22P",
        "outputId": "0cb5e238-dca9-42d8-c668-bf561985c735"
      },
      "outputs": [
        {
          "data": {
            "text/plain": [
              "array([0.79511729, 0.74005365, 0.78425536, 0.79843413, 0.78326706,\n",
              "       0.70744353, 0.75331209, 0.75814041, 0.7863509 , 0.78538164])"
            ]
          },
          "execution_count": 68,
          "metadata": {},
          "output_type": "execute_result"
        }
      ],
      "source": [
        "scores"
      ]
    },
    {
      "cell_type": "code",
      "execution_count": null,
      "metadata": {
        "colab": {
          "base_uri": "https://localhost:8080/"
        },
        "id": "rEzsQb8Ew22P",
        "outputId": "df0a790d-3d94-4d86-8435-c8c9229b5465"
      },
      "outputs": [
        {
          "data": {
            "text/plain": [
              "0.7691756070413229"
            ]
          },
          "execution_count": 69,
          "metadata": {},
          "output_type": "execute_result"
        }
      ],
      "source": [
        "scores.mean()"
      ]
    },
    {
      "cell_type": "code",
      "execution_count": null,
      "metadata": {
        "colab": {
          "base_uri": "https://localhost:8080/"
        },
        "id": "aUrmsOF4w22Q",
        "outputId": "af766237-f033-4d9c-8c0d-acdedb650966"
      },
      "outputs": [
        {
          "data": {
            "text/plain": [
              "0.027468146075534966"
            ]
          },
          "execution_count": 70,
          "metadata": {},
          "output_type": "execute_result"
        }
      ],
      "source": [
        "scores.std()"
      ]
    },
    {
      "cell_type": "code",
      "execution_count": null,
      "metadata": {
        "id": "F66rju8hl1Q4"
      },
      "outputs": [],
      "source": [
        "from sklearn.metrics import mean_squared_error"
      ]
    },
    {
      "cell_type": "code",
      "execution_count": null,
      "metadata": {
        "id": "_lrUlgxMl1Q4",
        "outputId": "dc65c26e-f756-46d6-beb4-586c1e18a98f"
      },
      "outputs": [
        {
          "data": {
            "text/plain": [
              "1.0355771521768948"
            ]
          },
          "execution_count": 72,
          "metadata": {},
          "output_type": "execute_result"
        }
      ],
      "source": [
        "np.sqrt(mean_squared_error(y_test, reg.predict(X_test)))"
      ]
    },
    {
      "cell_type": "markdown",
      "metadata": {
        "id": "_hCp9IMwl1Q4"
      },
      "source": [
        "### Gradient Boosting"
      ]
    },
    {
      "cell_type": "code",
      "execution_count": null,
      "metadata": {
        "id": "cWbkSPmpl1Q4"
      },
      "outputs": [],
      "source": [
        "from sklearn.ensemble import AdaBoostRegressor, GradientBoostingRegressor"
      ]
    },
    {
      "cell_type": "code",
      "execution_count": null,
      "metadata": {
        "id": "-6PX7J8el1Q4"
      },
      "outputs": [],
      "source": [
        "gboost_regressor = GradientBoostingRegressor(n_estimators=100,learning_rate = 0.1)"
      ]
    },
    {
      "cell_type": "code",
      "execution_count": null,
      "metadata": {
        "id": "hW80-aX6l1Q4"
      },
      "outputs": [],
      "source": [
        "gboost_reg = Pipeline(steps=[('preprocessor', preprocessor),\n",
        "                              ('regressor', gboost_regressor)])           "
      ]
    },
    {
      "cell_type": "code",
      "execution_count": null,
      "metadata": {
        "colab": {
          "base_uri": "https://localhost:8080/"
        },
        "outputId": "f316b8e0-96fd-49b0-c635-a7d604468ee0",
        "id": "-YO4XrRIl1Q4"
      },
      "outputs": [
        {
          "data": {
            "text/plain": [
              "Pipeline(steps=[('preprocessor',\n",
              "                 ColumnTransformer(transformers=[('num_imputed',\n",
              "                                                  Pipeline(steps=[('imputation',\n",
              "                                                                   SimpleImputer()),\n",
              "                                                                  ('scaler',\n",
              "                                                                   StandardScaler())]),\n",
              "                                                  ['Seats']),\n",
              "                                                 ('num_not_imputed',\n",
              "                                                  Pipeline(steps=[('scaler',\n",
              "                                                                   StandardScaler())]),\n",
              "                                                  ['engine_new', 'KM_Driven',\n",
              "                                                   'age', 'power_new',\n",
              "                                                   'mileage_new']),\n",
              "                                                 ('catvars',\n",
              "                                                  Pipeline(steps=[('ohencoder',\n",
              "                                                                   OneHotEncoder(handle_unknown='ignore'))]),\n",
              "                                                  ['Fuel_Type', 'Transmission',\n",
              "                                                   'Owner_Type', 'make',\n",
              "                                                   'Location'])])),\n",
              "                ('regressor', GradientBoostingRegressor())])"
            ]
          },
          "execution_count": 104,
          "metadata": {},
          "output_type": "execute_result"
        }
      ],
      "source": [
        "gboost_reg.fit(X_train, y_train)"
      ]
    },
    {
      "cell_type": "code",
      "execution_count": null,
      "metadata": {
        "id": "aeSByKlxl1Q4"
      },
      "outputs": [],
      "source": [
        "from sklearn.model_selection import cross_val_score"
      ]
    },
    {
      "cell_type": "code",
      "execution_count": null,
      "metadata": {
        "id": "6hyf02kol1Q4"
      },
      "outputs": [],
      "source": [
        "scores = cross_val_score( gboost_reg,\n",
        "                          X_train,\n",
        "                          y_train,\n",
        "                          cv = 10,\n",
        "                          scoring = 'r2')"
      ]
    },
    {
      "cell_type": "code",
      "execution_count": null,
      "metadata": {
        "colab": {
          "base_uri": "https://localhost:8080/"
        },
        "outputId": "0cb5e238-dca9-42d8-c668-bf561985c735",
        "id": "_5PtvOY8l1Q4"
      },
      "outputs": [
        {
          "data": {
            "text/plain": [
              "array([0.8737737 , 0.85253307, 0.8775764 , 0.89593407, 0.84973782,\n",
              "       0.86631856, 0.86473147, 0.85039147, 0.85882263, 0.8743666 ])"
            ]
          },
          "execution_count": 107,
          "metadata": {},
          "output_type": "execute_result"
        }
      ],
      "source": [
        "scores"
      ]
    },
    {
      "cell_type": "code",
      "execution_count": null,
      "metadata": {
        "colab": {
          "base_uri": "https://localhost:8080/"
        },
        "outputId": "df0a790d-3d94-4d86-8435-c8c9229b5465",
        "id": "9liwxNdDl1Q4"
      },
      "outputs": [
        {
          "data": {
            "text/plain": [
              "0.8664185774718696"
            ]
          },
          "execution_count": 108,
          "metadata": {},
          "output_type": "execute_result"
        }
      ],
      "source": [
        "scores.mean()"
      ]
    },
    {
      "cell_type": "code",
      "execution_count": null,
      "metadata": {
        "colab": {
          "base_uri": "https://localhost:8080/"
        },
        "outputId": "af766237-f033-4d9c-8c0d-acdedb650966",
        "id": "QDNVTxGSl1Q4"
      },
      "outputs": [
        {
          "data": {
            "text/plain": [
              "0.01378915625357891"
            ]
          },
          "execution_count": 109,
          "metadata": {},
          "output_type": "execute_result"
        }
      ],
      "source": [
        "scores.std()"
      ]
    },
    {
      "cell_type": "code",
      "execution_count": null,
      "metadata": {
        "id": "2kk9dvJgl1Q4",
        "outputId": "b552a3e9-fd86-4233-9966-3dbdeda2ee11"
      },
      "outputs": [
        {
          "data": {
            "text/plain": [
              "0.7819054786959797"
            ]
          },
          "execution_count": 110,
          "metadata": {},
          "output_type": "execute_result"
        }
      ],
      "source": [
        "np.sqrt(mean_squared_error(y_test, gboost_reg.predict(X_test)))"
      ]
    },
    {
      "cell_type": "markdown",
      "metadata": {
        "id": "X-MtudFtl1Q4"
      },
      "source": [
        "### XGBoost\n",
        "\n",
        "\n",
        "#### objective\n",
        "- Default = reg:linear\n",
        "- It defines the loss function to be minimized. Most commonly used values are given below -\n",
        "- reg:squarederror: regression with squared loss.\n",
        "- reg:squaredlogerror: regression with squared log loss 1/2[log(pred+1)−log(label+1)]2. — All input labels are required to be greater than -1.\n",
        "- binary:logistic: logistic regression for binary classification, output probability.\n",
        "- multi:softmax: set XGBoost to do multiclass classification using the softmax objective, you also need to set num_class(number of classes)."
      ]
    },
    {
      "cell_type": "code",
      "execution_count": null,
      "metadata": {
        "id": "7aRpKlfZl1Q5"
      },
      "outputs": [],
      "source": [
        "from xgboost import XGBRegressor"
      ]
    },
    {
      "cell_type": "code",
      "execution_count": null,
      "metadata": {
        "id": "E6IUvA_Ll1Q5"
      },
      "outputs": [],
      "source": [
        "params = { \"n_estimators\": 400,\n",
        "           \"max_depth\": 4,\n",
        "           \"objective\": 'reg:squarederror' }\n",
        "\n",
        "xgb_regressor = XGBRegressor(**params)"
      ]
    },
    {
      "cell_type": "code",
      "execution_count": null,
      "metadata": {
        "id": "MX4ZeEjJl1Q5"
      },
      "outputs": [],
      "source": [
        "xgb_reg = Pipeline(steps=[('preprocessor', preprocessor),\n",
        "                          ('regressor', xgb_regressor)])           "
      ]
    },
    {
      "cell_type": "code",
      "execution_count": null,
      "metadata": {
        "colab": {
          "base_uri": "https://localhost:8080/"
        },
        "outputId": "f316b8e0-96fd-49b0-c635-a7d604468ee0",
        "id": "wZpP8hVgl1Q5"
      },
      "outputs": [
        {
          "data": {
            "text/plain": [
              "Pipeline(steps=[('preprocessor',\n",
              "                 ColumnTransformer(transformers=[('num_imputed',\n",
              "                                                  Pipeline(steps=[('imputation',\n",
              "                                                                   SimpleImputer()),\n",
              "                                                                  ('scaler',\n",
              "                                                                   StandardScaler())]),\n",
              "                                                  ['Seats']),\n",
              "                                                 ('num_not_imputed',\n",
              "                                                  Pipeline(steps=[('scaler',\n",
              "                                                                   StandardScaler())]),\n",
              "                                                  ['engine_new', 'KM_Driven',\n",
              "                                                   'age', 'power_new',\n",
              "                                                   'mileage_new']),\n",
              "                                                 ('catvars',\n",
              "                                                  Pipeline(steps=[('ohencoder',\n",
              "                                                                   OneHotEncoder(hand...\n",
              "                              colsample_bytree=1, gamma=0, gpu_id=-1,\n",
              "                              importance_type='gain',\n",
              "                              interaction_constraints='',\n",
              "                              learning_rate=0.300000012, max_delta_step=0,\n",
              "                              max_depth=4, min_child_weight=1, missing=nan,\n",
              "                              monotone_constraints='()', n_estimators=400,\n",
              "                              n_jobs=0, num_parallel_tree=1, random_state=0,\n",
              "                              reg_alpha=0, reg_lambda=1, scale_pos_weight=1,\n",
              "                              subsample=1, tree_method='exact',\n",
              "                              validate_parameters=1, verbosity=None))])"
            ]
          },
          "execution_count": 118,
          "metadata": {},
          "output_type": "execute_result"
        }
      ],
      "source": [
        "xgb_reg.fit(X_train, y_train)"
      ]
    },
    {
      "cell_type": "code",
      "execution_count": null,
      "metadata": {
        "id": "Pve0384Kl1Q5"
      },
      "outputs": [],
      "source": [
        "from sklearn.model_selection import cross_val_score"
      ]
    },
    {
      "cell_type": "code",
      "execution_count": null,
      "metadata": {
        "id": "QibiAEbPl1Q5"
      },
      "outputs": [],
      "source": [
        "scores = cross_val_score( xgb_reg,\n",
        "                          X_train,\n",
        "                          y_train,\n",
        "                          cv = 10,\n",
        "                          scoring = 'r2')"
      ]
    },
    {
      "cell_type": "code",
      "execution_count": null,
      "metadata": {
        "colab": {
          "base_uri": "https://localhost:8080/"
        },
        "outputId": "0cb5e238-dca9-42d8-c668-bf561985c735",
        "id": "8sb3lOs9l1Q5"
      },
      "outputs": [
        {
          "data": {
            "text/plain": [
              "array([0.89895372, 0.88198918, 0.90409322, 0.91557371, 0.91022841,\n",
              "       0.87555769, 0.91763234, 0.88597505, 0.89580965, 0.90969536])"
            ]
          },
          "execution_count": 121,
          "metadata": {},
          "output_type": "execute_result"
        }
      ],
      "source": [
        "scores"
      ]
    },
    {
      "cell_type": "code",
      "execution_count": null,
      "metadata": {
        "colab": {
          "base_uri": "https://localhost:8080/"
        },
        "outputId": "df0a790d-3d94-4d86-8435-c8c9229b5465",
        "id": "zXFCjHvjl1Q5"
      },
      "outputs": [
        {
          "data": {
            "text/plain": [
              "0.8995508342555605"
            ]
          },
          "execution_count": 122,
          "metadata": {},
          "output_type": "execute_result"
        }
      ],
      "source": [
        "scores.mean()"
      ]
    },
    {
      "cell_type": "code",
      "execution_count": null,
      "metadata": {
        "colab": {
          "base_uri": "https://localhost:8080/"
        },
        "outputId": "af766237-f033-4d9c-8c0d-acdedb650966",
        "id": "7J_QTqj-l1Q5"
      },
      "outputs": [
        {
          "data": {
            "text/plain": [
              "0.013798427799221571"
            ]
          },
          "execution_count": 123,
          "metadata": {},
          "output_type": "execute_result"
        }
      ],
      "source": [
        "scores.std()"
      ]
    },
    {
      "cell_type": "code",
      "execution_count": null,
      "metadata": {
        "id": "1A6XffoPl1Q5",
        "outputId": "6f434d33-78c2-467c-e244-227001035117"
      },
      "outputs": [
        {
          "data": {
            "text/plain": [
              "0.6689574400209832"
            ]
          },
          "execution_count": 124,
          "metadata": {},
          "output_type": "execute_result"
        }
      ],
      "source": [
        "np.sqrt(mean_squared_error(y_test,xgb_reg.predict(X_test)))"
      ]
    },
    {
      "cell_type": "markdown",
      "metadata": {
        "id": "YjeR0f-Al1Q5"
      },
      "source": [
        "### XGBoost: Parameter Tuning\n",
        "\n",
        "\n",
        "#### subsample\n",
        "- Default = 1\n",
        "- It denotes the fraction of observations to be randomly sampled for each tree.\n",
        "- Lower values make the algorithm more conservative and prevents overfitting but too small values might lead to under-fitting.\n",
        "- Setting it to 0.5 means that XGBoost would randomly sample half of the training data prior to growing trees. — This will prevent overfitting.\n",
        "- Subsampling occurs once in every boosting iteration.\n",
        "\n",
        "#### colsample_bytree\n",
        "- Default = 1\n",
        "- This is a family of parameters for subsampling of columns.\n",
        "- All colsample_by parameters have a range of (0, 1], the default value of 1, and specify the fraction of columns to be subsampled.\n",
        "\n",
        "#### lambda\n",
        "- Default = 1\n",
        "- This is used to handle the regularization part of XGBoost.\n",
        "- L2 regularization term on weights (analogous to Ridge regression).\n",
        "- Increasing this value will make model more conservative.\n",
        "\n",
        "#### eta\n",
        "- Default = 0.3\n",
        "- This is the learning rate of the algorithm.\n",
        "- It is the step size shrinkage used in update to prevent overfitting.\n",
        "- It makes the model more conservative by shrinking the weights on each step.\n",
        "- Range of eta is [0,1].\n",
        "\n",
        "#### gamma\n",
        "- Default = 0\n",
        "- A node is split only when the resulting split gives a positive reduction in the loss function.\n",
        "- Gamma specifies the minimum loss reduction required to make a split.\n",
        "- The larger the gamma value, the more conservative is the algorithm.\n",
        "\n",
        "### XGBoost: Classification Problems\n",
        "\n",
        "#### scale_pos_weight\n",
        "- Default = 0\n",
        "- It controls the balance of positive and negative weights.\n",
        "- It is useful for imbalanced classes.\n",
        "- A value greater than 0 should be used in case of high class imbalance as it helps in faster convergence.\n",
        "- A typical value to consider: sum(negative instances) / sum(positive instances)."
      ]
    },
    {
      "cell_type": "code",
      "execution_count": null,
      "metadata": {
        "id": "7AW9XfkQl1Q5"
      },
      "outputs": [],
      "source": [
        "from xgboost import XGBRegressor"
      ]
    },
    {
      "cell_type": "code",
      "execution_count": null,
      "metadata": {
        "id": "q-OVYiRml1Q5"
      },
      "outputs": [],
      "source": [
        "params = { \"n_estimators\": 400,\n",
        "           \"max_depth\": 5,\n",
        "           \"objective\": 'reg:squarederror',\n",
        "           \"colsample_bytree\": 0.8,\n",
        "           \"subsample\": 0.75,\n",
        "           \"lambda\": 100}\n",
        "\n",
        "xgb_regressor = XGBRegressor(**params)"
      ]
    },
    {
      "cell_type": "code",
      "execution_count": null,
      "metadata": {
        "id": "SdG23xS0l1Q5"
      },
      "outputs": [],
      "source": [
        "xgb_reg = Pipeline(steps=[('preprocessor', preprocessor),\n",
        "                          ('regressor', xgb_regressor)])           "
      ]
    },
    {
      "cell_type": "code",
      "execution_count": null,
      "metadata": {
        "colab": {
          "base_uri": "https://localhost:8080/"
        },
        "outputId": "f316b8e0-96fd-49b0-c635-a7d604468ee0",
        "id": "kqR67Jugl1Q5"
      },
      "outputs": [
        {
          "data": {
            "text/plain": [
              "Pipeline(steps=[('preprocessor',\n",
              "                 ColumnTransformer(transformers=[('num_imputed',\n",
              "                                                  Pipeline(steps=[('imputation',\n",
              "                                                                   SimpleImputer()),\n",
              "                                                                  ('scaler',\n",
              "                                                                   StandardScaler())]),\n",
              "                                                  ['Seats']),\n",
              "                                                 ('num_not_imputed',\n",
              "                                                  Pipeline(steps=[('scaler',\n",
              "                                                                   StandardScaler())]),\n",
              "                                                  ['engine_new', 'KM_Driven',\n",
              "                                                   'age', 'power_new',\n",
              "                                                   'mileage_new']),\n",
              "                                                 ('catvars',\n",
              "                                                  Pipeline(steps=[('ohencoder',\n",
              "                                                                   OneHotEncoder(hand...\n",
              "                              importance_type='gain',\n",
              "                              interaction_constraints='', lambda=100,\n",
              "                              learning_rate=0.300000012, max_delta_step=0,\n",
              "                              max_depth=5, min_child_weight=1, missing=nan,\n",
              "                              monotone_constraints='()', n_estimators=1000,\n",
              "                              n_jobs=0, num_parallel_tree=1, random_state=0,\n",
              "                              reg_alpha=0, reg_lambda=100, scale_pos_weight=1,\n",
              "                              subsample=0.75, tree_method='exact',\n",
              "                              validate_parameters=1, verbosity=None))])"
            ]
          },
          "execution_count": 227,
          "metadata": {},
          "output_type": "execute_result"
        }
      ],
      "source": [
        "xgb_reg.fit(X_train, y_train)"
      ]
    },
    {
      "cell_type": "code",
      "execution_count": null,
      "metadata": {
        "id": "61yAu122l1Q6"
      },
      "outputs": [],
      "source": [
        "from sklearn.model_selection import cross_val_score"
      ]
    },
    {
      "cell_type": "code",
      "execution_count": null,
      "metadata": {
        "id": "x-kzH6dOl1Q6"
      },
      "outputs": [],
      "source": [
        "scores = cross_val_score( xgb_reg,\n",
        "                          X_train,\n",
        "                          y_train,\n",
        "                          cv = 10,\n",
        "                          scoring = 'r2')"
      ]
    },
    {
      "cell_type": "code",
      "execution_count": null,
      "metadata": {
        "colab": {
          "base_uri": "https://localhost:8080/"
        },
        "outputId": "0cb5e238-dca9-42d8-c668-bf561985c735",
        "id": "qwMBdGqCl1Q6"
      },
      "outputs": [
        {
          "data": {
            "text/plain": [
              "array([0.90833599, 0.89084002, 0.9105688 , 0.92241302, 0.9047683 ,\n",
              "       0.89198298, 0.90333138, 0.88314297, 0.89971622, 0.92842068])"
            ]
          },
          "execution_count": 230,
          "metadata": {},
          "output_type": "execute_result"
        }
      ],
      "source": [
        "scores"
      ]
    },
    {
      "cell_type": "code",
      "execution_count": null,
      "metadata": {
        "colab": {
          "base_uri": "https://localhost:8080/"
        },
        "outputId": "df0a790d-3d94-4d86-8435-c8c9229b5465",
        "id": "pznA16Y-l1Q6"
      },
      "outputs": [
        {
          "data": {
            "text/plain": [
              "0.904352036484334"
            ]
          },
          "execution_count": 231,
          "metadata": {},
          "output_type": "execute_result"
        }
      ],
      "source": [
        "scores.mean()"
      ]
    },
    {
      "cell_type": "code",
      "execution_count": null,
      "metadata": {
        "colab": {
          "base_uri": "https://localhost:8080/"
        },
        "outputId": "af766237-f033-4d9c-8c0d-acdedb650966",
        "id": "oZuePAIPl1Q6"
      },
      "outputs": [
        {
          "data": {
            "text/plain": [
              "0.013297055146125203"
            ]
          },
          "execution_count": 232,
          "metadata": {},
          "output_type": "execute_result"
        }
      ],
      "source": [
        "scores.std()"
      ]
    },
    {
      "cell_type": "code",
      "execution_count": null,
      "metadata": {
        "id": "lr9zkTuOl1Q6",
        "outputId": "5b738810-15a5-4636-e689-bd323e25bddd"
      },
      "outputs": [
        {
          "data": {
            "text/plain": [
              "0.6403870236671778"
            ]
          },
          "execution_count": 233,
          "metadata": {},
          "output_type": "execute_result"
        }
      ],
      "source": [
        "np.sqrt(mean_squared_error(y_test,xgb_reg.predict(X_test)))"
      ]
    }
  ],
  "metadata": {
    "colab": {
      "name": "Used Car Price Prediction KNN ISB 1.0.ipynb",
      "provenance": []
    },
    "kernelspec": {
      "display_name": "Python 3",
      "language": "python",
      "name": "python3"
    },
    "language_info": {
      "codemirror_mode": {
        "name": "ipython",
        "version": 3
      },
      "file_extension": ".py",
      "mimetype": "text/x-python",
      "name": "python",
      "nbconvert_exporter": "python",
      "pygments_lexer": "ipython3",
      "version": "3.8.3"
    }
  },
  "nbformat": 4,
  "nbformat_minor": 0
}