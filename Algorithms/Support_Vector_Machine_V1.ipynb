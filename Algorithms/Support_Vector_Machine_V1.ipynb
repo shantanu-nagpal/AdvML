{
  "cells": [
    {
      "cell_type": "markdown",
      "metadata": {
        "id": "qHsiC9Lol1Pb"
      },
      "source": [
        "# Support Vector Machine: Predicting CHD\n",
        "\n",
        "Here is an intersting problem of understanding what factors contribute to CHD and can CHD be predicted by building an analytical model.\n",
        "\n",
        "The next two sections will introduce some basics of CHD, where the dataset is derived from and what are the attributes available in the dataset.\n",
        "\n",
        "### What is coronary heart disease?\n",
        "\n",
        "\n",
        "[Coronary heart disease (CHD)](https://en.wikipedia.org/wiki/Coronary_artery_disease)  is when your coronary arteries (the arteries that supply your heart muscle with oxygen-rich blood) become narrowed by a gradual build-up of fatty material within their walls. These arteries can become narrowed through build-up of plaque, which is made up of cholesterol and other substances. Narrowed arteries can cause symptoms, such as chest pain (angina), shortness of breath, and fatigue.\n",
        "\n",
        "\n",
        "### Dataset Description\n",
        "\n",
        "Data is avaialable at: http://statweb.stanford.edu/~tibs/ElemStatLearn/datasets/\n",
        "And header informtion is available at: http://statweb.stanford.edu/~tibs/ElemStatLearn/datasets/SAheart.info.txt\n",
        "\n",
        "A retrospective sample of **males in a heart-disease high-risk region of the Western Cape, South Africa**. There are roughly two controls per case of CHD. Many of the CHD positive men have undergone blood pressure reduction treatment and other programs to reduce their risk factors after their CHD event. In some cases the measurements were made after these treatments. These data are taken from a larger dataset, described in Rousseauw et al, 1983, South African Medical Journal. "
      ]
    },
    {
      "cell_type": "markdown",
      "metadata": {
        "id": "HjjODLnql1Pf"
      },
      "source": [
        "### Import and load the dataset"
      ]
    },
    {
      "cell_type": "code",
      "execution_count": null,
      "metadata": {
        "id": "E4qljJwfl1Pg"
      },
      "outputs": [],
      "source": [
        "import pandas as pd\n",
        "import numpy as np"
      ]
    },
    {
      "cell_type": "code",
      "execution_count": null,
      "metadata": {
        "id": "KvuOFac6l1Ph"
      },
      "outputs": [],
      "source": [
        "saheart_ds = pd.read_csv( \"https://drive.google.com/uc?export=download&id=1yRyZMfBQ8anG10GDFsLf15GRYPQqN12b\" )"
      ]
    },
    {
      "cell_type": "code",
      "execution_count": null,
      "metadata": {
        "id": "WgE2xrzVl1Ph"
      },
      "outputs": [],
      "source": [
        "saheart_ds.head()"
      ]
    },
    {
      "cell_type": "code",
      "execution_count": null,
      "metadata": {
        "id": "aCBLTfKAl1Ph"
      },
      "outputs": [],
      "source": [
        "saheart_ds.columns"
      ]
    },
    {
      "cell_type": "code",
      "execution_count": null,
      "metadata": {
        "id": "w5QE1_jfl1Pi"
      },
      "outputs": [],
      "source": [
        "saheart_ds.info()"
      ]
    },
    {
      "cell_type": "code",
      "execution_count": null,
      "metadata": {
        "id": "rjmJyrFFl1Pi"
      },
      "outputs": [],
      "source": [
        "saheart_ds.chd.value_counts(normalize=True)"
      ]
    },
    {
      "cell_type": "markdown",
      "metadata": {
        "id": "sH6Rpsizl1Pi"
      },
      "source": [
        "The class label int the column **chd** indicates if the person has a coronary heart disease: negative (0) or positive (1). \n",
        "\n",
        "Attributes description: \n",
        "- **sbp**:          systolic blood pressure \n",
        "- **tobacco**:      cumulative tobacco (kg) \n",
        "- **ldl**:          low densiity lipoprotein cholesterol \n",
        "- **adiposity**:    the size of the hips compared to the person's height \n",
        "- **famhist**:      family history of heart disease (Present, Absent) \n",
        "- **typea**:        type-A behavior \n",
        "- **obesity**:      BMI index\n",
        "- **alcohol**:      current alcohol consumption \n",
        "- **age**:          age at onset"
      ]
    },
    {
      "cell_type": "markdown",
      "metadata": {
        "id": "y2S2kACwl1Pj"
      },
      "source": [
        "### Predict CHD based"
      ]
    },
    {
      "cell_type": "code",
      "execution_count": null,
      "metadata": {
        "id": "aHTAPH-Xl1Pj"
      },
      "outputs": [],
      "source": [
        "feature_cols = ['age', 'ldl']"
      ]
    },
    {
      "cell_type": "code",
      "execution_count": null,
      "metadata": {
        "id": "6T9obW61l1Pj"
      },
      "outputs": [],
      "source": [
        "plt.figure(figsize=(8, 6))\n",
        "sn.scatterplot(data=saheart_ds,\n",
        "          x = feature_cols[0],\n",
        "          y = feature_cols[1],\n",
        "          hue = 'chd');"
      ]
    },
    {
      "cell_type": "code",
      "execution_count": null,
      "metadata": {
        "id": "AWViKwY4l1Pj"
      },
      "outputs": [],
      "source": [
        "from sklearn.model_selection import train_test_split"
      ]
    },
    {
      "cell_type": "code",
      "execution_count": null,
      "metadata": {
        "id": "ETr8kK3fl1Pk"
      },
      "outputs": [],
      "source": [
        "\n",
        "saheart_train_X, saheart_test_X,  \\\n",
        "saheart_train_Y, saheart_test_Y = train_test_split( saheart_ds[feature_cols],\n",
        "                                                    saheart_ds['chd'],\n",
        "                                                    test_size = 0.3,\n",
        "                                                    random_state = 42 ) "
      ]
    },
    {
      "cell_type": "code",
      "execution_count": null,
      "metadata": {
        "id": "ZMW1jPqLl1Pk"
      },
      "outputs": [],
      "source": [
        "saheart_train_X.shape"
      ]
    },
    {
      "cell_type": "code",
      "execution_count": null,
      "metadata": {
        "id": "5KP8pVpPl1Pk"
      },
      "outputs": [],
      "source": [
        "from sklearn.utils.class_weight import compute_class_weight"
      ]
    },
    {
      "cell_type": "code",
      "execution_count": null,
      "metadata": {
        "id": "1VuKke9ql1Pk"
      },
      "outputs": [],
      "source": [
        "class_weights = compute_class_weight(class_weight = \"balanced\", \n",
        "                                     classes = np.unique(saheart_train_Y), \n",
        "                                     y = saheart_train_Y)"
      ]
    },
    {
      "cell_type": "code",
      "execution_count": null,
      "metadata": {
        "id": "cvo-DLDul1Pk"
      },
      "outputs": [],
      "source": [
        "class_weights"
      ]
    },
    {
      "cell_type": "code",
      "execution_count": null,
      "metadata": {
        "id": "LCSfk738l1Pk"
      },
      "outputs": [],
      "source": [
        "class_weight={1:1.45, 0:0.761}"
      ]
    },
    {
      "cell_type": "markdown",
      "metadata": {
        "id": "0z8dPFi-l1Pk"
      },
      "source": [
        "### Linear SVC"
      ]
    },
    {
      "cell_type": "code",
      "execution_count": null,
      "metadata": {
        "id": "_YerOOo1l1Pl"
      },
      "outputs": [],
      "source": [
        "from sklearn.svm import SVC\n",
        "\n",
        "svc = SVC(kernel = 'linear', class_weight=class_weight)"
      ]
    },
    {
      "cell_type": "code",
      "execution_count": null,
      "metadata": {
        "id": "sY8wo-7el1Pl"
      },
      "outputs": [],
      "source": [
        "svc.fit( saheart_train_X, saheart_train_Y )"
      ]
    },
    {
      "cell_type": "code",
      "execution_count": null,
      "metadata": {
        "id": "RMI1ykk_l1Pl"
      },
      "outputs": [],
      "source": [
        "svc_pred_y = svc.predict(saheart_test_X)"
      ]
    },
    {
      "cell_type": "code",
      "execution_count": null,
      "metadata": {
        "id": "6h5o4Bpol1Pl"
      },
      "outputs": [],
      "source": [
        "from sklearn.metrics import confusion_matrix, ConfusionMatrixDisplay"
      ]
    },
    {
      "cell_type": "code",
      "execution_count": null,
      "metadata": {
        "id": "TtFKOuU3l1Pl"
      },
      "outputs": [],
      "source": [
        "cm = confusion_matrix(saheart_test_Y, svc_pred_y, labels=[1,0])"
      ]
    },
    {
      "cell_type": "code",
      "execution_count": null,
      "metadata": {
        "id": "ILUnBqS2l1Pl"
      },
      "outputs": [],
      "source": [
        "ConfusionMatrixDisplay(cm, display_labels = ['CHD', 'No CHD']).plot();"
      ]
    },
    {
      "cell_type": "code",
      "execution_count": null,
      "metadata": {
        "id": "wyUh0xgzl1Pl"
      },
      "outputs": [],
      "source": [
        "def plot_svc_decision_function(model, ax=None, plot_support=True):\n",
        "    \"\"\"Plot the decision function for a 2D SVC\"\"\"\n",
        "    if ax is None:\n",
        "        ax = plt.gca()\n",
        "    xlim = ax.get_xlim()\n",
        "    ylim = ax.get_ylim()\n",
        "    \n",
        "    # create grid to evaluate model\n",
        "    x = np.linspace(xlim[0], xlim[1], 30)\n",
        "    y = np.linspace(ylim[0], ylim[1], 30)\n",
        "    Y, X = np.meshgrid(y, x)\n",
        "    xy = np.vstack([X.ravel(), Y.ravel()]).T\n",
        "    P = model.decision_function(xy).reshape(X.shape)\n",
        "    \n",
        "    # plot decision boundary and margins\n",
        "    ax.contour(X, Y, P, colors='k',\n",
        "               levels=[-1, 0, 1], alpha=0.5,\n",
        "               linestyles=['--', '-', '--'])\n",
        "    \n",
        "    # plot support vectors\n",
        "    if plot_support:\n",
        "        ax.scatter(model.support_vectors_[:, 0],\n",
        "                   model.support_vectors_[:, 1],\n",
        "                   s=300, linewidth=1, facecolors='none');\n",
        "    ax.set_xlim(xlim)\n",
        "    ax.set_ylim(ylim)"
      ]
    },
    {
      "cell_type": "code",
      "execution_count": null,
      "metadata": {
        "id": "BZ0S_5YRl1Pl"
      },
      "outputs": [],
      "source": [
        "plt.figure(figsize=(8, 6))\n",
        "plt.scatter(saheart_train_X[feature_cols[0]],\n",
        "            saheart_train_X[feature_cols[1]], \n",
        "            c=saheart_train_Y, \n",
        "            s=50, \n",
        "            cmap='coolwarm')\n",
        "plot_svc_decision_function(svc);"
      ]
    },
    {
      "cell_type": "markdown",
      "metadata": {
        "id": "rkBM__O5l1Pl"
      },
      "source": [
        "### Polynomial SVC"
      ]
    },
    {
      "cell_type": "code",
      "execution_count": null,
      "metadata": {
        "id": "UsD_qc32l1Pl"
      },
      "outputs": [],
      "source": [
        "ploy_svc = SVC(kernel = 'poly', degree = 2, class_weight=class_weight)\n",
        "\n",
        "ploy_svc.fit( saheart_train_X, saheart_train_Y )\n",
        "\n",
        "svc_pred_y = ploy_svc.predict(saheart_test_X)\n",
        "cm = confusion_matrix(saheart_test_Y, svc_pred_y, labels=[1,0])\n",
        "ConfusionMatrixDisplay(cm, display_labels = ['CHD', 'No CHD']).plot();"
      ]
    },
    {
      "cell_type": "code",
      "execution_count": null,
      "metadata": {
        "id": "KuRswNx0l1Pm"
      },
      "outputs": [],
      "source": [
        "plt.figure(figsize=(8, 6))\n",
        "plt.scatter(saheart_train_X[feature_cols[0]],\n",
        "            saheart_train_X[feature_cols[1]], \n",
        "            c=saheart_train_Y, \n",
        "            s=50, \n",
        "            cmap='coolwarm')\n",
        "plot_svc_decision_function(ploy_svc);"
      ]
    },
    {
      "cell_type": "code",
      "execution_count": null,
      "metadata": {
        "id": "OwTDzSSYl1Pm"
      },
      "outputs": [],
      "source": [
        "rbf_svc = SVC(kernel = 'rbf', class_weight=class_weight)\n",
        "\n",
        "rbf_svc.fit( saheart_train_X, saheart_train_Y )\n",
        "\n",
        "svc_pred_y = rbf_svc.predict(saheart_test_X)\n",
        "cm = confusion_matrix(saheart_test_Y, svc_pred_y, labels=[1,0])\n",
        "ConfusionMatrixDisplay(cm, display_labels = ['CHD', 'No CHD']).plot();"
      ]
    },
    {
      "cell_type": "code",
      "execution_count": null,
      "metadata": {
        "id": "TaKVa9xul1Pm"
      },
      "outputs": [],
      "source": [
        "plt.figure(figsize=(8, 6))\n",
        "plt.scatter(saheart_train_X[feature_cols[0]],\n",
        "            saheart_train_X[feature_cols[1]], \n",
        "            c=saheart_train_Y, \n",
        "            s=50, \n",
        "            cmap='coolwarm')\n",
        "plot_svc_decision_function(rbf_svc);"
      ]
    },
    {
      "cell_type": "markdown",
      "metadata": {
        "id": "3BXTEXsIl1Pm"
      },
      "source": [
        "### With All the features"
      ]
    },
    {
      "cell_type": "code",
      "execution_count": null,
      "metadata": {
        "id": "cQt8nFVol1Pm"
      },
      "outputs": [],
      "source": [
        "saheart_model_df = pd.get_dummies( saheart_ds, \n",
        "                                   columns = ['famhist'],\n",
        "                                   drop_first = True)"
      ]
    },
    {
      "cell_type": "code",
      "execution_count": null,
      "metadata": {
        "id": "vDIrfsorl1Pm"
      },
      "outputs": [],
      "source": [
        "saheart_model_df.head( 10 )"
      ]
    },
    {
      "cell_type": "code",
      "execution_count": null,
      "metadata": {
        "id": "u_ucb6UUl1Pm"
      },
      "outputs": [],
      "source": [
        "saheart_model_df = saheart_model_df.drop( \"row.names\", axis = 1 )"
      ]
    },
    {
      "cell_type": "code",
      "execution_count": null,
      "metadata": {
        "id": "W8sqTX-tl1Pm"
      },
      "outputs": [],
      "source": [
        "saheart_model_df.columns"
      ]
    },
    {
      "cell_type": "markdown",
      "metadata": {
        "id": "JLOo7Vi1l1Pm"
      },
      "source": [
        "## Splitting Dataset into Train and Test"
      ]
    },
    {
      "cell_type": "code",
      "execution_count": null,
      "metadata": {
        "id": "yqUTcrm3l1Pm"
      },
      "outputs": [],
      "source": [
        "feature_cols = ['sbp', 'tobacco', 'ldl', \n",
        "                'adiposity', 'typea', \n",
        "                'obesity', 'alcohol', \n",
        "                'age', 'famhist_Present' ]\n",
        "\n",
        "saheart_train_X, saheart_test_X,  \\\n",
        "saheart_train_Y, saheart_test_Y = train_test_split( saheart_model_df[feature_cols],\n",
        "                                                    saheart_model_df['chd'],\n",
        "                                                    test_size = 0.3,\n",
        "                                                    random_state = 42 ) "
      ]
    },
    {
      "cell_type": "code",
      "execution_count": null,
      "metadata": {
        "id": "D8UJVktrl1Pm"
      },
      "outputs": [],
      "source": [
        "len( saheart_train_X )"
      ]
    },
    {
      "cell_type": "code",
      "execution_count": null,
      "metadata": {
        "id": "446zEocbl1Pm"
      },
      "outputs": [],
      "source": [
        "len( saheart_test_X )"
      ]
    },
    {
      "cell_type": "markdown",
      "metadata": {
        "id": "3A58oQhkl1Pm"
      },
      "source": [
        "## Building SVC Model"
      ]
    },
    {
      "cell_type": "code",
      "execution_count": null,
      "metadata": {
        "id": "8GbcrMKGl1Pm"
      },
      "outputs": [],
      "source": [
        "from sklearn.svm import SVC\n",
        "\n",
        "rbf_svc = SVC(kernel = 'rbf', class_weight=class_weight, probability=True)"
      ]
    },
    {
      "cell_type": "code",
      "execution_count": null,
      "metadata": {
        "id": "Jr6_-q8Il1Pm"
      },
      "outputs": [],
      "source": [
        "rbf_svc.fit( saheart_train_X, saheart_train_Y )"
      ]
    },
    {
      "cell_type": "markdown",
      "metadata": {
        "id": "xg-nhEW-l1Pm"
      },
      "source": [
        "### Predicting in test set using the model"
      ]
    },
    {
      "cell_type": "code",
      "execution_count": null,
      "metadata": {
        "id": "toeUFg_Al1Pn"
      },
      "outputs": [],
      "source": [
        "saheart_test_results = pd.DataFrame( { 'actual':  saheart_test_Y, \n",
        "                                       'predicted': rbf_svc.predict( saheart_test_X ) } )"
      ]
    },
    {
      "cell_type": "code",
      "execution_count": null,
      "metadata": {
        "id": "g3wuhBiSl1Pn"
      },
      "outputs": [],
      "source": [
        "saheart_test_results = saheart_test_results.reset_index()\n",
        "saheart_test_results.head()"
      ]
    },
    {
      "cell_type": "markdown",
      "metadata": {
        "id": "dQRhEy3dl1Pn"
      },
      "source": [
        "## Model Evaluation"
      ]
    },
    {
      "cell_type": "markdown",
      "metadata": {
        "id": "TYiXOCxyl1Pn"
      },
      "source": [
        "### Confusion Matrix"
      ]
    },
    {
      "cell_type": "code",
      "execution_count": null,
      "metadata": {
        "id": "7H8vJB6ll1Pn"
      },
      "outputs": [],
      "source": [
        "cm = confusion_matrix(saheart_test_results.actual, saheart_test_results.predicted, labels=[1,0])\n",
        "ConfusionMatrixDisplay(cm, display_labels = ['CHD', 'No CHD']).plot();"
      ]
    },
    {
      "cell_type": "code",
      "execution_count": null,
      "metadata": {
        "id": "4AAzXnMPl1Pn"
      },
      "outputs": [],
      "source": [
        "from sklearn.metrics import RocCurveDisplay"
      ]
    },
    {
      "cell_type": "code",
      "execution_count": null,
      "metadata": {
        "id": "VNgYY4yzl1Pn"
      },
      "outputs": [],
      "source": [
        "RocCurveDisplay.from_estimator(rbf_svc, saheart_test_X, saheart_test_Y);"
      ]
    }
  ],
  "metadata": {
    "anaconda-cloud": {},
    "kernelspec": {
      "display_name": "Python 3",
      "language": "python",
      "name": "python3"
    },
    "language_info": {
      "codemirror_mode": {
        "name": "ipython",
        "version": 3
      },
      "file_extension": ".py",
      "mimetype": "text/x-python",
      "name": "python",
      "nbconvert_exporter": "python",
      "pygments_lexer": "ipython3",
      "version": "3.8.3"
    },
    "colab": {
      "name": "Support_Vector_Machine_V1.ipynb",
      "provenance": []
    }
  },
  "nbformat": 4,
  "nbformat_minor": 0
}