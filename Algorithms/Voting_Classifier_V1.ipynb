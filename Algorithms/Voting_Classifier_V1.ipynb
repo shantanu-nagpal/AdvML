{
  "cells": [
    {
      "cell_type": "markdown",
      "metadata": {
        "id": "XVGeNM-5l1Pw"
      },
      "source": [
        "# Random Forest: Predicting CHD\n",
        "\n",
        "Here is an intersting problem of understanding what factors contribute to CHD and can CHD be predicted by building an analytical model.\n",
        "\n",
        "The next two sections will introduce some basics of CHD, where the dataset is derived from and what are the attributes available in the dataset.\n",
        "\n",
        "### What is coronary heart disease?\n",
        "\n",
        "\n",
        "[Coronary heart disease (CHD)](https://en.wikipedia.org/wiki/Coronary_artery_disease)  is when your coronary arteries (the arteries that supply your heart muscle with oxygen-rich blood) become narrowed by a gradual build-up of fatty material within their walls. These arteries can become narrowed through build-up of plaque, which is made up of cholesterol and other substances. Narrowed arteries can cause symptoms, such as chest pain (angina), shortness of breath, and fatigue.\n",
        "\n",
        "\n",
        "### Dataset Description\n",
        "\n",
        "Data is avaialable at: http://statweb.stanford.edu/~tibs/ElemStatLearn/datasets/\n",
        "And header informtion is available at: http://statweb.stanford.edu/~tibs/ElemStatLearn/datasets/SAheart.info.txt\n",
        "\n",
        "A retrospective sample of **males in a heart-disease high-risk region of the Western Cape, South Africa**. There are roughly two controls per case of CHD. Many of the CHD positive men have undergone blood pressure reduction treatment and other programs to reduce their risk factors after their CHD event. In some cases the measurements were made after these treatments. These data are taken from a larger dataset, described in Rousseauw et al, 1983, South African Medical Journal. "
      ]
    },
    {
      "cell_type": "markdown",
      "metadata": {
        "id": "Bdf7LQlfl1P3"
      },
      "source": [
        "### Import and load the dataset"
      ]
    },
    {
      "cell_type": "code",
      "execution_count": null,
      "metadata": {
        "id": "GUUClp6Xl1P3"
      },
      "outputs": [],
      "source": [
        "import pandas as pd\n",
        "import numpy as np\n",
        "\n",
        "np.random.seed(100)"
      ]
    },
    {
      "cell_type": "code",
      "execution_count": null,
      "metadata": {
        "id": "Xr_aFIhTl1P4"
      },
      "outputs": [],
      "source": [
        "saheart_ds = pd.read_csv( \"https://drive.google.com/uc?export=download&id=1yRyZMfBQ8anG10GDFsLf15GRYPQqN12b\" )"
      ]
    },
    {
      "cell_type": "code",
      "execution_count": null,
      "metadata": {
        "id": "58utGPcVl1P5"
      },
      "outputs": [],
      "source": [
        "saheart_ds.head()"
      ]
    },
    {
      "cell_type": "code",
      "execution_count": null,
      "metadata": {
        "id": "Xoc38DM4l1P5"
      },
      "outputs": [],
      "source": [
        "saheart_ds.columns"
      ]
    },
    {
      "cell_type": "code",
      "execution_count": null,
      "metadata": {
        "id": "66iSR6QMl1P5"
      },
      "outputs": [],
      "source": [
        "saheart_ds.info()"
      ]
    },
    {
      "cell_type": "code",
      "execution_count": null,
      "metadata": {
        "id": "kKCKDJOrl1P6"
      },
      "outputs": [],
      "source": [
        "saheart_ds.chd.value_counts(normalize=True)"
      ]
    },
    {
      "cell_type": "markdown",
      "metadata": {
        "id": "8GrvzF0wl1P6"
      },
      "source": [
        "The class label int the column **chd** indicates if the person has a coronary heart disease: negative (0) or positive (1). \n",
        "\n",
        "Attributes description: \n",
        "- **sbp**:          systolic blood pressure \n",
        "- **tobacco**:      cumulative tobacco (kg) \n",
        "- **ldl**:          low densiity lipoprotein cholesterol \n",
        "- **adiposity**:    the size of the hips compared to the person's height \n",
        "- **famhist**:      family history of heart disease (Present, Absent) \n",
        "- **typea**:        type-A behavior \n",
        "- **obesity**:      BMI index\n",
        "- **alcohol**:      current alcohol consumption \n",
        "- **age**:          age at onset"
      ]
    },
    {
      "cell_type": "markdown",
      "metadata": {
        "id": "fZUWcO8il1P7"
      },
      "source": [
        "### Encoding Categorical Features"
      ]
    },
    {
      "cell_type": "code",
      "execution_count": null,
      "metadata": {
        "id": "TTWNYelLl1P8"
      },
      "outputs": [],
      "source": [
        "saheart_model_df = pd.get_dummies( saheart_ds, \n",
        "                                   columns = ['famhist'],\n",
        "                                   drop_first = True)"
      ]
    },
    {
      "cell_type": "code",
      "execution_count": null,
      "metadata": {
        "id": "fLFvIrnIl1P8"
      },
      "outputs": [],
      "source": [
        "saheart_model_df.head( 10 )"
      ]
    },
    {
      "cell_type": "code",
      "execution_count": null,
      "metadata": {
        "id": "mfbVCvP0l1P8"
      },
      "outputs": [],
      "source": [
        "saheart_model_df = saheart_model_df.drop( \"row.names\", axis = 1 )"
      ]
    },
    {
      "cell_type": "code",
      "execution_count": null,
      "metadata": {
        "id": "IH2ZC3Odl1P9"
      },
      "outputs": [],
      "source": [
        "saheart_model_df.columns"
      ]
    },
    {
      "cell_type": "markdown",
      "metadata": {
        "id": "-20IEQ_Ul1P9"
      },
      "source": [
        "## Splitting Dataset into Train and Test"
      ]
    },
    {
      "cell_type": "code",
      "execution_count": null,
      "metadata": {
        "id": "aX1kqqjkl1P9"
      },
      "outputs": [],
      "source": [
        "from sklearn.model_selection import train_test_split"
      ]
    },
    {
      "cell_type": "code",
      "execution_count": null,
      "metadata": {
        "id": "ZHHDh2aSl1P9"
      },
      "outputs": [],
      "source": [
        "feature_cols = ['sbp', 'tobacco', 'ldl', \n",
        "                'adiposity', 'typea', \n",
        "                'obesity', 'alcohol', \n",
        "                'age', 'famhist_Present' ]\n",
        "\n",
        "train_X, test_X, train_y, test_y = train_test_split(saheart_model_df[feature_cols],\n",
        "                                                    saheart_model_df['chd'],\n",
        "                                                    test_size = 0.3,\n",
        "                                                    random_state = 42 ) "
      ]
    },
    {
      "cell_type": "code",
      "execution_count": null,
      "metadata": {
        "id": "jw3OOxjZl1P9"
      },
      "outputs": [],
      "source": [
        "len( train_X )"
      ]
    },
    {
      "cell_type": "code",
      "execution_count": null,
      "metadata": {
        "id": "jBZJPzLJl1P9"
      },
      "outputs": [],
      "source": [
        "len( test_X )"
      ]
    },
    {
      "cell_type": "code",
      "execution_count": null,
      "metadata": {
        "id": "aAiZH16Ml1P9"
      },
      "outputs": [],
      "source": [
        "from sklearn.utils.class_weight import compute_class_weight"
      ]
    },
    {
      "cell_type": "code",
      "execution_count": null,
      "metadata": {
        "id": "yH66V3Yxl1P-"
      },
      "outputs": [],
      "source": [
        "class_weights = compute_class_weight(class_weight = \"balanced\", \n",
        "                                     classes = np.unique(train_y), \n",
        "                                     y = train_y)\n",
        "class_weights"
      ]
    },
    {
      "cell_type": "code",
      "execution_count": null,
      "metadata": {
        "id": "cHlahMNVl1P-"
      },
      "outputs": [],
      "source": [
        "class_weight={1:1.45, 0:0.761}"
      ]
    },
    {
      "cell_type": "markdown",
      "metadata": {
        "id": "hggGamdsl1P-"
      },
      "source": [
        "## Building Logistic Regression Model"
      ]
    },
    {
      "cell_type": "code",
      "execution_count": null,
      "metadata": {
        "id": "xIknektfl1P-"
      },
      "outputs": [],
      "source": [
        "from sklearn.linear_model import LogisticRegression"
      ]
    },
    {
      "cell_type": "code",
      "execution_count": null,
      "metadata": {
        "id": "auqq7F8Ul1P-"
      },
      "outputs": [],
      "source": [
        "log_clf = LogisticRegression(random_state = 100,\n",
        "                             class_weight=class_weight,\n",
        "                             max_iter=1000)"
      ]
    },
    {
      "cell_type": "code",
      "execution_count": null,
      "metadata": {
        "id": "vwQaH9-ml1P-"
      },
      "outputs": [],
      "source": [
        "log_clf.fit(train_X, train_y)"
      ]
    },
    {
      "cell_type": "markdown",
      "metadata": {
        "id": "QoC6BhOcl1P-"
      },
      "source": [
        "### Predicting in test set using the model"
      ]
    },
    {
      "cell_type": "code",
      "execution_count": null,
      "metadata": {
        "id": "acGVm8Url1P-"
      },
      "outputs": [],
      "source": [
        "logreg_test_results = pd.DataFrame( { 'actual':  test_y, \n",
        "                                      'predicted': log_clf.predict( test_X ) } )"
      ]
    },
    {
      "cell_type": "code",
      "execution_count": null,
      "metadata": {
        "id": "wDI1CJN_l1P_"
      },
      "outputs": [],
      "source": [
        "from sklearn.metrics import classification_report"
      ]
    },
    {
      "cell_type": "code",
      "execution_count": null,
      "metadata": {
        "id": "VbxH-Fx-l1P_"
      },
      "outputs": [],
      "source": [
        "print(classification_report(logreg_test_results.actual,\n",
        "                            logreg_test_results.predicted))"
      ]
    },
    {
      "cell_type": "markdown",
      "metadata": {
        "id": "x_zUgn7sl1P_"
      },
      "source": [
        "## Building SVM Model"
      ]
    },
    {
      "cell_type": "code",
      "execution_count": null,
      "metadata": {
        "id": "5kKhCIh5l1P_"
      },
      "outputs": [],
      "source": [
        "from sklearn.svm import SVC\n",
        "\n",
        "rbf_svc = SVC(kernel = 'rbf', class_weight=class_weight, probability=True)"
      ]
    },
    {
      "cell_type": "code",
      "execution_count": null,
      "metadata": {
        "id": "ZoGP4HuTl1P_"
      },
      "outputs": [],
      "source": [
        "rbf_svc.fit(train_X, train_y)"
      ]
    },
    {
      "cell_type": "code",
      "execution_count": null,
      "metadata": {
        "id": "0aqr2a6Ql1P_"
      },
      "outputs": [],
      "source": [
        "svc_test_results = pd.DataFrame( {'actual':  test_y, \n",
        "                                  'predicted': rbf_svc.predict( test_X ) } )"
      ]
    },
    {
      "cell_type": "code",
      "execution_count": null,
      "metadata": {
        "id": "ouzWsrXIl1P_"
      },
      "outputs": [],
      "source": [
        "print(classification_report(svc_test_results.actual,\n",
        "                            svc_test_results.predicted))"
      ]
    },
    {
      "cell_type": "markdown",
      "metadata": {
        "id": "K1CJs16nl1P_"
      },
      "source": [
        "## Building Decision Tree Model"
      ]
    },
    {
      "cell_type": "code",
      "execution_count": null,
      "metadata": {
        "id": "dWZa0vDZl1P_"
      },
      "outputs": [],
      "source": [
        "from sklearn.tree import DecisionTreeClassifier\n",
        "\n",
        "tree_clf = DecisionTreeClassifier(max_depth = 7, \n",
        "                                  class_weight=class_weight, \n",
        "                                  criterion='gini')\n",
        "\n",
        "tree_clf.fit(train_X, train_y)"
      ]
    },
    {
      "cell_type": "code",
      "execution_count": null,
      "metadata": {
        "id": "x0kYhJn0l1P_"
      },
      "outputs": [],
      "source": [
        "tree_test_results = pd.DataFrame( { 'actual':  test_y, \n",
        "                                    'predicted': tree_clf.predict( test_X ) } )\n",
        "                                       \n",
        "                                       \n",
        "print(classification_report(tree_test_results.actual,\n",
        "                            tree_test_results.predicted))"
      ]
    },
    {
      "cell_type": "markdown",
      "metadata": {
        "id": "lFDhMvZbl1QA"
      },
      "source": [
        "## Building Voting Classifier Model"
      ]
    },
    {
      "cell_type": "code",
      "execution_count": null,
      "metadata": {
        "id": "CoDLtrUul1QA"
      },
      "outputs": [],
      "source": [
        "from sklearn.ensemble import VotingClassifier"
      ]
    },
    {
      "cell_type": "code",
      "execution_count": null,
      "metadata": {
        "id": "dxaiA-mbl1QA"
      },
      "outputs": [],
      "source": [
        "clf_list = [('log', log_clf), \n",
        "            ('rf', rf_clf), \n",
        "            ('tree', tree_clf)]"
      ]
    },
    {
      "cell_type": "code",
      "execution_count": null,
      "metadata": {
        "id": "Hxf-W51-l1QA"
      },
      "outputs": [],
      "source": [
        "vote_clf = VotingClassifier(estimators = clf_list, \n",
        "                            voting='soft')"
      ]
    },
    {
      "cell_type": "code",
      "execution_count": null,
      "metadata": {
        "id": "fUs7qnvFl1QA"
      },
      "outputs": [],
      "source": [
        "vote_clf.fit(train_X, train_y)"
      ]
    },
    {
      "cell_type": "code",
      "execution_count": null,
      "metadata": {
        "id": "ytlSAfA3l1QA"
      },
      "outputs": [],
      "source": [
        "voting_test_results = pd.DataFrame( { 'actual':  test_y, \n",
        "                                      'predicted': vote_clf.predict( test_X ) } )"
      ]
    },
    {
      "cell_type": "code",
      "execution_count": null,
      "metadata": {
        "id": "c60IhJmLl1QA"
      },
      "outputs": [],
      "source": [
        "print(classification_report(voting_test_results.actual,\n",
        "                            voting_test_results.predicted))"
      ]
    }
  ],
  "metadata": {
    "anaconda-cloud": {},
    "kernelspec": {
      "display_name": "Python 3",
      "language": "python",
      "name": "python3"
    },
    "language_info": {
      "codemirror_mode": {
        "name": "ipython",
        "version": 3
      },
      "file_extension": ".py",
      "mimetype": "text/x-python",
      "name": "python",
      "nbconvert_exporter": "python",
      "pygments_lexer": "ipython3",
      "version": "3.8.3"
    },
    "colab": {
      "name": "Voting_Classifier_V1.ipynb",
      "provenance": []
    }
  },
  "nbformat": 4,
  "nbformat_minor": 0
}