{
  "cells": [
    {
      "cell_type": "markdown",
      "metadata": {
        "id": "5xdbNVz5H6CM"
      },
      "source": [
        "# Scania Truck Failure Prediction\n",
        "\n",
        "Predicting a categorical variable.\n",
        "\n",
        "### Predicting air pressure system failures in Scania trucks: Classification\n",
        "\n",
        "#### Context\n",
        "The dataset consists of data collected from heavy Scania trucks in everyday usage. The system in focus is the Air Pressure system (APS) which generates pressurized air that is utilized in various functions in a truck, such as braking and gear changes. The datasets' positive class consists of component failures for a specific component of the APS system. The negative class consists of trucks with failures for components not related to the APS. The data consists of a subset of all available data, selected by experts.\n",
        "\n",
        "#### Content\n",
        "The training set contains 60000 examples in total in which 59000 belong to the negative class and 1000 positive class. The test set contains 16000 examples. There are 171 attributes per record.\n",
        "\n",
        "The attribute names of the data have been anonymized for proprietary reasons. It consists of both single numerical counters and histograms consisting of bins with different conditions. Typically the histograms have open-ended conditions at each end. For example, if we measuring the ambient temperature \"T\" then the histogram could be defined with 4 bins where:\n",
        "\n",
        "The attributes are as follows: class, then anonymized operational data. The operational data have an identifier and a bin id, like \"Identifier_Bin\". In total there are 171 attributes, of which 7 are histogram variables. Missing values are denoted by \"na\".\n",
        "\n",
        "#### Acknowledgements\n",
        "This file is part of APS Failure and Operational Data for Scania Trucks. It was imported from the UCI ML Repository.\n",
        "\n",
        "#### Inspiration\n",
        "The total cost of a prediction model the sum of Cost_1 multiplied by the number of Instances with type 1 failure and Cost_2 with the number of instances with type 2 failure, resulting in a Total_cost. In this case Cost_1 refers to the cost that an unnecessary check needs to be done by an mechanic at an workshop, while Cost_2 refer to the cost of missing a faulty truck, which may cause a breakdown. Cost_1 = 10 and Cost_2 = 500, and Total_cost = Cost_1*No_Instances + Cost_2*No_Instances.\n",
        "\n",
        "Can you create a model which accurately predicts and minimizes [the cost of] failures?\n",
        "\n",
        "Dataset is available at:\n",
        "\n",
        "https://www.kaggle.com/uciml/aps-failure-at-scania-trucks-data-set"
      ]
    },
    {
      "cell_type": "markdown",
      "metadata": {
        "id": "M59mxrfzH6CR"
      },
      "source": [
        "### Loading the dataset"
      ]
    },
    {
      "cell_type": "code",
      "execution_count": null,
      "metadata": {
        "id": "7dVhJwUwH6CR"
      },
      "outputs": [],
      "source": [
        "import pandas as pd\n",
        "import numpy as np"
      ]
    },
    {
      "cell_type": "code",
      "execution_count": null,
      "metadata": {
        "id": "jYuhE8I3l1QE",
        "outputId": "a1755635-318f-4953-b086-8ec1d5cad39c"
      },
      "outputs": [
        {
          "name": "stdout",
          "output_type": "stream",
          "text": [
            "--2022-03-18 19:41:55--  https://drive.google.com/uc?export=download&id=1yIWUEqsqxqM-G2a0tTUeC3_c6p9YLSzg\n",
            "Resolving drive.google.com (drive.google.com)... 172.217.163.174, 2404:6800:4009:81f::200e\n",
            "Connecting to drive.google.com (drive.google.com)|172.217.163.174|:443... connected.\n",
            "HTTP request sent, awaiting response... 303 See Other\n",
            "Location: https://doc-04-44-docs.googleusercontent.com/docs/securesc/ha0ro937gcuc7l7deffksulhg5h7mbp1/8u554m1a04f5kmlhlqr33j13dm1a1n04/1647612675000/03885802779803335284/*/1yIWUEqsqxqM-G2a0tTUeC3_c6p9YLSzg?e=download [following]\n",
            "Warning: wildcards not supported in HTTP.\n",
            "--2022-03-18 19:41:57--  https://doc-04-44-docs.googleusercontent.com/docs/securesc/ha0ro937gcuc7l7deffksulhg5h7mbp1/8u554m1a04f5kmlhlqr33j13dm1a1n04/1647612675000/03885802779803335284/*/1yIWUEqsqxqM-G2a0tTUeC3_c6p9YLSzg?e=download\n",
            "Resolving doc-04-44-docs.googleusercontent.com (doc-04-44-docs.googleusercontent.com)... 142.250.192.97, 2404:6800:4007:82d::2001\n",
            "Connecting to doc-04-44-docs.googleusercontent.com (doc-04-44-docs.googleusercontent.com)|142.250.192.97|:443... connected.\n",
            "HTTP request sent, awaiting response... 200 OK\n",
            "Length: 44669194 (43M) [text/csv]\n",
            "Saving to: ‘train.csv’\n",
            "\n",
            "train.csv           100%[===================>]  42.60M  9.35MB/s    in 5.0s    \n",
            "\n",
            "2022-03-18 19:42:03 (8.46 MB/s) - ‘train.csv’ saved [44669194/44669194]\n",
            "\n"
          ]
        }
      ],
      "source": [
        "!wget \"https://drive.google.com/uc?export=download&id=1yIWUEqsqxqM-G2a0tTUeC3_c6p9YLSzg\" -O train.csv"
      ]
    },
    {
      "cell_type": "code",
      "execution_count": null,
      "metadata": {
        "id": "ZO5QybxEl1QE",
        "outputId": "0f25fcc7-c15c-49b1-e504-19f00dbf2fa3"
      },
      "outputs": [
        {
          "name": "stdout",
          "output_type": "stream",
          "text": [
            "This file is part of APS Failure and Operational Data for Scania Trucks.\r",
            "\r\n",
            "\r",
            "\r\n",
            "Copyright (c) <2016> <Scania CV AB>\r",
            "\r\n",
            "\r",
            "\r\n",
            "This program (APS Failure and Operational Data for Scania Trucks) is \r",
            "\r\n",
            "free software: you can redistribute it and/or modify\r",
            "\r\n",
            "it under the terms of the GNU General Public License as published by\r",
            "\r\n",
            "the Free Software Foundation, either version 3 of the License, or\r",
            "\r\n",
            "(at your option) any later version.\r",
            "\r\n",
            "\r",
            "\r\n",
            "This program is distributed in the hope that it will be useful,\r",
            "\r\n",
            "but WITHOUT ANY WARRANTY; without even the implied warranty of\r",
            "\r\n",
            "MERCHANTABILITY or FITNESS FOR A PARTICULAR PURPOSE.  See the\r",
            "\r\n",
            "GNU General Public License for more details.\r",
            "\r\n",
            "\r",
            "\r\n",
            "You should have received a copy of the GNU General Public License\r",
            "\r\n",
            "along with this program.  If not, see <http://www.gnu.org/licenses/>.\r",
            "\r\n",
            "\r",
            "\r\n",
            "------------------------------------------------------------------------\r",
            "\r\n",
            "\r",
            "\r\n",
            "class,aa_000,ab_000,ac_000,ad_000,ae_000,af_000,ag_000,ag_001,ag_002,ag_003,ag_004,ag_005,ag_006,ag_007,ag_008,ag_009,ah_000,ai_000,aj_000,ak_000,al_000,am_0,an_000,ao_000,ap_000,aq_000,ar_000,as_000,at_000,au_000,av_000,ax_000,ay_000,ay_001,ay_002,ay_003,ay_004,ay_005,ay_006,ay_007,ay_008,ay_009,az_000,az_001,az_002,az_003,az_004,az_005,az_006,az_007,az_008,az_009,ba_000,ba_001,ba_002,ba_003,ba_004,ba_005,ba_006,ba_007,ba_008,ba_009,bb_000,bc_000,bd_000,be_000,bf_000,bg_000,bh_000,bi_000,bj_000,bk_000,bl_000,bm_000,bn_000,bo_000,bp_000,bq_000,br_000,bs_000,bt_000,bu_000,bv_000,bx_000,by_000,bz_000,ca_000,cb_000,cc_000,cd_000,ce_000,cf_000,cg_000,ch_000,ci_000,cj_000,ck_000,cl_000,cm_000,cn_000,cn_001,cn_002,cn_003,cn_004,cn_005,cn_006,cn_007,cn_008,cn_009,co_000,cp_000,cq_000,cr_000,cs_000,cs_001,cs_002,cs_003,cs_004,cs_005,cs_006,cs_007,cs_008,cs_009,ct_000,cu_000,cv_000,cx_000,cy_000,cz_000,da_000,db_000,dc_000,dd_000,de_000,df_000,dg_000,dh_000,di_000,dj_000,dk_000,dl_000,dm_000,dn_000,do_000,dp_000,dq_000,dr_000,ds_000,dt_000,du_000,dv_000,dx_000,dy_000,dz_000,ea_000,eb_000,ec_00,ed_000,ee_000,ee_001,ee_002,ee_003,ee_004,ee_005,ee_006,ee_007,ee_008,ee_009,ef_000,eg_000\r",
            "\r\n",
            "neg,76698,na,2130706438,280,0,0,0,0,0,0,37250,1432864,3664156,1007684,25896,0,2551696,0,0,0,0,0,4933296,3655166,1766008,1132040,0,0,0,0,1012,268,0,0,0,0,0,469014,4239660,703300,755876,0,5374,2108,4114,12348,615248,5526276,2378,4,0,0,2328746,1022304,415432,287230,310246,681504,1118814,3574,0,0,6700214,0,10,108,50,2551696,97518,947550,799478,330760,353400,299160,305200,283680,na,na,na,178540,76698.08,6700214,6700214,6599892,43566,68656,54064,638360,6167850,1209600,246244,2,96,0,5245752,0,916567.68,6,1924,0,0,0,118196,1309472,3247182,1381362,98822,11208,1608,220,240,6700214,na,10476,1226,267998,521832,428776,4015854,895240,26330,118,0,532,734,4122704,51288,0,532572,0,18,5330690,4732,1126,0,0,0,0,0,0,0,0,62282,85908,32790,0,0,202710,37928,14745580,1876644,0,0,0,0,2801180,2445.8,2712,965866,1706908,1240520,493384,721044,469792,339156,157956,73224,0,0,0\r",
            "\r\n"
          ]
        }
      ],
      "source": [
        "!head -22 train.csv"
      ]
    },
    {
      "cell_type": "code",
      "execution_count": null,
      "metadata": {
        "id": "DZRHmQ2HH6CU"
      },
      "outputs": [],
      "source": [
        "train_df = pd.read_csv('train.csv', skiprows=20)"
      ]
    },
    {
      "cell_type": "code",
      "execution_count": null,
      "metadata": {
        "colab": {
          "base_uri": "https://localhost:8080/",
          "height": 279
        },
        "id": "WRWokgKoH6CV",
        "outputId": "06258fd9-9dea-47fe-c413-d1843d728cf4"
      },
      "outputs": [
        {
          "data": {
            "text/html": [
              "<div>\n",
              "<style scoped>\n",
              "    .dataframe tbody tr th:only-of-type {\n",
              "        vertical-align: middle;\n",
              "    }\n",
              "\n",
              "    .dataframe tbody tr th {\n",
              "        vertical-align: top;\n",
              "    }\n",
              "\n",
              "    .dataframe thead th {\n",
              "        text-align: right;\n",
              "    }\n",
              "</style>\n",
              "<table border=\"1\" class=\"dataframe\">\n",
              "  <thead>\n",
              "    <tr style=\"text-align: right;\">\n",
              "      <th></th>\n",
              "      <th>class</th>\n",
              "      <th>aa_000</th>\n",
              "      <th>ab_000</th>\n",
              "      <th>ac_000</th>\n",
              "      <th>ad_000</th>\n",
              "      <th>ae_000</th>\n",
              "      <th>af_000</th>\n",
              "      <th>ag_000</th>\n",
              "      <th>ag_001</th>\n",
              "      <th>ag_002</th>\n",
              "      <th>...</th>\n",
              "      <th>ee_002</th>\n",
              "      <th>ee_003</th>\n",
              "      <th>ee_004</th>\n",
              "      <th>ee_005</th>\n",
              "      <th>ee_006</th>\n",
              "      <th>ee_007</th>\n",
              "      <th>ee_008</th>\n",
              "      <th>ee_009</th>\n",
              "      <th>ef_000</th>\n",
              "      <th>eg_000</th>\n",
              "    </tr>\n",
              "  </thead>\n",
              "  <tbody>\n",
              "    <tr>\n",
              "      <th>0</th>\n",
              "      <td>neg</td>\n",
              "      <td>76698</td>\n",
              "      <td>na</td>\n",
              "      <td>2130706438</td>\n",
              "      <td>280</td>\n",
              "      <td>0</td>\n",
              "      <td>0</td>\n",
              "      <td>0</td>\n",
              "      <td>0</td>\n",
              "      <td>0</td>\n",
              "      <td>...</td>\n",
              "      <td>1240520</td>\n",
              "      <td>493384</td>\n",
              "      <td>721044</td>\n",
              "      <td>469792</td>\n",
              "      <td>339156</td>\n",
              "      <td>157956</td>\n",
              "      <td>73224</td>\n",
              "      <td>0</td>\n",
              "      <td>0</td>\n",
              "      <td>0</td>\n",
              "    </tr>\n",
              "    <tr>\n",
              "      <th>1</th>\n",
              "      <td>neg</td>\n",
              "      <td>33058</td>\n",
              "      <td>na</td>\n",
              "      <td>0</td>\n",
              "      <td>na</td>\n",
              "      <td>0</td>\n",
              "      <td>0</td>\n",
              "      <td>0</td>\n",
              "      <td>0</td>\n",
              "      <td>0</td>\n",
              "      <td>...</td>\n",
              "      <td>421400</td>\n",
              "      <td>178064</td>\n",
              "      <td>293306</td>\n",
              "      <td>245416</td>\n",
              "      <td>133654</td>\n",
              "      <td>81140</td>\n",
              "      <td>97576</td>\n",
              "      <td>1500</td>\n",
              "      <td>0</td>\n",
              "      <td>0</td>\n",
              "    </tr>\n",
              "    <tr>\n",
              "      <th>2</th>\n",
              "      <td>neg</td>\n",
              "      <td>41040</td>\n",
              "      <td>na</td>\n",
              "      <td>228</td>\n",
              "      <td>100</td>\n",
              "      <td>0</td>\n",
              "      <td>0</td>\n",
              "      <td>0</td>\n",
              "      <td>0</td>\n",
              "      <td>0</td>\n",
              "      <td>...</td>\n",
              "      <td>277378</td>\n",
              "      <td>159812</td>\n",
              "      <td>423992</td>\n",
              "      <td>409564</td>\n",
              "      <td>320746</td>\n",
              "      <td>158022</td>\n",
              "      <td>95128</td>\n",
              "      <td>514</td>\n",
              "      <td>0</td>\n",
              "      <td>0</td>\n",
              "    </tr>\n",
              "    <tr>\n",
              "      <th>3</th>\n",
              "      <td>neg</td>\n",
              "      <td>12</td>\n",
              "      <td>0</td>\n",
              "      <td>70</td>\n",
              "      <td>66</td>\n",
              "      <td>0</td>\n",
              "      <td>10</td>\n",
              "      <td>0</td>\n",
              "      <td>0</td>\n",
              "      <td>0</td>\n",
              "      <td>...</td>\n",
              "      <td>240</td>\n",
              "      <td>46</td>\n",
              "      <td>58</td>\n",
              "      <td>44</td>\n",
              "      <td>10</td>\n",
              "      <td>0</td>\n",
              "      <td>0</td>\n",
              "      <td>0</td>\n",
              "      <td>4</td>\n",
              "      <td>32</td>\n",
              "    </tr>\n",
              "    <tr>\n",
              "      <th>4</th>\n",
              "      <td>neg</td>\n",
              "      <td>60874</td>\n",
              "      <td>na</td>\n",
              "      <td>1368</td>\n",
              "      <td>458</td>\n",
              "      <td>0</td>\n",
              "      <td>0</td>\n",
              "      <td>0</td>\n",
              "      <td>0</td>\n",
              "      <td>0</td>\n",
              "      <td>...</td>\n",
              "      <td>622012</td>\n",
              "      <td>229790</td>\n",
              "      <td>405298</td>\n",
              "      <td>347188</td>\n",
              "      <td>286954</td>\n",
              "      <td>311560</td>\n",
              "      <td>433954</td>\n",
              "      <td>1218</td>\n",
              "      <td>0</td>\n",
              "      <td>0</td>\n",
              "    </tr>\n",
              "  </tbody>\n",
              "</table>\n",
              "<p>5 rows × 171 columns</p>\n",
              "</div>"
            ],
            "text/plain": [
              "  class  aa_000 ab_000      ac_000 ad_000 ae_000 af_000 ag_000 ag_001 ag_002  \\\n",
              "0   neg   76698     na  2130706438    280      0      0      0      0      0   \n",
              "1   neg   33058     na           0     na      0      0      0      0      0   \n",
              "2   neg   41040     na         228    100      0      0      0      0      0   \n",
              "3   neg      12      0          70     66      0     10      0      0      0   \n",
              "4   neg   60874     na        1368    458      0      0      0      0      0   \n",
              "\n",
              "   ...   ee_002  ee_003  ee_004  ee_005  ee_006  ee_007  ee_008 ee_009 ef_000  \\\n",
              "0  ...  1240520  493384  721044  469792  339156  157956   73224      0      0   \n",
              "1  ...   421400  178064  293306  245416  133654   81140   97576   1500      0   \n",
              "2  ...   277378  159812  423992  409564  320746  158022   95128    514      0   \n",
              "3  ...      240      46      58      44      10       0       0      0      4   \n",
              "4  ...   622012  229790  405298  347188  286954  311560  433954   1218      0   \n",
              "\n",
              "  eg_000  \n",
              "0      0  \n",
              "1      0  \n",
              "2      0  \n",
              "3     32  \n",
              "4      0  \n",
              "\n",
              "[5 rows x 171 columns]"
            ]
          },
          "execution_count": 5,
          "metadata": {},
          "output_type": "execute_result"
        }
      ],
      "source": [
        "train_df.head(5)"
      ]
    },
    {
      "cell_type": "markdown",
      "metadata": {
        "id": "yZNLYd85H6CW"
      },
      "source": [
        "### Finding metadata"
      ]
    },
    {
      "cell_type": "code",
      "execution_count": null,
      "metadata": {
        "colab": {
          "base_uri": "https://localhost:8080/"
        },
        "id": "I3BRZUWaH6CW",
        "outputId": "d56a9f82-4918-43a1-8491-d4983a2267d0"
      },
      "outputs": [
        {
          "data": {
            "text/plain": [
              "(60000, 171)"
            ]
          },
          "execution_count": 6,
          "metadata": {},
          "output_type": "execute_result"
        }
      ],
      "source": [
        "train_df.shape"
      ]
    },
    {
      "cell_type": "code",
      "execution_count": null,
      "metadata": {
        "colab": {
          "base_uri": "https://localhost:8080/"
        },
        "id": "Rwa8h3fTH6CX",
        "outputId": "756bb51f-dcca-4145-e4b4-2781a7c33f07"
      },
      "outputs": [
        {
          "data": {
            "text/plain": [
              "neg    59000\n",
              "pos     1000\n",
              "Name: class, dtype: int64"
            ]
          },
          "execution_count": 7,
          "metadata": {},
          "output_type": "execute_result"
        }
      ],
      "source": [
        "train_df['class'].value_counts()"
      ]
    },
    {
      "cell_type": "code",
      "execution_count": null,
      "metadata": {
        "id": "GfYuG0p2H6CX"
      },
      "outputs": [],
      "source": [
        "#train_df.info(verbose=True)"
      ]
    },
    {
      "cell_type": "markdown",
      "metadata": {
        "id": "VhY14JiEH6CY"
      },
      "source": [
        "#### Why the columns are inferred as *object*"
      ]
    },
    {
      "cell_type": "code",
      "execution_count": null,
      "metadata": {
        "id": "hi3OoegkH6CY",
        "outputId": "4e02d1bd-44db-4ba9-8f66-eae93e1e0c38"
      },
      "outputs": [
        {
          "data": {
            "text/html": [
              "<div>\n",
              "<style scoped>\n",
              "    .dataframe tbody tr th:only-of-type {\n",
              "        vertical-align: middle;\n",
              "    }\n",
              "\n",
              "    .dataframe tbody tr th {\n",
              "        vertical-align: top;\n",
              "    }\n",
              "\n",
              "    .dataframe thead th {\n",
              "        text-align: right;\n",
              "    }\n",
              "</style>\n",
              "<table border=\"1\" class=\"dataframe\">\n",
              "  <thead>\n",
              "    <tr style=\"text-align: right;\">\n",
              "      <th></th>\n",
              "      <th>class</th>\n",
              "      <th>aa_000</th>\n",
              "      <th>ab_000</th>\n",
              "      <th>ac_000</th>\n",
              "      <th>ad_000</th>\n",
              "      <th>ae_000</th>\n",
              "      <th>af_000</th>\n",
              "      <th>ag_000</th>\n",
              "      <th>ag_001</th>\n",
              "      <th>ag_002</th>\n",
              "      <th>...</th>\n",
              "      <th>ee_002</th>\n",
              "      <th>ee_003</th>\n",
              "      <th>ee_004</th>\n",
              "      <th>ee_005</th>\n",
              "      <th>ee_006</th>\n",
              "      <th>ee_007</th>\n",
              "      <th>ee_008</th>\n",
              "      <th>ee_009</th>\n",
              "      <th>ef_000</th>\n",
              "      <th>eg_000</th>\n",
              "    </tr>\n",
              "  </thead>\n",
              "  <tbody>\n",
              "    <tr>\n",
              "      <th>0</th>\n",
              "      <td>neg</td>\n",
              "      <td>76698</td>\n",
              "      <td>na</td>\n",
              "      <td>2130706438</td>\n",
              "      <td>280</td>\n",
              "      <td>0</td>\n",
              "      <td>0</td>\n",
              "      <td>0</td>\n",
              "      <td>0</td>\n",
              "      <td>0</td>\n",
              "      <td>...</td>\n",
              "      <td>1240520</td>\n",
              "      <td>493384</td>\n",
              "      <td>721044</td>\n",
              "      <td>469792</td>\n",
              "      <td>339156</td>\n",
              "      <td>157956</td>\n",
              "      <td>73224</td>\n",
              "      <td>0</td>\n",
              "      <td>0</td>\n",
              "      <td>0</td>\n",
              "    </tr>\n",
              "    <tr>\n",
              "      <th>1</th>\n",
              "      <td>neg</td>\n",
              "      <td>33058</td>\n",
              "      <td>na</td>\n",
              "      <td>0</td>\n",
              "      <td>na</td>\n",
              "      <td>0</td>\n",
              "      <td>0</td>\n",
              "      <td>0</td>\n",
              "      <td>0</td>\n",
              "      <td>0</td>\n",
              "      <td>...</td>\n",
              "      <td>421400</td>\n",
              "      <td>178064</td>\n",
              "      <td>293306</td>\n",
              "      <td>245416</td>\n",
              "      <td>133654</td>\n",
              "      <td>81140</td>\n",
              "      <td>97576</td>\n",
              "      <td>1500</td>\n",
              "      <td>0</td>\n",
              "      <td>0</td>\n",
              "    </tr>\n",
              "    <tr>\n",
              "      <th>2</th>\n",
              "      <td>neg</td>\n",
              "      <td>41040</td>\n",
              "      <td>na</td>\n",
              "      <td>228</td>\n",
              "      <td>100</td>\n",
              "      <td>0</td>\n",
              "      <td>0</td>\n",
              "      <td>0</td>\n",
              "      <td>0</td>\n",
              "      <td>0</td>\n",
              "      <td>...</td>\n",
              "      <td>277378</td>\n",
              "      <td>159812</td>\n",
              "      <td>423992</td>\n",
              "      <td>409564</td>\n",
              "      <td>320746</td>\n",
              "      <td>158022</td>\n",
              "      <td>95128</td>\n",
              "      <td>514</td>\n",
              "      <td>0</td>\n",
              "      <td>0</td>\n",
              "    </tr>\n",
              "    <tr>\n",
              "      <th>4</th>\n",
              "      <td>neg</td>\n",
              "      <td>60874</td>\n",
              "      <td>na</td>\n",
              "      <td>1368</td>\n",
              "      <td>458</td>\n",
              "      <td>0</td>\n",
              "      <td>0</td>\n",
              "      <td>0</td>\n",
              "      <td>0</td>\n",
              "      <td>0</td>\n",
              "      <td>...</td>\n",
              "      <td>622012</td>\n",
              "      <td>229790</td>\n",
              "      <td>405298</td>\n",
              "      <td>347188</td>\n",
              "      <td>286954</td>\n",
              "      <td>311560</td>\n",
              "      <td>433954</td>\n",
              "      <td>1218</td>\n",
              "      <td>0</td>\n",
              "      <td>0</td>\n",
              "    </tr>\n",
              "    <tr>\n",
              "      <th>5</th>\n",
              "      <td>neg</td>\n",
              "      <td>38312</td>\n",
              "      <td>na</td>\n",
              "      <td>2130706432</td>\n",
              "      <td>218</td>\n",
              "      <td>0</td>\n",
              "      <td>0</td>\n",
              "      <td>0</td>\n",
              "      <td>0</td>\n",
              "      <td>0</td>\n",
              "      <td>...</td>\n",
              "      <td>388574</td>\n",
              "      <td>288278</td>\n",
              "      <td>900430</td>\n",
              "      <td>300412</td>\n",
              "      <td>1534</td>\n",
              "      <td>338</td>\n",
              "      <td>856</td>\n",
              "      <td>0</td>\n",
              "      <td>0</td>\n",
              "      <td>0</td>\n",
              "    </tr>\n",
              "  </tbody>\n",
              "</table>\n",
              "<p>5 rows × 171 columns</p>\n",
              "</div>"
            ],
            "text/plain": [
              "  class  aa_000 ab_000      ac_000 ad_000 ae_000 af_000 ag_000 ag_001 ag_002  \\\n",
              "0   neg   76698     na  2130706438    280      0      0      0      0      0   \n",
              "1   neg   33058     na           0     na      0      0      0      0      0   \n",
              "2   neg   41040     na         228    100      0      0      0      0      0   \n",
              "4   neg   60874     na        1368    458      0      0      0      0      0   \n",
              "5   neg   38312     na  2130706432    218      0      0      0      0      0   \n",
              "\n",
              "   ...   ee_002  ee_003  ee_004  ee_005  ee_006  ee_007  ee_008 ee_009 ef_000  \\\n",
              "0  ...  1240520  493384  721044  469792  339156  157956   73224      0      0   \n",
              "1  ...   421400  178064  293306  245416  133654   81140   97576   1500      0   \n",
              "2  ...   277378  159812  423992  409564  320746  158022   95128    514      0   \n",
              "4  ...   622012  229790  405298  347188  286954  311560  433954   1218      0   \n",
              "5  ...   388574  288278  900430  300412    1534     338     856      0      0   \n",
              "\n",
              "  eg_000  \n",
              "0      0  \n",
              "1      0  \n",
              "2      0  \n",
              "4      0  \n",
              "5      0  \n",
              "\n",
              "[5 rows x 171 columns]"
            ]
          },
          "execution_count": 9,
          "metadata": {},
          "output_type": "execute_result"
        }
      ],
      "source": [
        "train_df[-train_df.ab_000.str.isnumeric()][0:5]"
      ]
    },
    {
      "cell_type": "code",
      "execution_count": null,
      "metadata": {
        "colab": {
          "base_uri": "https://localhost:8080/"
        },
        "id": "UIIP0mLdH6CZ",
        "outputId": "b368ffb8-8d7f-4135-923e-f21be2a16301"
      },
      "outputs": [
        {
          "name": "stdout",
          "output_type": "stream",
          "text": [
            "<class 'pandas.core.frame.DataFrame'>\n",
            "RangeIndex: 60000 entries, 0 to 59999\n",
            "Columns: 171 entries, class to eg_000\n",
            "dtypes: int64(1), object(170)\n",
            "memory usage: 78.3+ MB\n"
          ]
        }
      ],
      "source": [
        "train_df.info()"
      ]
    },
    {
      "cell_type": "markdown",
      "metadata": {
        "id": "xE1sdmpoH6CZ"
      },
      "source": [
        "The missing values are represented as *na* (using the string literal)."
      ]
    },
    {
      "cell_type": "markdown",
      "metadata": {
        "id": "aVInvVV8H6CZ"
      },
      "source": [
        "## Creating X and Y labels"
      ]
    },
    {
      "cell_type": "code",
      "execution_count": null,
      "metadata": {
        "id": "lPhmDESlH6CZ"
      },
      "outputs": [],
      "source": [
        "X_train = train_df.iloc[:,1:]"
      ]
    },
    {
      "cell_type": "code",
      "execution_count": null,
      "metadata": {
        "colab": {
          "base_uri": "https://localhost:8080/",
          "height": 487
        },
        "id": "25giGPP8Yvft",
        "outputId": "1834554c-73e2-4ca0-f290-3e6086a8ecfe"
      },
      "outputs": [
        {
          "data": {
            "text/html": [
              "<div>\n",
              "<style scoped>\n",
              "    .dataframe tbody tr th:only-of-type {\n",
              "        vertical-align: middle;\n",
              "    }\n",
              "\n",
              "    .dataframe tbody tr th {\n",
              "        vertical-align: top;\n",
              "    }\n",
              "\n",
              "    .dataframe thead th {\n",
              "        text-align: right;\n",
              "    }\n",
              "</style>\n",
              "<table border=\"1\" class=\"dataframe\">\n",
              "  <thead>\n",
              "    <tr style=\"text-align: right;\">\n",
              "      <th></th>\n",
              "      <th>aa_000</th>\n",
              "      <th>ab_000</th>\n",
              "      <th>ac_000</th>\n",
              "      <th>ad_000</th>\n",
              "      <th>ae_000</th>\n",
              "      <th>af_000</th>\n",
              "      <th>ag_000</th>\n",
              "      <th>ag_001</th>\n",
              "      <th>ag_002</th>\n",
              "      <th>ag_003</th>\n",
              "      <th>...</th>\n",
              "      <th>ee_002</th>\n",
              "      <th>ee_003</th>\n",
              "      <th>ee_004</th>\n",
              "      <th>ee_005</th>\n",
              "      <th>ee_006</th>\n",
              "      <th>ee_007</th>\n",
              "      <th>ee_008</th>\n",
              "      <th>ee_009</th>\n",
              "      <th>ef_000</th>\n",
              "      <th>eg_000</th>\n",
              "    </tr>\n",
              "  </thead>\n",
              "  <tbody>\n",
              "    <tr>\n",
              "      <th>0</th>\n",
              "      <td>76698</td>\n",
              "      <td>na</td>\n",
              "      <td>2130706438</td>\n",
              "      <td>280</td>\n",
              "      <td>0</td>\n",
              "      <td>0</td>\n",
              "      <td>0</td>\n",
              "      <td>0</td>\n",
              "      <td>0</td>\n",
              "      <td>0</td>\n",
              "      <td>...</td>\n",
              "      <td>1240520</td>\n",
              "      <td>493384</td>\n",
              "      <td>721044</td>\n",
              "      <td>469792</td>\n",
              "      <td>339156</td>\n",
              "      <td>157956</td>\n",
              "      <td>73224</td>\n",
              "      <td>0</td>\n",
              "      <td>0</td>\n",
              "      <td>0</td>\n",
              "    </tr>\n",
              "    <tr>\n",
              "      <th>1</th>\n",
              "      <td>33058</td>\n",
              "      <td>na</td>\n",
              "      <td>0</td>\n",
              "      <td>na</td>\n",
              "      <td>0</td>\n",
              "      <td>0</td>\n",
              "      <td>0</td>\n",
              "      <td>0</td>\n",
              "      <td>0</td>\n",
              "      <td>0</td>\n",
              "      <td>...</td>\n",
              "      <td>421400</td>\n",
              "      <td>178064</td>\n",
              "      <td>293306</td>\n",
              "      <td>245416</td>\n",
              "      <td>133654</td>\n",
              "      <td>81140</td>\n",
              "      <td>97576</td>\n",
              "      <td>1500</td>\n",
              "      <td>0</td>\n",
              "      <td>0</td>\n",
              "    </tr>\n",
              "    <tr>\n",
              "      <th>2</th>\n",
              "      <td>41040</td>\n",
              "      <td>na</td>\n",
              "      <td>228</td>\n",
              "      <td>100</td>\n",
              "      <td>0</td>\n",
              "      <td>0</td>\n",
              "      <td>0</td>\n",
              "      <td>0</td>\n",
              "      <td>0</td>\n",
              "      <td>0</td>\n",
              "      <td>...</td>\n",
              "      <td>277378</td>\n",
              "      <td>159812</td>\n",
              "      <td>423992</td>\n",
              "      <td>409564</td>\n",
              "      <td>320746</td>\n",
              "      <td>158022</td>\n",
              "      <td>95128</td>\n",
              "      <td>514</td>\n",
              "      <td>0</td>\n",
              "      <td>0</td>\n",
              "    </tr>\n",
              "    <tr>\n",
              "      <th>3</th>\n",
              "      <td>12</td>\n",
              "      <td>0</td>\n",
              "      <td>70</td>\n",
              "      <td>66</td>\n",
              "      <td>0</td>\n",
              "      <td>10</td>\n",
              "      <td>0</td>\n",
              "      <td>0</td>\n",
              "      <td>0</td>\n",
              "      <td>318</td>\n",
              "      <td>...</td>\n",
              "      <td>240</td>\n",
              "      <td>46</td>\n",
              "      <td>58</td>\n",
              "      <td>44</td>\n",
              "      <td>10</td>\n",
              "      <td>0</td>\n",
              "      <td>0</td>\n",
              "      <td>0</td>\n",
              "      <td>4</td>\n",
              "      <td>32</td>\n",
              "    </tr>\n",
              "    <tr>\n",
              "      <th>4</th>\n",
              "      <td>60874</td>\n",
              "      <td>na</td>\n",
              "      <td>1368</td>\n",
              "      <td>458</td>\n",
              "      <td>0</td>\n",
              "      <td>0</td>\n",
              "      <td>0</td>\n",
              "      <td>0</td>\n",
              "      <td>0</td>\n",
              "      <td>0</td>\n",
              "      <td>...</td>\n",
              "      <td>622012</td>\n",
              "      <td>229790</td>\n",
              "      <td>405298</td>\n",
              "      <td>347188</td>\n",
              "      <td>286954</td>\n",
              "      <td>311560</td>\n",
              "      <td>433954</td>\n",
              "      <td>1218</td>\n",
              "      <td>0</td>\n",
              "      <td>0</td>\n",
              "    </tr>\n",
              "    <tr>\n",
              "      <th>...</th>\n",
              "      <td>...</td>\n",
              "      <td>...</td>\n",
              "      <td>...</td>\n",
              "      <td>...</td>\n",
              "      <td>...</td>\n",
              "      <td>...</td>\n",
              "      <td>...</td>\n",
              "      <td>...</td>\n",
              "      <td>...</td>\n",
              "      <td>...</td>\n",
              "      <td>...</td>\n",
              "      <td>...</td>\n",
              "      <td>...</td>\n",
              "      <td>...</td>\n",
              "      <td>...</td>\n",
              "      <td>...</td>\n",
              "      <td>...</td>\n",
              "      <td>...</td>\n",
              "      <td>...</td>\n",
              "      <td>...</td>\n",
              "      <td>...</td>\n",
              "    </tr>\n",
              "    <tr>\n",
              "      <th>59995</th>\n",
              "      <td>153002</td>\n",
              "      <td>na</td>\n",
              "      <td>664</td>\n",
              "      <td>186</td>\n",
              "      <td>0</td>\n",
              "      <td>0</td>\n",
              "      <td>0</td>\n",
              "      <td>0</td>\n",
              "      <td>0</td>\n",
              "      <td>2564</td>\n",
              "      <td>...</td>\n",
              "      <td>998500</td>\n",
              "      <td>566884</td>\n",
              "      <td>1290398</td>\n",
              "      <td>1218244</td>\n",
              "      <td>1019768</td>\n",
              "      <td>717762</td>\n",
              "      <td>898642</td>\n",
              "      <td>28588</td>\n",
              "      <td>0</td>\n",
              "      <td>0</td>\n",
              "    </tr>\n",
              "    <tr>\n",
              "      <th>59996</th>\n",
              "      <td>2286</td>\n",
              "      <td>na</td>\n",
              "      <td>2130706538</td>\n",
              "      <td>224</td>\n",
              "      <td>0</td>\n",
              "      <td>0</td>\n",
              "      <td>0</td>\n",
              "      <td>0</td>\n",
              "      <td>0</td>\n",
              "      <td>0</td>\n",
              "      <td>...</td>\n",
              "      <td>10578</td>\n",
              "      <td>6760</td>\n",
              "      <td>21126</td>\n",
              "      <td>68424</td>\n",
              "      <td>136</td>\n",
              "      <td>0</td>\n",
              "      <td>0</td>\n",
              "      <td>0</td>\n",
              "      <td>0</td>\n",
              "      <td>0</td>\n",
              "    </tr>\n",
              "    <tr>\n",
              "      <th>59997</th>\n",
              "      <td>112</td>\n",
              "      <td>0</td>\n",
              "      <td>2130706432</td>\n",
              "      <td>18</td>\n",
              "      <td>0</td>\n",
              "      <td>0</td>\n",
              "      <td>0</td>\n",
              "      <td>0</td>\n",
              "      <td>0</td>\n",
              "      <td>0</td>\n",
              "      <td>...</td>\n",
              "      <td>792</td>\n",
              "      <td>386</td>\n",
              "      <td>452</td>\n",
              "      <td>144</td>\n",
              "      <td>146</td>\n",
              "      <td>2622</td>\n",
              "      <td>0</td>\n",
              "      <td>0</td>\n",
              "      <td>0</td>\n",
              "      <td>0</td>\n",
              "    </tr>\n",
              "    <tr>\n",
              "      <th>59998</th>\n",
              "      <td>80292</td>\n",
              "      <td>na</td>\n",
              "      <td>2130706432</td>\n",
              "      <td>494</td>\n",
              "      <td>0</td>\n",
              "      <td>0</td>\n",
              "      <td>0</td>\n",
              "      <td>0</td>\n",
              "      <td>0</td>\n",
              "      <td>0</td>\n",
              "      <td>...</td>\n",
              "      <td>699352</td>\n",
              "      <td>222654</td>\n",
              "      <td>347378</td>\n",
              "      <td>225724</td>\n",
              "      <td>194440</td>\n",
              "      <td>165070</td>\n",
              "      <td>802280</td>\n",
              "      <td>388422</td>\n",
              "      <td>0</td>\n",
              "      <td>0</td>\n",
              "    </tr>\n",
              "    <tr>\n",
              "      <th>59999</th>\n",
              "      <td>40222</td>\n",
              "      <td>na</td>\n",
              "      <td>698</td>\n",
              "      <td>628</td>\n",
              "      <td>0</td>\n",
              "      <td>0</td>\n",
              "      <td>0</td>\n",
              "      <td>0</td>\n",
              "      <td>0</td>\n",
              "      <td>0</td>\n",
              "      <td>...</td>\n",
              "      <td>440066</td>\n",
              "      <td>183200</td>\n",
              "      <td>344546</td>\n",
              "      <td>254068</td>\n",
              "      <td>225148</td>\n",
              "      <td>158304</td>\n",
              "      <td>170384</td>\n",
              "      <td>158</td>\n",
              "      <td>0</td>\n",
              "      <td>0</td>\n",
              "    </tr>\n",
              "  </tbody>\n",
              "</table>\n",
              "<p>60000 rows × 170 columns</p>\n",
              "</div>"
            ],
            "text/plain": [
              "       aa_000 ab_000      ac_000 ad_000 ae_000 af_000 ag_000 ag_001 ag_002  \\\n",
              "0       76698     na  2130706438    280      0      0      0      0      0   \n",
              "1       33058     na           0     na      0      0      0      0      0   \n",
              "2       41040     na         228    100      0      0      0      0      0   \n",
              "3          12      0          70     66      0     10      0      0      0   \n",
              "4       60874     na        1368    458      0      0      0      0      0   \n",
              "...       ...    ...         ...    ...    ...    ...    ...    ...    ...   \n",
              "59995  153002     na         664    186      0      0      0      0      0   \n",
              "59996    2286     na  2130706538    224      0      0      0      0      0   \n",
              "59997     112      0  2130706432     18      0      0      0      0      0   \n",
              "59998   80292     na  2130706432    494      0      0      0      0      0   \n",
              "59999   40222     na         698    628      0      0      0      0      0   \n",
              "\n",
              "      ag_003  ...   ee_002  ee_003   ee_004   ee_005   ee_006  ee_007  ee_008  \\\n",
              "0          0  ...  1240520  493384   721044   469792   339156  157956   73224   \n",
              "1          0  ...   421400  178064   293306   245416   133654   81140   97576   \n",
              "2          0  ...   277378  159812   423992   409564   320746  158022   95128   \n",
              "3        318  ...      240      46       58       44       10       0       0   \n",
              "4          0  ...   622012  229790   405298   347188   286954  311560  433954   \n",
              "...      ...  ...      ...     ...      ...      ...      ...     ...     ...   \n",
              "59995   2564  ...   998500  566884  1290398  1218244  1019768  717762  898642   \n",
              "59996      0  ...    10578    6760    21126    68424      136       0       0   \n",
              "59997      0  ...      792     386      452      144      146    2622       0   \n",
              "59998      0  ...   699352  222654   347378   225724   194440  165070  802280   \n",
              "59999      0  ...   440066  183200   344546   254068   225148  158304  170384   \n",
              "\n",
              "       ee_009 ef_000 eg_000  \n",
              "0           0      0      0  \n",
              "1        1500      0      0  \n",
              "2         514      0      0  \n",
              "3           0      4     32  \n",
              "4        1218      0      0  \n",
              "...       ...    ...    ...  \n",
              "59995   28588      0      0  \n",
              "59996       0      0      0  \n",
              "59997       0      0      0  \n",
              "59998  388422      0      0  \n",
              "59999     158      0      0  \n",
              "\n",
              "[60000 rows x 170 columns]"
            ]
          },
          "execution_count": 12,
          "metadata": {},
          "output_type": "execute_result"
        }
      ],
      "source": [
        "X_train"
      ]
    },
    {
      "cell_type": "markdown",
      "metadata": {
        "id": "6Hmy3qyVH6Ca"
      },
      "source": [
        "#### Converting the columns to numerical variables"
      ]
    },
    {
      "cell_type": "code",
      "execution_count": null,
      "metadata": {
        "id": "h3-057kpH6Ca"
      },
      "outputs": [],
      "source": [
        "X_train = X_train.apply(pd.to_numeric, \n",
        "                        errors='coerce', \n",
        "                        axis=0)"
      ]
    },
    {
      "cell_type": "code",
      "execution_count": null,
      "metadata": {
        "colab": {
          "base_uri": "https://localhost:8080/",
          "height": 299
        },
        "id": "JDhmEqUVH6Cb",
        "outputId": "b2066c71-5c85-4ecf-dd0f-202dd63dc5f6"
      },
      "outputs": [
        {
          "data": {
            "text/html": [
              "<div>\n",
              "<style scoped>\n",
              "    .dataframe tbody tr th:only-of-type {\n",
              "        vertical-align: middle;\n",
              "    }\n",
              "\n",
              "    .dataframe tbody tr th {\n",
              "        vertical-align: top;\n",
              "    }\n",
              "\n",
              "    .dataframe thead th {\n",
              "        text-align: right;\n",
              "    }\n",
              "</style>\n",
              "<table border=\"1\" class=\"dataframe\">\n",
              "  <thead>\n",
              "    <tr style=\"text-align: right;\">\n",
              "      <th></th>\n",
              "      <th>aa_000</th>\n",
              "      <th>ab_000</th>\n",
              "      <th>ac_000</th>\n",
              "      <th>ad_000</th>\n",
              "      <th>ae_000</th>\n",
              "      <th>af_000</th>\n",
              "      <th>ag_000</th>\n",
              "      <th>ag_001</th>\n",
              "      <th>ag_002</th>\n",
              "      <th>ag_003</th>\n",
              "      <th>...</th>\n",
              "      <th>ee_002</th>\n",
              "      <th>ee_003</th>\n",
              "      <th>ee_004</th>\n",
              "      <th>ee_005</th>\n",
              "      <th>ee_006</th>\n",
              "      <th>ee_007</th>\n",
              "      <th>ee_008</th>\n",
              "      <th>ee_009</th>\n",
              "      <th>ef_000</th>\n",
              "      <th>eg_000</th>\n",
              "    </tr>\n",
              "  </thead>\n",
              "  <tbody>\n",
              "    <tr>\n",
              "      <th>0</th>\n",
              "      <td>76698</td>\n",
              "      <td>NaN</td>\n",
              "      <td>2.130706e+09</td>\n",
              "      <td>280.0</td>\n",
              "      <td>0.0</td>\n",
              "      <td>0.0</td>\n",
              "      <td>0.0</td>\n",
              "      <td>0.0</td>\n",
              "      <td>0.0</td>\n",
              "      <td>0.0</td>\n",
              "      <td>...</td>\n",
              "      <td>1240520.0</td>\n",
              "      <td>493384.0</td>\n",
              "      <td>721044.0</td>\n",
              "      <td>469792.0</td>\n",
              "      <td>339156.0</td>\n",
              "      <td>157956.0</td>\n",
              "      <td>73224.0</td>\n",
              "      <td>0.0</td>\n",
              "      <td>0.0</td>\n",
              "      <td>0.0</td>\n",
              "    </tr>\n",
              "    <tr>\n",
              "      <th>1</th>\n",
              "      <td>33058</td>\n",
              "      <td>NaN</td>\n",
              "      <td>0.000000e+00</td>\n",
              "      <td>NaN</td>\n",
              "      <td>0.0</td>\n",
              "      <td>0.0</td>\n",
              "      <td>0.0</td>\n",
              "      <td>0.0</td>\n",
              "      <td>0.0</td>\n",
              "      <td>0.0</td>\n",
              "      <td>...</td>\n",
              "      <td>421400.0</td>\n",
              "      <td>178064.0</td>\n",
              "      <td>293306.0</td>\n",
              "      <td>245416.0</td>\n",
              "      <td>133654.0</td>\n",
              "      <td>81140.0</td>\n",
              "      <td>97576.0</td>\n",
              "      <td>1500.0</td>\n",
              "      <td>0.0</td>\n",
              "      <td>0.0</td>\n",
              "    </tr>\n",
              "    <tr>\n",
              "      <th>2</th>\n",
              "      <td>41040</td>\n",
              "      <td>NaN</td>\n",
              "      <td>2.280000e+02</td>\n",
              "      <td>100.0</td>\n",
              "      <td>0.0</td>\n",
              "      <td>0.0</td>\n",
              "      <td>0.0</td>\n",
              "      <td>0.0</td>\n",
              "      <td>0.0</td>\n",
              "      <td>0.0</td>\n",
              "      <td>...</td>\n",
              "      <td>277378.0</td>\n",
              "      <td>159812.0</td>\n",
              "      <td>423992.0</td>\n",
              "      <td>409564.0</td>\n",
              "      <td>320746.0</td>\n",
              "      <td>158022.0</td>\n",
              "      <td>95128.0</td>\n",
              "      <td>514.0</td>\n",
              "      <td>0.0</td>\n",
              "      <td>0.0</td>\n",
              "    </tr>\n",
              "    <tr>\n",
              "      <th>4</th>\n",
              "      <td>60874</td>\n",
              "      <td>NaN</td>\n",
              "      <td>1.368000e+03</td>\n",
              "      <td>458.0</td>\n",
              "      <td>0.0</td>\n",
              "      <td>0.0</td>\n",
              "      <td>0.0</td>\n",
              "      <td>0.0</td>\n",
              "      <td>0.0</td>\n",
              "      <td>0.0</td>\n",
              "      <td>...</td>\n",
              "      <td>622012.0</td>\n",
              "      <td>229790.0</td>\n",
              "      <td>405298.0</td>\n",
              "      <td>347188.0</td>\n",
              "      <td>286954.0</td>\n",
              "      <td>311560.0</td>\n",
              "      <td>433954.0</td>\n",
              "      <td>1218.0</td>\n",
              "      <td>0.0</td>\n",
              "      <td>0.0</td>\n",
              "    </tr>\n",
              "    <tr>\n",
              "      <th>5</th>\n",
              "      <td>38312</td>\n",
              "      <td>NaN</td>\n",
              "      <td>2.130706e+09</td>\n",
              "      <td>218.0</td>\n",
              "      <td>0.0</td>\n",
              "      <td>0.0</td>\n",
              "      <td>0.0</td>\n",
              "      <td>0.0</td>\n",
              "      <td>0.0</td>\n",
              "      <td>0.0</td>\n",
              "      <td>...</td>\n",
              "      <td>388574.0</td>\n",
              "      <td>288278.0</td>\n",
              "      <td>900430.0</td>\n",
              "      <td>300412.0</td>\n",
              "      <td>1534.0</td>\n",
              "      <td>338.0</td>\n",
              "      <td>856.0</td>\n",
              "      <td>0.0</td>\n",
              "      <td>0.0</td>\n",
              "      <td>0.0</td>\n",
              "    </tr>\n",
              "  </tbody>\n",
              "</table>\n",
              "<p>5 rows × 170 columns</p>\n",
              "</div>"
            ],
            "text/plain": [
              "   aa_000  ab_000        ac_000  ad_000  ae_000  af_000  ag_000  ag_001  \\\n",
              "0   76698     NaN  2.130706e+09   280.0     0.0     0.0     0.0     0.0   \n",
              "1   33058     NaN  0.000000e+00     NaN     0.0     0.0     0.0     0.0   \n",
              "2   41040     NaN  2.280000e+02   100.0     0.0     0.0     0.0     0.0   \n",
              "4   60874     NaN  1.368000e+03   458.0     0.0     0.0     0.0     0.0   \n",
              "5   38312     NaN  2.130706e+09   218.0     0.0     0.0     0.0     0.0   \n",
              "\n",
              "   ag_002  ag_003  ...     ee_002    ee_003    ee_004    ee_005    ee_006  \\\n",
              "0     0.0     0.0  ...  1240520.0  493384.0  721044.0  469792.0  339156.0   \n",
              "1     0.0     0.0  ...   421400.0  178064.0  293306.0  245416.0  133654.0   \n",
              "2     0.0     0.0  ...   277378.0  159812.0  423992.0  409564.0  320746.0   \n",
              "4     0.0     0.0  ...   622012.0  229790.0  405298.0  347188.0  286954.0   \n",
              "5     0.0     0.0  ...   388574.0  288278.0  900430.0  300412.0    1534.0   \n",
              "\n",
              "     ee_007    ee_008  ee_009  ef_000  eg_000  \n",
              "0  157956.0   73224.0     0.0     0.0     0.0  \n",
              "1   81140.0   97576.0  1500.0     0.0     0.0  \n",
              "2  158022.0   95128.0   514.0     0.0     0.0  \n",
              "4  311560.0  433954.0  1218.0     0.0     0.0  \n",
              "5     338.0     856.0     0.0     0.0     0.0  \n",
              "\n",
              "[5 rows x 170 columns]"
            ]
          },
          "execution_count": 14,
          "metadata": {},
          "output_type": "execute_result"
        }
      ],
      "source": [
        "X_train[X_train.ab_000.isnull()][0:5]"
      ]
    },
    {
      "cell_type": "code",
      "execution_count": null,
      "metadata": {
        "id": "ZrTNfJ_cH6Cb",
        "outputId": "fd9e31ec-267e-43d8-fa42-6e456769454c"
      },
      "outputs": [
        {
          "name": "stdout",
          "output_type": "stream",
          "text": [
            "<class 'pandas.core.frame.DataFrame'>\n",
            "RangeIndex: 60000 entries, 0 to 59999\n",
            "Columns: 170 entries, aa_000 to eg_000\n",
            "dtypes: float64(169), int64(1)\n",
            "memory usage: 77.8 MB\n"
          ]
        }
      ],
      "source": [
        "X_train.info()"
      ]
    },
    {
      "cell_type": "markdown",
      "metadata": {
        "id": "GBBcQcA7H6Cb"
      },
      "source": [
        "## Exploratory Analysis"
      ]
    },
    {
      "cell_type": "code",
      "execution_count": null,
      "metadata": {
        "id": "mEoAbt90H6Cc"
      },
      "outputs": [],
      "source": [
        "import warnings\n",
        "warnings.filterwarnings('ignore')"
      ]
    },
    {
      "cell_type": "code",
      "execution_count": null,
      "metadata": {
        "id": "H2HlXsiXH6Cc"
      },
      "outputs": [],
      "source": [
        "import matplotlib.pyplot as plt\n",
        "import seaborn as sn"
      ]
    },
    {
      "cell_type": "markdown",
      "metadata": {
        "id": "87gvMER0H6Cc"
      },
      "source": [
        "### Exploring the distributon of columns"
      ]
    },
    {
      "cell_type": "code",
      "execution_count": null,
      "metadata": {
        "colab": {
          "base_uri": "https://localhost:8080/"
        },
        "id": "vad7dON9H6Cc",
        "outputId": "ac633613-3501-46fa-a2b3-3e66a1e7ec8c"
      },
      "outputs": [
        {
          "data": {
            "text/plain": [
              "0"
            ]
          },
          "execution_count": 18,
          "metadata": {},
          "output_type": "execute_result"
        }
      ],
      "source": [
        "train_df.aa_000.min()"
      ]
    },
    {
      "cell_type": "code",
      "execution_count": null,
      "metadata": {
        "colab": {
          "base_uri": "https://localhost:8080/"
        },
        "id": "_cxfFgvcH6Cd",
        "outputId": "f7a1261c-471d-4e37-b9b0-4fb3f9eefcc6"
      },
      "outputs": [
        {
          "data": {
            "text/plain": [
              "2746564"
            ]
          },
          "execution_count": 19,
          "metadata": {},
          "output_type": "execute_result"
        }
      ],
      "source": [
        "train_df.aa_000.max()"
      ]
    },
    {
      "cell_type": "code",
      "execution_count": null,
      "metadata": {
        "colab": {
          "base_uri": "https://localhost:8080/",
          "height": 509
        },
        "id": "8a3436FoH6Cd",
        "outputId": "27d06aad-d0c6-481f-fb07-323660ae9083"
      },
      "outputs": [
        {
          "data": {
            "image/png": "[encoded data removed]",
            "text/plain": [
              "<Figure size 720x576 with 1 Axes>"
            ]
          },
          "metadata": {
            "needs_background": "light"
          },
          "output_type": "display_data"
        }
      ],
      "source": [
        "plt.figure(figsize=(10,8))\n",
        "sn.distplot(train_df['aa_000'].dropna());"
      ]
    },
    {
      "cell_type": "markdown",
      "metadata": {
        "id": "Jut9uxUvH6Cd"
      },
      "source": [
        "#### How columns values are distributed across both the classes"
      ]
    },
    {
      "cell_type": "code",
      "execution_count": null,
      "metadata": {
        "id": "WDdG4eh3H6Cd",
        "outputId": "9b00674f-26fe-461d-90a5-fc42acc8477f"
      },
      "outputs": [
        {
          "data": {
            "text/plain": [
              "<matplotlib.legend.Legend at 0x7fcdae63be50>"
            ]
          },
          "execution_count": 22,
          "metadata": {},
          "output_type": "execute_result"
        },
        {
          "data": {
            "image/png": "[encoded data removed]",
            "text/plain": [
              "<Figure size 576x432 with 1 Axes>"
            ]
          },
          "metadata": {
            "needs_background": "light"
          },
          "output_type": "display_data"
        }
      ],
      "source": [
        "plt.figure(figsize=(8,6))\n",
        "sn.distplot(X_train[train_df['class'] == 'neg']['aa_000'].dropna(), label = 'neg');\n",
        "sn.distplot(X_train[train_df['class'] == 'pos']['aa_000'].dropna(), label = 'pos');\n",
        "plt.legend()"
      ]
    },
    {
      "cell_type": "markdown",
      "metadata": {
        "id": "YNd_zSivH6Ce"
      },
      "source": [
        "### Participant Exercise: 1\n",
        "\n",
        "- Explore three other variables and verify the distribution of the variables across both the classes"
      ]
    },
    {
      "cell_type": "markdown",
      "metadata": {
        "id": "Shk6QRDGH6Ce"
      },
      "source": [
        "### Are there any missing values"
      ]
    },
    {
      "cell_type": "code",
      "execution_count": null,
      "metadata": {
        "id": "3lzNDYgeH6Ce"
      },
      "outputs": [],
      "source": [
        "columns_names = X_train.columns\n",
        "percent_missing = X_train.isnull().sum() * 100 / len(X_train)\n",
        "missing_value_df = pd.DataFrame({'column_name': columns_names,\n",
        "                                 'percent_missing': percent_missing})"
      ]
    },
    {
      "cell_type": "code",
      "execution_count": null,
      "metadata": {
        "colab": {
          "base_uri": "https://localhost:8080/",
          "height": 423
        },
        "id": "-Ithg36IH6Ce",
        "outputId": "fd4056aa-8242-4fa8-9b4f-be2643d4fde6"
      },
      "outputs": [
        {
          "data": {
            "text/html": [
              "<div>\n",
              "<style scoped>\n",
              "    .dataframe tbody tr th:only-of-type {\n",
              "        vertical-align: middle;\n",
              "    }\n",
              "\n",
              "    .dataframe tbody tr th {\n",
              "        vertical-align: top;\n",
              "    }\n",
              "\n",
              "    .dataframe thead th {\n",
              "        text-align: right;\n",
              "    }\n",
              "</style>\n",
              "<table border=\"1\" class=\"dataframe\">\n",
              "  <thead>\n",
              "    <tr style=\"text-align: right;\">\n",
              "      <th></th>\n",
              "      <th>column_name</th>\n",
              "      <th>percent_missing</th>\n",
              "    </tr>\n",
              "  </thead>\n",
              "  <tbody>\n",
              "    <tr>\n",
              "      <th>br_000</th>\n",
              "      <td>br_000</td>\n",
              "      <td>82.106667</td>\n",
              "    </tr>\n",
              "    <tr>\n",
              "      <th>bq_000</th>\n",
              "      <td>bq_000</td>\n",
              "      <td>81.203333</td>\n",
              "    </tr>\n",
              "    <tr>\n",
              "      <th>bp_000</th>\n",
              "      <td>bp_000</td>\n",
              "      <td>79.566667</td>\n",
              "    </tr>\n",
              "    <tr>\n",
              "      <th>bo_000</th>\n",
              "      <td>bo_000</td>\n",
              "      <td>77.221667</td>\n",
              "    </tr>\n",
              "    <tr>\n",
              "      <th>cr_000</th>\n",
              "      <td>cr_000</td>\n",
              "      <td>77.215000</td>\n",
              "    </tr>\n",
              "    <tr>\n",
              "      <th>...</th>\n",
              "      <td>...</td>\n",
              "      <td>...</td>\n",
              "    </tr>\n",
              "    <tr>\n",
              "      <th>cj_000</th>\n",
              "      <td>cj_000</td>\n",
              "      <td>0.563333</td>\n",
              "    </tr>\n",
              "    <tr>\n",
              "      <th>ci_000</th>\n",
              "      <td>ci_000</td>\n",
              "      <td>0.563333</td>\n",
              "    </tr>\n",
              "    <tr>\n",
              "      <th>ck_000</th>\n",
              "      <td>ck_000</td>\n",
              "      <td>0.563333</td>\n",
              "    </tr>\n",
              "    <tr>\n",
              "      <th>bt_000</th>\n",
              "      <td>bt_000</td>\n",
              "      <td>0.278333</td>\n",
              "    </tr>\n",
              "    <tr>\n",
              "      <th>aa_000</th>\n",
              "      <td>aa_000</td>\n",
              "      <td>0.000000</td>\n",
              "    </tr>\n",
              "  </tbody>\n",
              "</table>\n",
              "<p>170 rows × 2 columns</p>\n",
              "</div>"
            ],
            "text/plain": [
              "       column_name  percent_missing\n",
              "br_000      br_000        82.106667\n",
              "bq_000      bq_000        81.203333\n",
              "bp_000      bp_000        79.566667\n",
              "bo_000      bo_000        77.221667\n",
              "cr_000      cr_000        77.215000\n",
              "...            ...              ...\n",
              "cj_000      cj_000         0.563333\n",
              "ci_000      ci_000         0.563333\n",
              "ck_000      ck_000         0.563333\n",
              "bt_000      bt_000         0.278333\n",
              "aa_000      aa_000         0.000000\n",
              "\n",
              "[170 rows x 2 columns]"
            ]
          },
          "execution_count": 24,
          "metadata": {},
          "output_type": "execute_result"
        }
      ],
      "source": [
        "missing_value_df.sort_values('percent_missing', ascending = False)"
      ]
    },
    {
      "cell_type": "markdown",
      "metadata": {
        "id": "dc1xH3sXH6Ce"
      },
      "source": [
        "### Dealing with missing values\n",
        "\n",
        "The missing values can be imputed from values available from other rows/records.\n",
        "\n",
        "What if majority of the values are missing in a column? A column can be imputed if the less than 20% of values are missing.\n",
        "\n",
        "We can skip the variables that have more than 20% percent missing values.\n",
        "\n",
        "### Participant Exercise : 2\n",
        "\n",
        "- Find Missing percent across both the classes"
      ]
    },
    {
      "cell_type": "code",
      "execution_count": null,
      "metadata": {
        "id": "c35T_xlVoe4C"
      },
      "outputs": [],
      "source": [
        "neg_class = X_train[train_df['class'] == 'neg']\n",
        "pos_class = X_train[train_df['class'] == 'pos']\n",
        "\n",
        "missing_value_df['neg_missing'] = neg_class.isnull().sum() * 100 / len(neg_class)\n",
        "missing_value_df['pos_missing'] = pos_class.isnull().sum() * 100 / len(pos_class)"
      ]
    },
    {
      "cell_type": "code",
      "execution_count": null,
      "metadata": {
        "colab": {
          "base_uri": "https://localhost:8080/",
          "height": 423
        },
        "id": "l1xbdgbgo2rA",
        "outputId": "ff6e8ec0-9ecc-4236-f4bf-d223918585a9"
      },
      "outputs": [
        {
          "data": {
            "text/html": [
              "<div>\n",
              "<style scoped>\n",
              "    .dataframe tbody tr th:only-of-type {\n",
              "        vertical-align: middle;\n",
              "    }\n",
              "\n",
              "    .dataframe tbody tr th {\n",
              "        vertical-align: top;\n",
              "    }\n",
              "\n",
              "    .dataframe thead th {\n",
              "        text-align: right;\n",
              "    }\n",
              "</style>\n",
              "<table border=\"1\" class=\"dataframe\">\n",
              "  <thead>\n",
              "    <tr style=\"text-align: right;\">\n",
              "      <th></th>\n",
              "      <th>column_name</th>\n",
              "      <th>percent_missing</th>\n",
              "      <th>neg_missing</th>\n",
              "      <th>pos_missing</th>\n",
              "    </tr>\n",
              "  </thead>\n",
              "  <tbody>\n",
              "    <tr>\n",
              "      <th>aa_000</th>\n",
              "      <td>aa_000</td>\n",
              "      <td>0.000000</td>\n",
              "      <td>0.000000</td>\n",
              "      <td>0.0</td>\n",
              "    </tr>\n",
              "    <tr>\n",
              "      <th>ab_000</th>\n",
              "      <td>ab_000</td>\n",
              "      <td>77.215000</td>\n",
              "      <td>77.216949</td>\n",
              "      <td>77.1</td>\n",
              "    </tr>\n",
              "    <tr>\n",
              "      <th>ac_000</th>\n",
              "      <td>ac_000</td>\n",
              "      <td>5.558333</td>\n",
              "      <td>4.869492</td>\n",
              "      <td>46.2</td>\n",
              "    </tr>\n",
              "    <tr>\n",
              "      <th>ad_000</th>\n",
              "      <td>ad_000</td>\n",
              "      <td>24.768333</td>\n",
              "      <td>24.094915</td>\n",
              "      <td>64.5</td>\n",
              "    </tr>\n",
              "    <tr>\n",
              "      <th>ae_000</th>\n",
              "      <td>ae_000</td>\n",
              "      <td>4.166667</td>\n",
              "      <td>3.659322</td>\n",
              "      <td>34.1</td>\n",
              "    </tr>\n",
              "    <tr>\n",
              "      <th>...</th>\n",
              "      <td>...</td>\n",
              "      <td>...</td>\n",
              "      <td>...</td>\n",
              "      <td>...</td>\n",
              "    </tr>\n",
              "    <tr>\n",
              "      <th>ee_007</th>\n",
              "      <td>ee_007</td>\n",
              "      <td>1.118333</td>\n",
              "      <td>1.128814</td>\n",
              "      <td>0.5</td>\n",
              "    </tr>\n",
              "    <tr>\n",
              "      <th>ee_008</th>\n",
              "      <td>ee_008</td>\n",
              "      <td>1.118333</td>\n",
              "      <td>1.128814</td>\n",
              "      <td>0.5</td>\n",
              "    </tr>\n",
              "    <tr>\n",
              "      <th>ee_009</th>\n",
              "      <td>ee_009</td>\n",
              "      <td>1.118333</td>\n",
              "      <td>1.128814</td>\n",
              "      <td>0.5</td>\n",
              "    </tr>\n",
              "    <tr>\n",
              "      <th>ef_000</th>\n",
              "      <td>ef_000</td>\n",
              "      <td>4.540000</td>\n",
              "      <td>3.977966</td>\n",
              "      <td>37.7</td>\n",
              "    </tr>\n",
              "    <tr>\n",
              "      <th>eg_000</th>\n",
              "      <td>eg_000</td>\n",
              "      <td>4.538333</td>\n",
              "      <td>3.976271</td>\n",
              "      <td>37.7</td>\n",
              "    </tr>\n",
              "  </tbody>\n",
              "</table>\n",
              "<p>170 rows × 4 columns</p>\n",
              "</div>"
            ],
            "text/plain": [
              "       column_name  percent_missing  neg_missing  pos_missing\n",
              "aa_000      aa_000         0.000000     0.000000          0.0\n",
              "ab_000      ab_000        77.215000    77.216949         77.1\n",
              "ac_000      ac_000         5.558333     4.869492         46.2\n",
              "ad_000      ad_000        24.768333    24.094915         64.5\n",
              "ae_000      ae_000         4.166667     3.659322         34.1\n",
              "...            ...              ...          ...          ...\n",
              "ee_007      ee_007         1.118333     1.128814          0.5\n",
              "ee_008      ee_008         1.118333     1.128814          0.5\n",
              "ee_009      ee_009         1.118333     1.128814          0.5\n",
              "ef_000      ef_000         4.540000     3.977966         37.7\n",
              "eg_000      eg_000         4.538333     3.976271         37.7\n",
              "\n",
              "[170 rows x 4 columns]"
            ]
          },
          "execution_count": 26,
          "metadata": {},
          "output_type": "execute_result"
        }
      ],
      "source": [
        "missing_value_df"
      ]
    },
    {
      "cell_type": "markdown",
      "metadata": {
        "id": "yDfgkYObH6Ce"
      },
      "source": [
        "### Removing the variables that have higher percentage of missing values"
      ]
    },
    {
      "cell_type": "code",
      "execution_count": null,
      "metadata": {
        "id": "YroHgQPkH6Cf"
      },
      "outputs": [],
      "source": [
        "X_features = missing_value_df[missing_value_df.percent_missing < 20.0]['column_name']"
      ]
    },
    {
      "cell_type": "code",
      "execution_count": null,
      "metadata": {
        "colab": {
          "base_uri": "https://localhost:8080/"
        },
        "id": "TASz1HBqpq44",
        "outputId": "0b333eef-dd66-42f5-8cf6-5c66f21a9831"
      },
      "outputs": [
        {
          "data": {
            "text/plain": [
              "146"
            ]
          },
          "execution_count": 28,
          "metadata": {},
          "output_type": "execute_result"
        }
      ],
      "source": [
        "len(X_features)"
      ]
    },
    {
      "cell_type": "code",
      "execution_count": null,
      "metadata": {
        "id": "hz_4NX1ZH6Cf"
      },
      "outputs": [],
      "source": [
        "X_train_v2 = X_train[X_features]"
      ]
    },
    {
      "cell_type": "markdown",
      "metadata": {
        "id": "1Ppqo-SmH6Cf"
      },
      "source": [
        "### Imputing missing values"
      ]
    },
    {
      "cell_type": "code",
      "execution_count": null,
      "metadata": {
        "colab": {
          "base_uri": "https://localhost:8080/"
        },
        "id": "3cbcLozUH6Cf",
        "outputId": "3786200b-1cbf-4b36-e75c-5dbe104a3092"
      },
      "outputs": [
        {
          "data": {
            "text/plain": [
              "SimpleImputer()"
            ]
          },
          "execution_count": 30,
          "metadata": {},
          "output_type": "execute_result"
        }
      ],
      "source": [
        "from sklearn.impute import SimpleImputer\n",
        "\n",
        "imp = SimpleImputer(missing_values=np.nan,\n",
        "                    strategy='mean')\n",
        "\n",
        "imp.fit(X_train_v2)"
      ]
    },
    {
      "cell_type": "code",
      "execution_count": null,
      "metadata": {
        "id": "lYc58fF-H6Cf"
      },
      "outputs": [],
      "source": [
        "X_train_v2 = imp.transform(X_train_v2)"
      ]
    },
    {
      "cell_type": "code",
      "execution_count": null,
      "metadata": {
        "id": "KHb-0J1oH6Cg"
      },
      "outputs": [],
      "source": [
        "X_train_v2 = pd.DataFrame(X_train_v2)"
      ]
    },
    {
      "cell_type": "code",
      "execution_count": null,
      "metadata": {
        "id": "y1YrZQ_JH6Cg"
      },
      "outputs": [],
      "source": [
        "percent_missing = X_train_v2.isnull().sum() * 100 / len(X_train)"
      ]
    },
    {
      "cell_type": "code",
      "execution_count": null,
      "metadata": {
        "colab": {
          "base_uri": "https://localhost:8080/"
        },
        "id": "nnNv40GUH6Cg",
        "outputId": "fd360638-3f72-4778-b90c-04b98ac2e896"
      },
      "outputs": [
        {
          "data": {
            "text/plain": [
              "0      0.0\n",
              "1      0.0\n",
              "2      0.0\n",
              "3      0.0\n",
              "4      0.0\n",
              "      ... \n",
              "141    0.0\n",
              "142    0.0\n",
              "143    0.0\n",
              "144    0.0\n",
              "145    0.0\n",
              "Length: 146, dtype: float64"
            ]
          },
          "execution_count": 34,
          "metadata": {},
          "output_type": "execute_result"
        }
      ],
      "source": [
        "percent_missing"
      ]
    },
    {
      "cell_type": "code",
      "execution_count": null,
      "metadata": {
        "id": "0IzoFfoqH6Cg"
      },
      "outputs": [],
      "source": [
        "X_train_v2.columns = X_features"
      ]
    },
    {
      "cell_type": "code",
      "execution_count": null,
      "metadata": {
        "colab": {
          "base_uri": "https://localhost:8080/",
          "height": 299
        },
        "id": "eeebSdhVH6Cg",
        "outputId": "7cff40ec-6f99-447a-a378-758b6287a857"
      },
      "outputs": [
        {
          "data": {
            "text/html": [
              "<div>\n",
              "<style scoped>\n",
              "    .dataframe tbody tr th:only-of-type {\n",
              "        vertical-align: middle;\n",
              "    }\n",
              "\n",
              "    .dataframe tbody tr th {\n",
              "        vertical-align: top;\n",
              "    }\n",
              "\n",
              "    .dataframe thead th {\n",
              "        text-align: right;\n",
              "    }\n",
              "</style>\n",
              "<table border=\"1\" class=\"dataframe\">\n",
              "  <thead>\n",
              "    <tr style=\"text-align: right;\">\n",
              "      <th>column_name</th>\n",
              "      <th>aa_000</th>\n",
              "      <th>ac_000</th>\n",
              "      <th>ae_000</th>\n",
              "      <th>af_000</th>\n",
              "      <th>ag_000</th>\n",
              "      <th>ag_001</th>\n",
              "      <th>ag_002</th>\n",
              "      <th>ag_003</th>\n",
              "      <th>ag_004</th>\n",
              "      <th>ag_005</th>\n",
              "      <th>...</th>\n",
              "      <th>ee_002</th>\n",
              "      <th>ee_003</th>\n",
              "      <th>ee_004</th>\n",
              "      <th>ee_005</th>\n",
              "      <th>ee_006</th>\n",
              "      <th>ee_007</th>\n",
              "      <th>ee_008</th>\n",
              "      <th>ee_009</th>\n",
              "      <th>ef_000</th>\n",
              "      <th>eg_000</th>\n",
              "    </tr>\n",
              "  </thead>\n",
              "  <tbody>\n",
              "    <tr>\n",
              "      <th>0</th>\n",
              "      <td>76698.0</td>\n",
              "      <td>2.130706e+09</td>\n",
              "      <td>0.0</td>\n",
              "      <td>0.0</td>\n",
              "      <td>0.0</td>\n",
              "      <td>0.0</td>\n",
              "      <td>0.0</td>\n",
              "      <td>0.0</td>\n",
              "      <td>37250.0</td>\n",
              "      <td>1432864.0</td>\n",
              "      <td>...</td>\n",
              "      <td>1240520.0</td>\n",
              "      <td>493384.0</td>\n",
              "      <td>721044.0</td>\n",
              "      <td>469792.0</td>\n",
              "      <td>339156.0</td>\n",
              "      <td>157956.0</td>\n",
              "      <td>73224.0</td>\n",
              "      <td>0.0</td>\n",
              "      <td>0.0</td>\n",
              "      <td>0.0</td>\n",
              "    </tr>\n",
              "    <tr>\n",
              "      <th>1</th>\n",
              "      <td>33058.0</td>\n",
              "      <td>0.000000e+00</td>\n",
              "      <td>0.0</td>\n",
              "      <td>0.0</td>\n",
              "      <td>0.0</td>\n",
              "      <td>0.0</td>\n",
              "      <td>0.0</td>\n",
              "      <td>0.0</td>\n",
              "      <td>18254.0</td>\n",
              "      <td>653294.0</td>\n",
              "      <td>...</td>\n",
              "      <td>421400.0</td>\n",
              "      <td>178064.0</td>\n",
              "      <td>293306.0</td>\n",
              "      <td>245416.0</td>\n",
              "      <td>133654.0</td>\n",
              "      <td>81140.0</td>\n",
              "      <td>97576.0</td>\n",
              "      <td>1500.0</td>\n",
              "      <td>0.0</td>\n",
              "      <td>0.0</td>\n",
              "    </tr>\n",
              "    <tr>\n",
              "      <th>2</th>\n",
              "      <td>41040.0</td>\n",
              "      <td>2.280000e+02</td>\n",
              "      <td>0.0</td>\n",
              "      <td>0.0</td>\n",
              "      <td>0.0</td>\n",
              "      <td>0.0</td>\n",
              "      <td>0.0</td>\n",
              "      <td>0.0</td>\n",
              "      <td>1648.0</td>\n",
              "      <td>370592.0</td>\n",
              "      <td>...</td>\n",
              "      <td>277378.0</td>\n",
              "      <td>159812.0</td>\n",
              "      <td>423992.0</td>\n",
              "      <td>409564.0</td>\n",
              "      <td>320746.0</td>\n",
              "      <td>158022.0</td>\n",
              "      <td>95128.0</td>\n",
              "      <td>514.0</td>\n",
              "      <td>0.0</td>\n",
              "      <td>0.0</td>\n",
              "    </tr>\n",
              "    <tr>\n",
              "      <th>3</th>\n",
              "      <td>12.0</td>\n",
              "      <td>7.000000e+01</td>\n",
              "      <td>0.0</td>\n",
              "      <td>10.0</td>\n",
              "      <td>0.0</td>\n",
              "      <td>0.0</td>\n",
              "      <td>0.0</td>\n",
              "      <td>318.0</td>\n",
              "      <td>2212.0</td>\n",
              "      <td>3232.0</td>\n",
              "      <td>...</td>\n",
              "      <td>240.0</td>\n",
              "      <td>46.0</td>\n",
              "      <td>58.0</td>\n",
              "      <td>44.0</td>\n",
              "      <td>10.0</td>\n",
              "      <td>0.0</td>\n",
              "      <td>0.0</td>\n",
              "      <td>0.0</td>\n",
              "      <td>4.0</td>\n",
              "      <td>32.0</td>\n",
              "    </tr>\n",
              "    <tr>\n",
              "      <th>4</th>\n",
              "      <td>60874.0</td>\n",
              "      <td>1.368000e+03</td>\n",
              "      <td>0.0</td>\n",
              "      <td>0.0</td>\n",
              "      <td>0.0</td>\n",
              "      <td>0.0</td>\n",
              "      <td>0.0</td>\n",
              "      <td>0.0</td>\n",
              "      <td>43752.0</td>\n",
              "      <td>1966618.0</td>\n",
              "      <td>...</td>\n",
              "      <td>622012.0</td>\n",
              "      <td>229790.0</td>\n",
              "      <td>405298.0</td>\n",
              "      <td>347188.0</td>\n",
              "      <td>286954.0</td>\n",
              "      <td>311560.0</td>\n",
              "      <td>433954.0</td>\n",
              "      <td>1218.0</td>\n",
              "      <td>0.0</td>\n",
              "      <td>0.0</td>\n",
              "    </tr>\n",
              "  </tbody>\n",
              "</table>\n",
              "<p>5 rows × 146 columns</p>\n",
              "</div>"
            ],
            "text/plain": [
              "column_name   aa_000        ac_000  ae_000  af_000  ag_000  ag_001  ag_002  \\\n",
              "0            76698.0  2.130706e+09     0.0     0.0     0.0     0.0     0.0   \n",
              "1            33058.0  0.000000e+00     0.0     0.0     0.0     0.0     0.0   \n",
              "2            41040.0  2.280000e+02     0.0     0.0     0.0     0.0     0.0   \n",
              "3               12.0  7.000000e+01     0.0    10.0     0.0     0.0     0.0   \n",
              "4            60874.0  1.368000e+03     0.0     0.0     0.0     0.0     0.0   \n",
              "\n",
              "column_name  ag_003   ag_004     ag_005  ...     ee_002    ee_003    ee_004  \\\n",
              "0               0.0  37250.0  1432864.0  ...  1240520.0  493384.0  721044.0   \n",
              "1               0.0  18254.0   653294.0  ...   421400.0  178064.0  293306.0   \n",
              "2               0.0   1648.0   370592.0  ...   277378.0  159812.0  423992.0   \n",
              "3             318.0   2212.0     3232.0  ...      240.0      46.0      58.0   \n",
              "4               0.0  43752.0  1966618.0  ...   622012.0  229790.0  405298.0   \n",
              "\n",
              "column_name    ee_005    ee_006    ee_007    ee_008  ee_009  ef_000  eg_000  \n",
              "0            469792.0  339156.0  157956.0   73224.0     0.0     0.0     0.0  \n",
              "1            245416.0  133654.0   81140.0   97576.0  1500.0     0.0     0.0  \n",
              "2            409564.0  320746.0  158022.0   95128.0   514.0     0.0     0.0  \n",
              "3                44.0      10.0       0.0       0.0     0.0     4.0    32.0  \n",
              "4            347188.0  286954.0  311560.0  433954.0  1218.0     0.0     0.0  \n",
              "\n",
              "[5 rows x 146 columns]"
            ]
          },
          "execution_count": 36,
          "metadata": {},
          "output_type": "execute_result"
        }
      ],
      "source": [
        "X_train_v2.head(5)"
      ]
    },
    {
      "cell_type": "markdown",
      "metadata": {
        "id": "Mzto6bWbH6Ch"
      },
      "source": [
        "### Oversampling and undersampling\n",
        "\n",
        "A case of imbalanced representation of both classes."
      ]
    },
    {
      "cell_type": "code",
      "execution_count": null,
      "metadata": {
        "id": "OeiFKIpHH6Ch"
      },
      "outputs": [],
      "source": [
        "from sklearn.utils import resample"
      ]
    },
    {
      "cell_type": "code",
      "execution_count": null,
      "metadata": {
        "id": "BhQVY36oH6Ch"
      },
      "outputs": [],
      "source": [
        "# Separate the case of yes-subscribes and no-subscribes\n",
        "scania_neg = X_train_v2[train_df['class'] == 'neg']\n",
        "scania_pos = X_train_v2[train_df['class'] == 'pos']"
      ]
    },
    {
      "cell_type": "code",
      "execution_count": null,
      "metadata": {
        "id": "9hEaJiKLH6Ch",
        "outputId": "7105574d-73af-453e-be57-78f1260d1f30"
      },
      "outputs": [
        {
          "data": {
            "text/plain": [
              "(1000, 146)"
            ]
          },
          "execution_count": 39,
          "metadata": {},
          "output_type": "execute_result"
        }
      ],
      "source": [
        "scania_pos.shape"
      ]
    },
    {
      "cell_type": "code",
      "execution_count": null,
      "metadata": {
        "id": "XJB-fcCtH6Ch",
        "outputId": "6837253c-c16c-4d8c-8b89-cd5a3b9aed43"
      },
      "outputs": [
        {
          "data": {
            "text/plain": [
              "(59000, 146)"
            ]
          },
          "execution_count": 40,
          "metadata": {},
          "output_type": "execute_result"
        }
      ],
      "source": [
        "scania_neg.shape"
      ]
    },
    {
      "cell_type": "code",
      "execution_count": null,
      "metadata": {
        "id": "kHSR2GDFH6Ch"
      },
      "outputs": [],
      "source": [
        "##Upsample the yes-subscribed cases.\n",
        "scania_pos_upsampled = resample(scania_pos, \n",
        "                                replace=True,     # sample with replacement\n",
        "                                n_samples=10000) \n",
        "\n",
        "##Upsample the yes-subscribed cases.\n",
        "scania_neg_downsampled = resample(scania_neg, \n",
        "                                  replace=False,     # sample without replacement\n",
        "                                  n_samples=10000) \n",
        "\n",
        "# Combine majority class with upsampled minority class\n",
        "X_train_v3 = pd.concat([scania_pos_upsampled, scania_neg_downsampled])"
      ]
    },
    {
      "cell_type": "code",
      "execution_count": null,
      "metadata": {
        "colab": {
          "base_uri": "https://localhost:8080/"
        },
        "id": "6-w1-8SIH6Ci",
        "outputId": "9c1f1730-4c7a-4295-acef-92a0a31f8d1c"
      },
      "outputs": [
        {
          "name": "stdout",
          "output_type": "stream",
          "text": [
            "<class 'pandas.core.frame.DataFrame'>\n",
            "Int64Index: 20000 entries, 58936 to 42955\n",
            "Columns: 146 entries, aa_000 to eg_000\n",
            "dtypes: float64(146)\n",
            "memory usage: 22.4 MB\n"
          ]
        }
      ],
      "source": [
        "X_train_v3.info()"
      ]
    },
    {
      "cell_type": "markdown",
      "metadata": {
        "id": "19VrNDvpH6Ci"
      },
      "source": [
        "### Create Y Labels"
      ]
    },
    {
      "cell_type": "code",
      "execution_count": null,
      "metadata": {
        "id": "_AX2Dw9tH6Ci"
      },
      "outputs": [],
      "source": [
        "y_labels = [1] * 10000 + [0] * 10000"
      ]
    },
    {
      "cell_type": "code",
      "execution_count": null,
      "metadata": {
        "id": "GOnx-Og-H6Ci"
      },
      "outputs": [],
      "source": [
        "X_train_v3['class'] = y_labels"
      ]
    },
    {
      "cell_type": "code",
      "execution_count": null,
      "metadata": {
        "id": "Xp5ViVG3H6Ci"
      },
      "outputs": [],
      "source": [
        "from sklearn.utils import shuffle\n",
        "X_train_v4 = shuffle(X_train_v3)"
      ]
    },
    {
      "cell_type": "markdown",
      "metadata": {
        "id": "A7kJPEioH6Cj"
      },
      "source": [
        "### Create Test Set"
      ]
    },
    {
      "cell_type": "code",
      "execution_count": null,
      "metadata": {
        "id": "Vc92b8Ful1QR",
        "outputId": "4fe62aa8-6839-4406-9c62-7af8e3580088"
      },
      "outputs": [
        {
          "name": "stdout",
          "output_type": "stream",
          "text": [
            "--2022-03-18 19:42:27--  https://drive.google.com/uc?export=download&id=1_IhpNCJTAeiiaGa0MMRmluKKv9-eKMwk\n",
            "Resolving drive.google.com (drive.google.com)... 172.217.163.174, 2404:6800:4009:81f::200e\n",
            "Connecting to drive.google.com (drive.google.com)|172.217.163.174|:443... connected.\n",
            "HTTP request sent, awaiting response... 303 See Other\n",
            "Location: https://doc-14-44-docs.googleusercontent.com/docs/securesc/ha0ro937gcuc7l7deffksulhg5h7mbp1/842lk843gtf8ca1615gtih39thnvj1ft/1647612675000/03885802779803335284/*/1_IhpNCJTAeiiaGa0MMRmluKKv9-eKMwk?e=download [following]\n",
            "Warning: wildcards not supported in HTTP.\n",
            "--2022-03-18 19:42:27--  https://doc-14-44-docs.googleusercontent.com/docs/securesc/ha0ro937gcuc7l7deffksulhg5h7mbp1/842lk843gtf8ca1615gtih39thnvj1ft/1647612675000/03885802779803335284/*/1_IhpNCJTAeiiaGa0MMRmluKKv9-eKMwk?e=download\n",
            "Resolving doc-14-44-docs.googleusercontent.com (doc-14-44-docs.googleusercontent.com)... 142.250.192.97, 2404:6800:4007:82d::2001\n",
            "Connecting to doc-14-44-docs.googleusercontent.com (doc-14-44-docs.googleusercontent.com)|142.250.192.97|:443... connected.\n",
            "HTTP request sent, awaiting response... 200 OK\n",
            "Length: 11943558 (11M) [text/csv]\n",
            "Saving to: ‘test.csv’\n",
            "\n",
            "test.csv            100%[===================>]  11.39M  6.21MB/s    in 1.8s    \n",
            "\n",
            "2022-03-18 19:42:30 (6.21 MB/s) - ‘test.csv’ saved [11943558/11943558]\n",
            "\n"
          ]
        }
      ],
      "source": [
        "!wget \"https://drive.google.com/uc?export=download&id=1_IhpNCJTAeiiaGa0MMRmluKKv9-eKMwk\" -O test.csv"
      ]
    },
    {
      "cell_type": "code",
      "execution_count": null,
      "metadata": {
        "id": "0lOo8-9HH6Cj"
      },
      "outputs": [],
      "source": [
        "test_df = pd.read_csv('test.csv', skiprows=20)"
      ]
    },
    {
      "cell_type": "code",
      "execution_count": null,
      "metadata": {
        "id": "QGFi5SapH6Cj"
      },
      "outputs": [],
      "source": [
        "X_test = test_df.iloc[:,1:]"
      ]
    },
    {
      "cell_type": "code",
      "execution_count": null,
      "metadata": {
        "id": "x9i_GohLH6Cj"
      },
      "outputs": [],
      "source": [
        "X_test = X_test.apply(pd.to_numeric, \n",
        "                      errors='coerce', \n",
        "                      axis=0)"
      ]
    },
    {
      "cell_type": "code",
      "execution_count": null,
      "metadata": {
        "id": "FtAMDeItH6Cj"
      },
      "outputs": [],
      "source": [
        "X_test_v1 = imp.transform(X_test[X_features])"
      ]
    },
    {
      "cell_type": "code",
      "execution_count": null,
      "metadata": {
        "id": "tiu5MNY3H6Cj"
      },
      "outputs": [],
      "source": [
        "X_test_v1 = pd.DataFrame(X_test_v1)"
      ]
    },
    {
      "cell_type": "code",
      "execution_count": null,
      "metadata": {
        "id": "HQj4MZ4LH6Cj"
      },
      "outputs": [],
      "source": [
        "X_test_v1.columns = X_features"
      ]
    },
    {
      "cell_type": "code",
      "execution_count": null,
      "metadata": {
        "colab": {
          "base_uri": "https://localhost:8080/"
        },
        "id": "VqgL_tPlH6Cj",
        "outputId": "e6411f84-608d-4d06-ece8-fe7294c3eeaa"
      },
      "outputs": [
        {
          "data": {
            "text/plain": [
              "16000"
            ]
          },
          "execution_count": 53,
          "metadata": {},
          "output_type": "execute_result"
        }
      ],
      "source": [
        "len(X_test_v1)"
      ]
    },
    {
      "cell_type": "code",
      "execution_count": null,
      "metadata": {
        "colab": {
          "base_uri": "https://localhost:8080/"
        },
        "id": "T9faHeAUH6Ck",
        "outputId": "e99db846-1dff-4f33-dd57-9d0edae97e1d"
      },
      "outputs": [
        {
          "data": {
            "text/plain": [
              "16000"
            ]
          },
          "execution_count": 54,
          "metadata": {},
          "output_type": "execute_result"
        }
      ],
      "source": [
        "len(test_df)"
      ]
    },
    {
      "cell_type": "code",
      "execution_count": null,
      "metadata": {
        "colab": {
          "base_uri": "https://localhost:8080/"
        },
        "id": "dRHo98w3usUS",
        "outputId": "96ab48c9-49fa-42cd-9389-78e12d23e993"
      },
      "outputs": [
        {
          "data": {
            "text/plain": [
              "neg    15625\n",
              "pos      375\n",
              "Name: class, dtype: int64"
            ]
          },
          "execution_count": 55,
          "metadata": {},
          "output_type": "execute_result"
        }
      ],
      "source": [
        "test_df['class'].value_counts()"
      ]
    },
    {
      "cell_type": "code",
      "execution_count": null,
      "metadata": {
        "id": "t6NwkZaQH6Ck"
      },
      "outputs": [],
      "source": [
        "labels_dict = {'neg': 0, 'pos': 1}\n",
        "y_test = test_df['class'].map(labels_dict)"
      ]
    },
    {
      "cell_type": "code",
      "execution_count": null,
      "metadata": {
        "colab": {
          "base_uri": "https://localhost:8080/"
        },
        "id": "XL6K3ww3vUWD",
        "outputId": "3b08fa7e-3591-4ca4-eab5-263f769b90a5"
      },
      "outputs": [
        {
          "data": {
            "text/plain": [
              "0    15625\n",
              "1      375\n",
              "Name: class, dtype: int64"
            ]
          },
          "execution_count": 57,
          "metadata": {},
          "output_type": "execute_result"
        }
      ],
      "source": [
        "y_test.value_counts()"
      ]
    },
    {
      "cell_type": "markdown",
      "metadata": {
        "id": "BfDtD3B4H6Ck"
      },
      "source": [
        "### Participant Exercise: 3\n",
        "\n",
        "- Build a Decision tree model \n",
        "- predict on the test set\n",
        "- Build confusion matrix and measure recall score\n",
        "- Find the best model parameters"
      ]
    },
    {
      "cell_type": "code",
      "execution_count": null,
      "metadata": {
        "id": "Kr64SYAA_GoZ"
      },
      "outputs": [],
      "source": [
        "from sklearn.tree import DecisionTreeClassifier"
      ]
    },
    {
      "cell_type": "code",
      "execution_count": null,
      "metadata": {
        "id": "AhAcOnp6_SwY"
      },
      "outputs": [],
      "source": [
        "tree_v1 = DecisionTreeClassifier(max_depth = 10)"
      ]
    },
    {
      "cell_type": "code",
      "execution_count": null,
      "metadata": {
        "colab": {
          "base_uri": "https://localhost:8080/"
        },
        "id": "PyQqx0SP_jKk",
        "outputId": "59074211-1207-4fd9-c0e8-6cd9baddb045"
      },
      "outputs": [
        {
          "data": {
            "text/plain": [
              "DecisionTreeClassifier(max_depth=10)"
            ]
          },
          "execution_count": 60,
          "metadata": {},
          "output_type": "execute_result"
        }
      ],
      "source": [
        "tree_v1.fit(X_train_v4[X_features], X_train_v4['class'])"
      ]
    },
    {
      "cell_type": "code",
      "execution_count": null,
      "metadata": {
        "id": "vdLRjhncAFQg"
      },
      "outputs": [],
      "source": [
        "tree_pred_v1 = tree_v1.predict(X_test_v1)"
      ]
    },
    {
      "cell_type": "code",
      "execution_count": null,
      "metadata": {
        "id": "hcnMMtByAsDr"
      },
      "outputs": [],
      "source": [
        "from sklearn.metrics import confusion_matrix"
      ]
    },
    {
      "cell_type": "code",
      "execution_count": null,
      "metadata": {
        "id": "DPpG9CAkA4uy"
      },
      "outputs": [],
      "source": [
        "cm_v1 = confusion_matrix(y_test, tree_pred_v1, labels = [1, 0])"
      ]
    },
    {
      "cell_type": "code",
      "execution_count": null,
      "metadata": {
        "colab": {
          "base_uri": "https://localhost:8080/"
        },
        "id": "MUphITNnBFdX",
        "outputId": "07517fb0-e00a-44b3-cbae-cbe4e06c537b"
      },
      "outputs": [
        {
          "data": {
            "text/plain": [
              "array([[  333,    42],\n",
              "       [  429, 15196]])"
            ]
          },
          "execution_count": 64,
          "metadata": {},
          "output_type": "execute_result"
        }
      ],
      "source": [
        "cm_v1"
      ]
    },
    {
      "cell_type": "code",
      "execution_count": null,
      "metadata": {
        "id": "QiN4-KnWBHhO"
      },
      "outputs": [],
      "source": [
        "from sklearn.metrics import ConfusionMatrixDisplay"
      ]
    },
    {
      "cell_type": "code",
      "execution_count": null,
      "metadata": {
        "colab": {
          "base_uri": "https://localhost:8080/",
          "height": 279
        },
        "id": "AVvDcuAuDPLb",
        "outputId": "cbb20ff5-26a4-47fe-8db3-67847ea4b6a1"
      },
      "outputs": [
        {
          "data": {
            "image/png": "[encoded data removed]",
            "text/plain": [
              "<Figure size 432x288 with 2 Axes>"
            ]
          },
          "metadata": {
            "needs_background": "light"
          },
          "output_type": "display_data"
        }
      ],
      "source": [
        "ConfusionMatrixDisplay.from_predictions(y_test, tree_pred_v1, labels = [1,0], display_labels = ['Failure', 'No Failure']);"
      ]
    },
    {
      "cell_type": "code",
      "execution_count": null,
      "metadata": {
        "id": "40nHpW93D9yz"
      },
      "outputs": [],
      "source": [
        "from sklearn.metrics import recall_score"
      ]
    },
    {
      "cell_type": "code",
      "execution_count": null,
      "metadata": {
        "colab": {
          "base_uri": "https://localhost:8080/"
        },
        "id": "-BgEHFGWGnNE",
        "outputId": "51802e32-e7b8-421a-dd25-7df60f03a0d7"
      },
      "outputs": [
        {
          "data": {
            "text/plain": [
              "0.888"
            ]
          },
          "execution_count": 68,
          "metadata": {},
          "output_type": "execute_result"
        }
      ],
      "source": [
        "recall_score(y_test, tree_pred_v1)"
      ]
    },
    {
      "cell_type": "markdown",
      "metadata": {
        "id": "Z-akLpa5H6Ck"
      },
      "source": [
        "## Selecting Features using Feature Importance\n",
        "\n",
        "### Random Forest"
      ]
    },
    {
      "cell_type": "code",
      "execution_count": null,
      "metadata": {
        "id": "XoOhnuEcH6Ck"
      },
      "outputs": [],
      "source": [
        "from sklearn.ensemble import RandomForestClassifier"
      ]
    },
    {
      "cell_type": "code",
      "execution_count": null,
      "metadata": {
        "id": "8nEr1Z8xH6Ck"
      },
      "outputs": [],
      "source": [
        "rf_clf = RandomForestClassifier(n_estimators=100, max_depth=6)"
      ]
    },
    {
      "cell_type": "code",
      "execution_count": null,
      "metadata": {
        "colab": {
          "base_uri": "https://localhost:8080/"
        },
        "id": "J4uDv9WGH6Cl",
        "outputId": "e964ab14-88f4-4f00-99a2-84ca9ba2ca39"
      },
      "outputs": [
        {
          "data": {
            "text/plain": [
              "RandomForestClassifier(max_depth=6)"
            ]
          },
          "execution_count": 71,
          "metadata": {},
          "output_type": "execute_result"
        }
      ],
      "source": [
        "rf_clf.fit(X_train_v4[X_features], X_train_v4['class']) "
      ]
    },
    {
      "cell_type": "markdown",
      "metadata": {
        "id": "XwlR-pr1H7ws"
      },
      "source": [
        "### Participant Exercise: 5\n",
        "\n",
        "- Predict on the test data\n",
        "- Create a confusion matrix\n",
        "- Calculate the recall score"
      ]
    },
    {
      "cell_type": "code",
      "execution_count": null,
      "metadata": {
        "id": "s2CY9ZD8H6Cl"
      },
      "outputs": [],
      "source": [
        "features_df = pd.DataFrame({'feature': X_features,\n",
        "                            'importance': np.round(rf_clf.feature_importances_, 3) })"
      ]
    },
    {
      "cell_type": "code",
      "execution_count": null,
      "metadata": {
        "id": "WrXVY0wHH6Cl"
      },
      "outputs": [],
      "source": [
        "features_df = features_df.sort_values('importance', \n",
        "                                      ascending = False)"
      ]
    },
    {
      "cell_type": "code",
      "execution_count": null,
      "metadata": {
        "colab": {
          "base_uri": "https://localhost:8080/",
          "height": 423
        },
        "id": "_yGvcsuCKd1w",
        "outputId": "e472f648-f632-4cfd-c1ee-d5881ff93e82"
      },
      "outputs": [
        {
          "data": {
            "text/html": [
              "<div>\n",
              "<style scoped>\n",
              "    .dataframe tbody tr th:only-of-type {\n",
              "        vertical-align: middle;\n",
              "    }\n",
              "\n",
              "    .dataframe tbody tr th {\n",
              "        vertical-align: top;\n",
              "    }\n",
              "\n",
              "    .dataframe thead th {\n",
              "        text-align: right;\n",
              "    }\n",
              "</style>\n",
              "<table border=\"1\" class=\"dataframe\">\n",
              "  <thead>\n",
              "    <tr style=\"text-align: right;\">\n",
              "      <th></th>\n",
              "      <th>feature</th>\n",
              "      <th>importance</th>\n",
              "    </tr>\n",
              "  </thead>\n",
              "  <tbody>\n",
              "    <tr>\n",
              "      <th>ci_000</th>\n",
              "      <td>ci_000</td>\n",
              "      <td>0.109</td>\n",
              "    </tr>\n",
              "    <tr>\n",
              "      <th>ck_000</th>\n",
              "      <td>ck_000</td>\n",
              "      <td>0.066</td>\n",
              "    </tr>\n",
              "    <tr>\n",
              "      <th>aa_000</th>\n",
              "      <td>aa_000</td>\n",
              "      <td>0.065</td>\n",
              "    </tr>\n",
              "    <tr>\n",
              "      <th>bt_000</th>\n",
              "      <td>bt_000</td>\n",
              "      <td>0.065</td>\n",
              "    </tr>\n",
              "    <tr>\n",
              "      <th>bu_000</th>\n",
              "      <td>bu_000</td>\n",
              "      <td>0.049</td>\n",
              "    </tr>\n",
              "    <tr>\n",
              "      <th>...</th>\n",
              "      <td>...</td>\n",
              "      <td>...</td>\n",
              "    </tr>\n",
              "    <tr>\n",
              "      <th>ay_009</th>\n",
              "      <td>ay_009</td>\n",
              "      <td>0.000</td>\n",
              "    </tr>\n",
              "    <tr>\n",
              "      <th>cn_007</th>\n",
              "      <td>cn_007</td>\n",
              "      <td>0.000</td>\n",
              "    </tr>\n",
              "    <tr>\n",
              "      <th>cn_006</th>\n",
              "      <td>cn_006</td>\n",
              "      <td>0.000</td>\n",
              "    </tr>\n",
              "    <tr>\n",
              "      <th>az_004</th>\n",
              "      <td>az_004</td>\n",
              "      <td>0.000</td>\n",
              "    </tr>\n",
              "    <tr>\n",
              "      <th>eg_000</th>\n",
              "      <td>eg_000</td>\n",
              "      <td>0.000</td>\n",
              "    </tr>\n",
              "  </tbody>\n",
              "</table>\n",
              "<p>146 rows × 2 columns</p>\n",
              "</div>"
            ],
            "text/plain": [
              "       feature  importance\n",
              "ci_000  ci_000       0.109\n",
              "ck_000  ck_000       0.066\n",
              "aa_000  aa_000       0.065\n",
              "bt_000  bt_000       0.065\n",
              "bu_000  bu_000       0.049\n",
              "...        ...         ...\n",
              "ay_009  ay_009       0.000\n",
              "cn_007  cn_007       0.000\n",
              "cn_006  cn_006       0.000\n",
              "az_004  az_004       0.000\n",
              "eg_000  eg_000       0.000\n",
              "\n",
              "[146 rows x 2 columns]"
            ]
          },
          "execution_count": 74,
          "metadata": {},
          "output_type": "execute_result"
        }
      ],
      "source": [
        "features_df"
      ]
    },
    {
      "cell_type": "code",
      "execution_count": null,
      "metadata": {
        "colab": {
          "base_uri": "https://localhost:8080/",
          "height": 731
        },
        "id": "BwU2ia0_H6Cl",
        "outputId": "cfa89a48-e43d-4557-ff4a-3e8c714b8f74"
      },
      "outputs": [
        {
          "data": {
            "text/plain": [
              "<matplotlib.axes._subplots.AxesSubplot at 0x7fcd7df0faf0>"
            ]
          },
          "execution_count": 75,
          "metadata": {},
          "output_type": "execute_result"
        },
        {
          "data": {
            "image/png": "[encoded data removed]",
            "text/plain": [
              "<Figure size 432x864 with 1 Axes>"
            ]
          },
          "metadata": {
            "needs_background": "light"
          },
          "output_type": "display_data"
        }
      ],
      "source": [
        "plt.figure(figsize=(6,12))\n",
        "sn.barplot(y = 'feature', \n",
        "           x = 'importance', \n",
        "           data = features_df[0:50])"
      ]
    },
    {
      "cell_type": "code",
      "execution_count": null,
      "metadata": {
        "colab": {
          "base_uri": "https://localhost:8080/",
          "height": 296
        },
        "id": "cBkpTc8fH6Cl",
        "outputId": "28df2dd9-eada-4e23-8bc6-0bd6d14bb31a"
      },
      "outputs": [
        {
          "data": {
            "text/plain": [
              "<matplotlib.axes._subplots.AxesSubplot at 0x7fcdae7afac0>"
            ]
          },
          "execution_count": 76,
          "metadata": {},
          "output_type": "execute_result"
        },
        {
          "data": {
            "image/png": "[encoded data removed]",
            "text/plain": [
              "<Figure size 288x288 with 1 Axes>"
            ]
          },
          "metadata": {
            "needs_background": "light"
          },
          "output_type": "display_data"
        }
      ],
      "source": [
        "plt.figure(figsize=(4,4))\n",
        "sn.barplot(y = 'feature', \n",
        "           x = 'importance', \n",
        "           data = features_df[-20:])"
      ]
    },
    {
      "cell_type": "markdown",
      "metadata": {
        "id": "fuYjNABzH6Cl"
      },
      "source": [
        "### Exploring the important features"
      ]
    },
    {
      "cell_type": "code",
      "execution_count": null,
      "metadata": {
        "id": "hLc5vZM3H6Cm",
        "outputId": "029c1287-dc59-41d5-d791-b3906ba9b524"
      },
      "outputs": [
        {
          "data": {
            "text/plain": [
              "<matplotlib.legend.Legend at 0x7fcd7dd64580>"
            ]
          },
          "execution_count": 77,
          "metadata": {},
          "output_type": "execute_result"
        },
        {
          "data": {
            "image/png": "[encoded data removed]",
            "text/plain": [
              "<Figure size 576x432 with 1 Axes>"
            ]
          },
          "metadata": {
            "needs_background": "light"
          },
          "output_type": "display_data"
        }
      ],
      "source": [
        "plt.figure(figsize=(8,6))\n",
        "sn.distplot(X_train[train_df['class'] == 'neg']['ck_000'].dropna(), label = 'neg');\n",
        "sn.distplot(X_train[train_df['class'] == 'pos']['ck_000'].dropna(), label = 'pos');\n",
        "plt.legend()"
      ]
    },
    {
      "cell_type": "code",
      "execution_count": null,
      "metadata": {
        "id": "RLOGyCqdH6Cm",
        "outputId": "ce56a0ac-c51d-44dd-aa20-646c5a632209"
      },
      "outputs": [
        {
          "data": {
            "text/plain": [
              "<matplotlib.legend.Legend at 0x7fcd7dd64880>"
            ]
          },
          "execution_count": 78,
          "metadata": {},
          "output_type": "execute_result"
        },
        {
          "data": {
            "image/png": "[encoded data removed]",
            "text/plain": [
              "<Figure size 576x432 with 1 Axes>"
            ]
          },
          "metadata": {
            "needs_background": "light"
          },
          "output_type": "display_data"
        }
      ],
      "source": [
        "plt.figure(figsize=(8,6))\n",
        "sn.distplot(X_train[train_df['class'] == 'neg']['eg_000'].dropna(), label = 'neg');\n",
        "sn.distplot(X_train[train_df['class'] == 'pos']['eg_000'].dropna(), label = 'pos');\n",
        "plt.legend()"
      ]
    },
    {
      "cell_type": "markdown",
      "metadata": {
        "id": "QGyWOoVvH6Cm"
      },
      "source": [
        "### Participant Exercise: 5\n",
        "\n",
        "- Explore the distribution two more important and two not-important variables and note down the observations.\n",
        "- Find out how many variables should be chosen for the final model"
      ]
    },
    {
      "cell_type": "markdown",
      "metadata": {
        "id": "Mu7QYn8DH6Cm"
      },
      "source": [
        "### Selecting the important variables"
      ]
    },
    {
      "cell_type": "code",
      "execution_count": null,
      "metadata": {
        "id": "xWyskbJTH6Cm"
      },
      "outputs": [],
      "source": [
        "features_df['cum_sum'] = features_df.importance.cumsum()"
      ]
    },
    {
      "cell_type": "code",
      "execution_count": null,
      "metadata": {
        "colab": {
          "base_uri": "https://localhost:8080/",
          "height": 423
        },
        "id": "ZeY6feA-OzLw",
        "outputId": "90ee12b5-ca32-4546-b7d6-df1411437e20"
      },
      "outputs": [
        {
          "data": {
            "text/html": [
              "<div>\n",
              "<style scoped>\n",
              "    .dataframe tbody tr th:only-of-type {\n",
              "        vertical-align: middle;\n",
              "    }\n",
              "\n",
              "    .dataframe tbody tr th {\n",
              "        vertical-align: top;\n",
              "    }\n",
              "\n",
              "    .dataframe thead th {\n",
              "        text-align: right;\n",
              "    }\n",
              "</style>\n",
              "<table border=\"1\" class=\"dataframe\">\n",
              "  <thead>\n",
              "    <tr style=\"text-align: right;\">\n",
              "      <th></th>\n",
              "      <th>feature</th>\n",
              "      <th>importance</th>\n",
              "      <th>cum_sum</th>\n",
              "    </tr>\n",
              "  </thead>\n",
              "  <tbody>\n",
              "    <tr>\n",
              "      <th>ci_000</th>\n",
              "      <td>ci_000</td>\n",
              "      <td>0.109</td>\n",
              "      <td>0.109</td>\n",
              "    </tr>\n",
              "    <tr>\n",
              "      <th>ck_000</th>\n",
              "      <td>ck_000</td>\n",
              "      <td>0.066</td>\n",
              "      <td>0.175</td>\n",
              "    </tr>\n",
              "    <tr>\n",
              "      <th>aa_000</th>\n",
              "      <td>aa_000</td>\n",
              "      <td>0.065</td>\n",
              "      <td>0.240</td>\n",
              "    </tr>\n",
              "    <tr>\n",
              "      <th>bt_000</th>\n",
              "      <td>bt_000</td>\n",
              "      <td>0.065</td>\n",
              "      <td>0.305</td>\n",
              "    </tr>\n",
              "    <tr>\n",
              "      <th>bu_000</th>\n",
              "      <td>bu_000</td>\n",
              "      <td>0.049</td>\n",
              "      <td>0.354</td>\n",
              "    </tr>\n",
              "    <tr>\n",
              "      <th>...</th>\n",
              "      <td>...</td>\n",
              "      <td>...</td>\n",
              "      <td>...</td>\n",
              "    </tr>\n",
              "    <tr>\n",
              "      <th>ay_009</th>\n",
              "      <td>ay_009</td>\n",
              "      <td>0.000</td>\n",
              "      <td>0.989</td>\n",
              "    </tr>\n",
              "    <tr>\n",
              "      <th>cn_007</th>\n",
              "      <td>cn_007</td>\n",
              "      <td>0.000</td>\n",
              "      <td>0.989</td>\n",
              "    </tr>\n",
              "    <tr>\n",
              "      <th>cn_006</th>\n",
              "      <td>cn_006</td>\n",
              "      <td>0.000</td>\n",
              "      <td>0.989</td>\n",
              "    </tr>\n",
              "    <tr>\n",
              "      <th>az_004</th>\n",
              "      <td>az_004</td>\n",
              "      <td>0.000</td>\n",
              "      <td>0.989</td>\n",
              "    </tr>\n",
              "    <tr>\n",
              "      <th>eg_000</th>\n",
              "      <td>eg_000</td>\n",
              "      <td>0.000</td>\n",
              "      <td>0.989</td>\n",
              "    </tr>\n",
              "  </tbody>\n",
              "</table>\n",
              "<p>146 rows × 3 columns</p>\n",
              "</div>"
            ],
            "text/plain": [
              "       feature  importance  cum_sum\n",
              "ci_000  ci_000       0.109    0.109\n",
              "ck_000  ck_000       0.066    0.175\n",
              "aa_000  aa_000       0.065    0.240\n",
              "bt_000  bt_000       0.065    0.305\n",
              "bu_000  bu_000       0.049    0.354\n",
              "...        ...         ...      ...\n",
              "ay_009  ay_009       0.000    0.989\n",
              "cn_007  cn_007       0.000    0.989\n",
              "cn_006  cn_006       0.000    0.989\n",
              "az_004  az_004       0.000    0.989\n",
              "eg_000  eg_000       0.000    0.989\n",
              "\n",
              "[146 rows x 3 columns]"
            ]
          },
          "execution_count": 80,
          "metadata": {},
          "output_type": "execute_result"
        }
      ],
      "source": [
        "features_df"
      ]
    },
    {
      "cell_type": "code",
      "execution_count": null,
      "metadata": {
        "id": "Y10vI7iVH6Cm"
      },
      "outputs": [],
      "source": [
        "X_selected_features = features_df[features_df.cum_sum < 0.90]['feature']"
      ]
    },
    {
      "cell_type": "code",
      "execution_count": null,
      "metadata": {
        "colab": {
          "base_uri": "https://localhost:8080/"
        },
        "id": "P2kaysduH6Cm",
        "outputId": "fa946f13-0bf7-44b8-d536-63119b189629"
      },
      "outputs": [
        {
          "data": {
            "text/plain": [
              "29"
            ]
          },
          "execution_count": 82,
          "metadata": {},
          "output_type": "execute_result"
        }
      ],
      "source": [
        "len(X_selected_features)"
      ]
    },
    {
      "cell_type": "markdown",
      "metadata": {
        "id": "z_ZZATpAH6Cn"
      },
      "source": [
        "### Build a Random Forest Model"
      ]
    },
    {
      "cell_type": "code",
      "execution_count": null,
      "metadata": {
        "colab": {
          "base_uri": "https://localhost:8080/"
        },
        "id": "mbI6QP6PZ35i",
        "outputId": "22fcc369-bf1b-41a7-e93d-6b5e788e8979"
      },
      "outputs": [
        {
          "data": {
            "text/plain": [
              "RandomForestClassifier(max_depth=6)"
            ]
          },
          "execution_count": 83,
          "metadata": {},
          "output_type": "execute_result"
        }
      ],
      "source": [
        "rf_clf = RandomForestClassifier(n_estimators=100, max_depth=6)\n",
        "\n",
        "rf_clf.fit(X_train_v4[X_selected_features], X_train_v4['class']) "
      ]
    },
    {
      "cell_type": "code",
      "execution_count": null,
      "metadata": {
        "colab": {
          "base_uri": "https://localhost:8080/",
          "height": 279
        },
        "id": "lPOgPdFeaF84",
        "outputId": "77a7f0df-0f01-49d6-f727-71fe8819cd8b"
      },
      "outputs": [
        {
          "data": {
            "image/png": "[encoded data removed]",
            "text/plain": [
              "<Figure size 432x288 with 2 Axes>"
            ]
          },
          "metadata": {
            "needs_background": "light"
          },
          "output_type": "display_data"
        }
      ],
      "source": [
        "rf_pred_v1 = rf_clf.predict(X_test_v1[X_selected_features])\n",
        "cm_v1 = confusion_matrix(y_test, rf_pred_v1, labels = [1, 0])\n",
        "ConfusionMatrixDisplay.from_predictions(y_test, rf_pred_v1, labels = [1,0], display_labels = ['Failure', 'No Failure']);"
      ]
    },
    {
      "cell_type": "code",
      "execution_count": null,
      "metadata": {
        "colab": {
          "base_uri": "https://localhost:8080/"
        },
        "id": "9vO1iezjautK",
        "outputId": "3a1dbe16-f698-44a2-c634-7ed59fb9fde2"
      },
      "outputs": [
        {
          "data": {
            "text/plain": [
              "0.9546666666666667"
            ]
          },
          "execution_count": 85,
          "metadata": {},
          "output_type": "execute_result"
        }
      ],
      "source": [
        "recall_score(y_test, rf_pred_v1)"
      ]
    },
    {
      "cell_type": "markdown",
      "metadata": {
        "id": "ojQNVzdqH6Cn"
      },
      "source": [
        "### Hyperparamter tuning to find optimal Model"
      ]
    },
    {
      "cell_type": "code",
      "execution_count": null,
      "metadata": {
        "id": "Oig3cAFGH6Cn"
      },
      "outputs": [],
      "source": [
        "from sklearn.model_selection import GridSearchCV"
      ]
    },
    {
      "cell_type": "code",
      "execution_count": null,
      "metadata": {
        "id": "MP3-mDcgH6Cn"
      },
      "outputs": [],
      "source": [
        "rf_v1 = RandomForestClassifier()"
      ]
    },
    {
      "cell_type": "code",
      "execution_count": null,
      "metadata": {
        "id": "yroR7nltH6Cn"
      },
      "outputs": [],
      "source": [
        "rf_params = {'n_estimators': [10, 20, 50],\n",
        "             'max_features': [8, 12],\n",
        "             'max_depth': [5, 7]}"
      ]
    },
    {
      "cell_type": "code",
      "execution_count": null,
      "metadata": {
        "id": "JfrKbGfVH6Cn"
      },
      "outputs": [],
      "source": [
        "rf_grid = GridSearchCV(rf_v1, \n",
        "                       rf_params,\n",
        "                       scoring = 'recall',\n",
        "                       cv = 10)"
      ]
    },
    {
      "cell_type": "code",
      "execution_count": null,
      "metadata": {
        "colab": {
          "base_uri": "https://localhost:8080/"
        },
        "id": "Rmq5WvibH6Cn",
        "outputId": "9e02f1c8-78e6-4581-fa6e-7519eeed1ba6"
      },
      "outputs": [
        {
          "data": {
            "text/plain": [
              "GridSearchCV(cv=10, estimator=RandomForestClassifier(),\n",
              "             param_grid={'max_depth': [5, 7], 'max_features': [8, 12],\n",
              "                         'n_estimators': [10, 20, 50]},\n",
              "             scoring='recall')"
            ]
          },
          "execution_count": 90,
          "metadata": {},
          "output_type": "execute_result"
        }
      ],
      "source": [
        "rf_grid.fit(X_train_v4[X_selected_features], \n",
        "            X_train_v4['class'])"
      ]
    },
    {
      "cell_type": "code",
      "execution_count": null,
      "metadata": {
        "colab": {
          "base_uri": "https://localhost:8080/"
        },
        "id": "ZaRWK-KAH6Co",
        "outputId": "17bad4d7-0121-43fc-cc4a-f1abe7658496"
      },
      "outputs": [
        {
          "data": {
            "text/plain": [
              "0.9848000000000001"
            ]
          },
          "execution_count": 91,
          "metadata": {},
          "output_type": "execute_result"
        }
      ],
      "source": [
        "rf_grid.best_score_"
      ]
    },
    {
      "cell_type": "code",
      "execution_count": null,
      "metadata": {
        "colab": {
          "base_uri": "https://localhost:8080/"
        },
        "id": "kL5ytay3eKNr",
        "outputId": "fb265fd2-990e-44a5-e615-503106a5d8e2"
      },
      "outputs": [
        {
          "data": {
            "text/plain": [
              "{'max_depth': 7, 'max_features': 12, 'n_estimators': 20}"
            ]
          },
          "execution_count": 92,
          "metadata": {},
          "output_type": "execute_result"
        }
      ],
      "source": [
        "rf_grid.best_params_"
      ]
    },
    {
      "cell_type": "code",
      "execution_count": null,
      "metadata": {
        "id": "Z4lJfaXYH6Co"
      },
      "outputs": [],
      "source": [
        "rf_model_v1 = rf_grid.best_estimator_"
      ]
    },
    {
      "cell_type": "markdown",
      "metadata": {
        "id": "rVBBoAWWedFf"
      },
      "source": [
        "### Participant Exercise: 6\n",
        "\n",
        "- Build confusion matrix and calculate recall score on test set with the best model"
      ]
    },
    {
      "cell_type": "code",
      "execution_count": null,
      "metadata": {
        "colab": {
          "base_uri": "https://localhost:8080/",
          "height": 279
        },
        "id": "vu2LBdmDeZBo",
        "outputId": "345a4dc3-fd9a-409c-8599-9cc7a92ee15a"
      },
      "outputs": [
        {
          "data": {
            "image/png": "[encoded data removed]",
            "text/plain": [
              "<Figure size 432x288 with 2 Axes>"
            ]
          },
          "metadata": {
            "needs_background": "light"
          },
          "output_type": "display_data"
        }
      ],
      "source": [
        "rf_pred_v1 = rf_model_v1.predict(X_test_v1[X_selected_features])\n",
        "cm_v1 = confusion_matrix(y_test, rf_pred_v1, labels = [1, 0])\n",
        "ConfusionMatrixDisplay.from_predictions(y_test, rf_pred_v1, labels = [1,0], display_labels = ['Failure', 'No Failure']);"
      ]
    },
    {
      "cell_type": "code",
      "execution_count": null,
      "metadata": {
        "id": "Nai2116EH6Co"
      },
      "outputs": [],
      "source": [
        "rf_pred_prob_v1 = rf_model_v1.predict_proba(X_test_v1[X_selected_features])"
      ]
    },
    {
      "cell_type": "code",
      "execution_count": null,
      "metadata": {
        "id": "wAGzGW5GH6Co"
      },
      "outputs": [],
      "source": [
        "rf_pred_df = pd.DataFrame({'label': y_test,\n",
        "                           'prob': rf_pred_prob_v1[:,1]})"
      ]
    },
    {
      "cell_type": "code",
      "execution_count": null,
      "metadata": {
        "id": "XWf6WbWlH6Co",
        "outputId": "52858110-96fa-4b4b-8408-687c3314d132"
      },
      "outputs": [
        {
          "data": {
            "text/html": [
              "<div>\n",
              "<style scoped>\n",
              "    .dataframe tbody tr th:only-of-type {\n",
              "        vertical-align: middle;\n",
              "    }\n",
              "\n",
              "    .dataframe tbody tr th {\n",
              "        vertical-align: top;\n",
              "    }\n",
              "\n",
              "    .dataframe thead th {\n",
              "        text-align: right;\n",
              "    }\n",
              "</style>\n",
              "<table border=\"1\" class=\"dataframe\">\n",
              "  <thead>\n",
              "    <tr style=\"text-align: right;\">\n",
              "      <th></th>\n",
              "      <th>label</th>\n",
              "      <th>prob</th>\n",
              "    </tr>\n",
              "  </thead>\n",
              "  <tbody>\n",
              "    <tr>\n",
              "      <th>0</th>\n",
              "      <td>0</td>\n",
              "      <td>0.016077</td>\n",
              "    </tr>\n",
              "    <tr>\n",
              "      <th>1</th>\n",
              "      <td>0</td>\n",
              "      <td>0.053089</td>\n",
              "    </tr>\n",
              "    <tr>\n",
              "      <th>2</th>\n",
              "      <td>0</td>\n",
              "      <td>0.111220</td>\n",
              "    </tr>\n",
              "    <tr>\n",
              "      <th>3</th>\n",
              "      <td>0</td>\n",
              "      <td>0.013039</td>\n",
              "    </tr>\n",
              "    <tr>\n",
              "      <th>4</th>\n",
              "      <td>0</td>\n",
              "      <td>0.016077</td>\n",
              "    </tr>\n",
              "  </tbody>\n",
              "</table>\n",
              "</div>"
            ],
            "text/plain": [
              "   label      prob\n",
              "0      0  0.016077\n",
              "1      0  0.053089\n",
              "2      0  0.111220\n",
              "3      0  0.013039\n",
              "4      0  0.016077"
            ]
          },
          "execution_count": 97,
          "metadata": {},
          "output_type": "execute_result"
        }
      ],
      "source": [
        "rf_pred_df.head(5)"
      ]
    },
    {
      "cell_type": "code",
      "execution_count": null,
      "metadata": {
        "id": "qNsn4A2dH6Co",
        "outputId": "240b2d8d-6d70-4618-935c-b0a10b91c115"
      },
      "outputs": [
        {
          "data": {
            "image/png": "[encoded data removed]",
            "text/plain": [
              "<Figure size 432x288 with 1 Axes>"
            ]
          },
          "metadata": {
            "needs_background": "light"
          },
          "output_type": "display_data"
        }
      ],
      "source": [
        "sn.distplot(rf_pred_df[rf_pred_df.label == 0]['prob'], label = 'neg')\n",
        "sn.distplot(rf_pred_df[rf_pred_df.label == 1]['prob'], label = 'pos')\n",
        "plt.legend();"
      ]
    },
    {
      "cell_type": "markdown",
      "metadata": {
        "id": "U5J7Y5IgH6Cp"
      },
      "source": [
        "### What happens when the cutoff probability if changed"
      ]
    },
    {
      "cell_type": "markdown",
      "metadata": {
        "id": "NmldAHtjH6Cp"
      },
      "source": [
        "### Finding cutoff using cost based approach"
      ]
    },
    {
      "cell_type": "markdown",
      "metadata": {
        "id": "-5u07soIH6Cp"
      },
      "source": [
        "The total cost of a prediction model the sum of Cost_1 multiplied by the number of Instances with type 1 failure and Cost_2 with the number of instances with type 2 failure, resulting in a Total_cost. In this case Cost_1 refers to the cost that an unnecessary check needs to be done by an mechanic at an workshop, while Cost_2 refer to the cost of missing a faulty truck, which may cause a breakdown. Cost_1 = 10 and Cost_2 = 500, and Total_cost = Cost_1*No_Instances "
      ]
    },
    {
      "cell_type": "code",
      "execution_count": null,
      "metadata": {
        "id": "2Rwh8RbXH6Cp"
      },
      "outputs": [],
      "source": [
        "FN_cost = 500.0\n",
        "FP_cost = 10.0"
      ]
    },
    {
      "cell_type": "code",
      "execution_count": null,
      "metadata": {
        "id": "LZ-daIcjH6Cp"
      },
      "outputs": [],
      "source": [
        "from sklearn.metrics import confusion_matrix"
      ]
    },
    {
      "cell_type": "code",
      "execution_count": null,
      "metadata": {
        "id": "kOFvASEDH6Cp"
      },
      "outputs": [],
      "source": [
        "def get_cost( cutoff ):    \n",
        "    new_pred = rf_pred_df.prob.map(lambda x: 1 if x >= cutoff else 0)\n",
        "    cm_new = confusion_matrix(rf_pred_df.label, new_pred, labels = [1,0])\n",
        "    total_cost = FN_cost * cm_new[0][1] + FP_cost * cm_new[1][0]\n",
        "    return total_cost"
      ]
    },
    {
      "cell_type": "code",
      "execution_count": null,
      "metadata": {
        "id": "4zrrWvJNH6Cp"
      },
      "outputs": [],
      "source": [
        "import numpy as np\n",
        "\n",
        "cutoff_list = list(np.arange(0.0, 0.8, 0.01))\n",
        "cutoff_costs = [get_cost(x) for x in cutoff_list]"
      ]
    },
    {
      "cell_type": "code",
      "execution_count": null,
      "metadata": {
        "id": "wiqVSsmPH6Cq"
      },
      "outputs": [],
      "source": [
        "cutoff_costs_df = pd.DataFrame({'cutoff': cutoff_list,\n",
        "                                'cost': cutoff_costs})"
      ]
    },
    {
      "cell_type": "code",
      "execution_count": null,
      "metadata": {
        "id": "Qhlanqg1H6Cq",
        "outputId": "64683ecc-5909-4a87-c6bc-185f6a977558"
      },
      "outputs": [
        {
          "data": {
            "text/html": [
              "<div>\n",
              "<style scoped>\n",
              "    .dataframe tbody tr th:only-of-type {\n",
              "        vertical-align: middle;\n",
              "    }\n",
              "\n",
              "    .dataframe tbody tr th {\n",
              "        vertical-align: top;\n",
              "    }\n",
              "\n",
              "    .dataframe thead th {\n",
              "        text-align: right;\n",
              "    }\n",
              "</style>\n",
              "<table border=\"1\" class=\"dataframe\">\n",
              "  <thead>\n",
              "    <tr style=\"text-align: right;\">\n",
              "      <th></th>\n",
              "      <th>cutoff</th>\n",
              "      <th>cost</th>\n",
              "    </tr>\n",
              "  </thead>\n",
              "  <tbody>\n",
              "    <tr>\n",
              "      <th>24</th>\n",
              "      <td>0.24</td>\n",
              "      <td>11830.0</td>\n",
              "    </tr>\n",
              "    <tr>\n",
              "      <th>32</th>\n",
              "      <td>0.32</td>\n",
              "      <td>11970.0</td>\n",
              "    </tr>\n",
              "    <tr>\n",
              "      <th>23</th>\n",
              "      <td>0.23</td>\n",
              "      <td>12060.0</td>\n",
              "    </tr>\n",
              "    <tr>\n",
              "      <th>25</th>\n",
              "      <td>0.25</td>\n",
              "      <td>12110.0</td>\n",
              "    </tr>\n",
              "    <tr>\n",
              "      <th>31</th>\n",
              "      <td>0.31</td>\n",
              "      <td>12110.0</td>\n",
              "    </tr>\n",
              "  </tbody>\n",
              "</table>\n",
              "</div>"
            ],
            "text/plain": [
              "    cutoff     cost\n",
              "24    0.24  11830.0\n",
              "32    0.32  11970.0\n",
              "23    0.23  12060.0\n",
              "25    0.25  12110.0\n",
              "31    0.31  12110.0"
            ]
          },
          "execution_count": 106,
          "metadata": {},
          "output_type": "execute_result"
        }
      ],
      "source": [
        "cutoff_costs_df.sort_values('cost', ascending=True)[0:5]"
      ]
    },
    {
      "cell_type": "code",
      "execution_count": null,
      "metadata": {
        "id": "Rd6inwK6H6Cq"
      },
      "outputs": [],
      "source": [
        "rf_pred_df['pred_labels'] = rf_pred_df.prob.map(lambda x: 1 if x > 0.25 else 0)"
      ]
    },
    {
      "cell_type": "code",
      "execution_count": null,
      "metadata": {
        "id": "L3kPR3RuH6Cq"
      },
      "outputs": [],
      "source": [
        "cm_rf = confusion_matrix(rf_pred_df.label, rf_pred_df.pred_labels, labels = [1,0])"
      ]
    },
    {
      "cell_type": "code",
      "execution_count": null,
      "metadata": {
        "id": "Yt_Teu5DH6Cq",
        "outputId": "99c85612-de08-48de-edb4-44b8318e2b0a"
      },
      "outputs": [
        {
          "data": {
            "text/plain": [
              "Text(33.0, 0.5, 'Actual')"
            ]
          },
          "execution_count": 110,
          "metadata": {},
          "output_type": "execute_result"
        },
        {
          "data": {
            "image/png": "[encoded data removed]",
            "text/plain": [
              "<Figure size 432x288 with 2 Axes>"
            ]
          },
          "metadata": {
            "needs_background": "light"
          },
          "output_type": "display_data"
        }
      ],
      "source": [
        "sn.heatmap(cm_rf,\n",
        "           fmt='.0f',\n",
        "           annot = True,\n",
        "           xticklabels = ['Left', 'No Left'],\n",
        "           yticklabels = ['Left', 'No Left'])\n",
        "plt.xlabel('Predicted')\n",
        "plt.ylabel('Actual')"
      ]
    },
    {
      "cell_type": "code",
      "execution_count": null,
      "metadata": {
        "id": "cgr_48vyl1Qd"
      },
      "outputs": [],
      "source": [
        ""
      ]
    }
  ],
  "metadata": {
    "colab": {
      "name": "Scania Truck Failure Prediction 1.0.ipynb",
      "provenance": []
    },
    "kernelspec": {
      "display_name": "Python 3",
      "language": "python",
      "name": "python3"
    },
    "language_info": {
      "codemirror_mode": {
        "name": "ipython",
        "version": 3
      },
      "file_extension": ".py",
      "mimetype": "text/x-python",
      "name": "python",
      "nbconvert_exporter": "python",
      "pygments_lexer": "ipython3",
      "version": "3.8.3"
    }
  },
  "nbformat": 4,
  "nbformat_minor": 0
}